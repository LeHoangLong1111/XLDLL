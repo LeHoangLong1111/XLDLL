{
  "nbformat": 4,
  "nbformat_minor": 0,
  "metadata": {
    "colab": {
      "name": "Lê Hoàng Long _ 518H0035.ipynb",
      "provenance": [],
      "collapsed_sections": []
    },
    "kernelspec": {
      "name": "python3",
      "display_name": "Python 3"
    },
    "language_info": {
      "name": "python"
    }
  },
  "cells": [
    {
      "cell_type": "code",
      "metadata": {
        "id": "alClYJEaJKk_"
      },
      "source": [
        "##1"
      ],
      "execution_count": null,
      "outputs": []
    },
    {
      "cell_type": "code",
      "metadata": {
        "id": "dW12MkioJhSt"
      },
      "source": [
        "import math\n",
        "import numpy as np\n",
        "from decimal import Decimal\n",
        "import pandas as pd\n",
        "import random\n",
        "\n",
        "def euclidean_distance(a, b):\n",
        "  return math.sqrt(sum([(val1 - val2) ** 2 for val1, val2 in zip(a, b)]))\n",
        "\n"
      ],
      "execution_count": 1,
      "outputs": []
    },
    {
      "cell_type": "code",
      "metadata": {
        "id": "GvdH6XckMBYS"
      },
      "source": [
        "def manhattan_distance(a, b):\n",
        "  return sum(abs(val1-val2) for val1, val2 in zip(a,b))"
      ],
      "execution_count": 2,
      "outputs": []
    },
    {
      "cell_type": "code",
      "metadata": {
        "id": "OwhVhvPOMDXT"
      },
      "source": [
        "def root(value, root):\n",
        "  root_value = 1 / float(root)\n",
        "  return round (Decimal(value) ** Decimal(root_value), 3)\n",
        "\n",
        "def minkowski_distance(a, b, p_value):\n",
        "  return (root(sum(pow(abs(x-y), p_value) for x, y in zip(a, b)), p_value))"
      ],
      "execution_count": 3,
      "outputs": []
    },
    {
      "cell_type": "code",
      "metadata": {
        "id": "mmrx2uv3M5ji"
      },
      "source": [
        "def cosine_similarity(a, b):\n",
        "  sumxx, sumxy, sumyy = 0, 0, 0\n",
        "  for i in range(len(a)):\n",
        "    x = a[i]; y = b[i]\n",
        "    sumxx += x*x\n",
        "    sumyy += y*y\n",
        "    sumxy += x*y\n",
        "  return sumxy/math.sqrt(sumxx*sumyy)\n"
      ],
      "execution_count": 4,
      "outputs": []
    },
    {
      "cell_type": "code",
      "metadata": {
        "id": "TayPN2kdNmkI"
      },
      "source": [
        "def jaccard_similarity(a, b):\n",
        "    intersection = np.logical_and(a, b)\n",
        "    union = np.logical_or(a, b)\n",
        "    similarity = intersection.sum() / float(union.sum())\n",
        "    return similarity"
      ],
      "execution_count": 5,
      "outputs": []
    },
    {
      "cell_type": "code",
      "metadata": {
        "id": "heoao5sWPSus"
      },
      "source": [
        "df = pd.read_csv('/content/C-Lab.csv')\n",
        "energy = df['energy'].values"
      ],
      "execution_count": 6,
      "outputs": []
    },
    {
      "cell_type": "code",
      "metadata": {
        "colab": {
          "base_uri": "https://localhost:8080/"
        },
        "id": "a5m4SeiiPpgg",
        "outputId": "0204415c-5966-44d9-96c4-342e9e4c73ec"
      },
      "source": [
        "A = int(random.choice(energy))\n",
        "B = int(random.choice(energy))\n",
        "A = [int(x) for x in str(A)]\n",
        "B = [int(y) for y in str(B)]\n",
        "\n",
        "if len(A)<len(B): \n",
        "  A.insert(0, 0) \n",
        "if len(A)>len(B): \n",
        "  B.insert(0, 0) \n",
        "A, B"
      ],
      "execution_count": 7,
      "outputs": [
        {
          "output_type": "execute_result",
          "data": {
            "text/plain": [
              "([0, 9, 4], [1, 2, 9])"
            ]
          },
          "metadata": {},
          "execution_count": 7
        }
      ]
    },
    {
      "cell_type": "code",
      "metadata": {
        "colab": {
          "base_uri": "https://localhost:8080/"
        },
        "id": "V6WtR3FuQ85U",
        "outputId": "d2c206f4-0310-47a3-af9d-14215cf3bee0"
      },
      "source": [
        "print( \"Euclidean Distance:\", euclidean_distance(A, B))\n",
        "print( \"Manhattan Distance:\", manhattan_distance(A, B))\n",
        "print(\"Minkowski Distance:\", minkowski_distance(A, B, 2))\n",
        "print(\"Cosine Similarity:\", cosine_similarity(A, B))\n",
        "print(\"Jaccard Similarity:\", jaccard_similarity(A, B))"
      ],
      "execution_count": 8,
      "outputs": [
        {
          "output_type": "stream",
          "name": "stdout",
          "text": [
            "Euclidean Distance: 8.660254037844387\n",
            "Manhattan Distance: 13\n",
            "Minkowski Distance: 8.660\n",
            "Cosine Similarity: 0.5912330008383061\n",
            "Jaccard Similarity: 0.6666666666666666\n"
          ]
        }
      ]
    },
    {
      "cell_type": "code",
      "metadata": {
        "id": "WSzML2aJHD4G"
      },
      "source": [
        "##2\n",
        "a11=0*-1 + 1*0 + 1=1\n",
        "a12=0*0+1*1 +1 =2\n",
        "\n",
        "a21=1*1 + 2*-1 +1 =0\n",
        "a22= 1*-1 + 2*1 +1 =2\n",
        "=> sai số\n",
        "\n",
        "Ouput:\n",
        "\tdenta K = [1-0,0-2] = [1,-2]\n",
        "\n",
        "Hidden:\n",
        "\tsigma K = [1*-1 + -2*0 , 1*0 + -2 * 1] = [-1,-2]"
      ],
      "execution_count": null,
      "outputs": []
    },
    {
      "cell_type": "code",
      "metadata": {
        "id": "hJ6l2xnUSClm"
      },
      "source": [
        "##3"
      ],
      "execution_count": null,
      "outputs": []
    },
    {
      "cell_type": "code",
      "metadata": {
        "id": "WfeBVqxqSHU9"
      },
      "source": [
        "from tensorflow.keras import layers\n",
        "from tensorflow.keras import models\n",
        "import numpy as np "
      ],
      "execution_count": 10,
      "outputs": []
    },
    {
      "cell_type": "code",
      "metadata": {
        "colab": {
          "base_uri": "https://localhost:8080/"
        },
        "id": "9WSQn3yASfAD",
        "outputId": "60688908-ba6e-4c36-9e15-da84f4664a25"
      },
      "source": [
        "import pandas as pd\n",
        "dataframe = pd.read_csv(\"iris.csv\", encoding='ISO-8859-1')\n",
        "data = np.array(dataframe.values)\n",
        "print(data.shape)\n",
        "print(data[:2])"
      ],
      "execution_count": 11,
      "outputs": [
        {
          "output_type": "stream",
          "name": "stdout",
          "text": [
            "(149, 5)\n",
            "[[4.9 3.0 1.4 0.2 'Iris-setosa']\n",
            " [4.7 3.2 1.3 0.2 'Iris-setosa']]\n"
          ]
        }
      ]
    },
    {
      "cell_type": "code",
      "metadata": {
        "colab": {
          "base_uri": "https://localhost:8080/"
        },
        "id": "j1KZR86lU5Td",
        "outputId": "88482055-8139-4111-9319-311e7d47c96e"
      },
      "source": [
        "# i=0\n",
        "# for i in range(len(data)):\n",
        "#   for y in range(len(data[i])):\n",
        "#     # print(data[i][y])\n",
        "#     b = np.array(data[i][y])\n",
        "#     data[i][y]=np.setdiff1d(data[i][y],b)\n",
        "#     break\n",
        "#   # print(i)\n",
        "# print(data[:2])\n",
        "# # data[1][0]"
      ],
      "execution_count": null,
      "outputs": [
        {
          "output_type": "stream",
          "name": "stdout",
          "text": [
            "[[array([], dtype=float64) 3.0 1.4 0.2 'Iris-setosa']\n",
            " [array([], dtype=float64) 3.2 1.3 0.2 'Iris-setosa']]\n"
          ]
        }
      ]
    },
    {
      "cell_type": "code",
      "metadata": {
        "colab": {
          "base_uri": "https://localhost:8080/"
        },
        "id": "p9sKsC1YUNxD",
        "outputId": "09809476-2c06-4996-af94-9a37fc52f4e3"
      },
      "source": [
        "X = data[:,:-1]\n",
        "X = np.asarray(X.astype(np.float))\n",
        "y = data[:,-1]\n",
        "print(X.shape)\n",
        "print(y.shape)"
      ],
      "execution_count": 12,
      "outputs": [
        {
          "output_type": "stream",
          "name": "stdout",
          "text": [
            "(149, 4)\n",
            "(149,)\n"
          ]
        }
      ]
    },
    {
      "cell_type": "code",
      "metadata": {
        "colab": {
          "base_uri": "https://localhost:8080/"
        },
        "id": "Uq8R2U1HdwZ8",
        "outputId": "e40a680c-cb72-4062-b443-29e275c1dd17"
      },
      "source": [
        "from collections import Counter\n",
        "counter = Counter()\n",
        "counter.update(y)\n",
        "print(counter)"
      ],
      "execution_count": 13,
      "outputs": [
        {
          "output_type": "stream",
          "name": "stdout",
          "text": [
            "Counter({'Iris-versicolor': 50, 'Iris-virginica': 50, 'Iris-setosa': 49})\n"
          ]
        }
      ]
    },
    {
      "cell_type": "code",
      "metadata": {
        "colab": {
          "base_uri": "https://localhost:8080/"
        },
        "id": "8xrrq1Sadx2S",
        "outputId": "0729a179-63ca-4b4d-bb43-59b6b2427727"
      },
      "source": [
        "from sklearn.preprocessing import LabelEncoder\n",
        "encoder = LabelEncoder()\n",
        "y = encoder.fit_transform(y)\n",
        "print(y)"
      ],
      "execution_count": 14,
      "outputs": [
        {
          "output_type": "stream",
          "name": "stdout",
          "text": [
            "[0 0 0 0 0 0 0 0 0 0 0 0 0 0 0 0 0 0 0 0 0 0 0 0 0 0 0 0 0 0 0 0 0 0 0 0 0\n",
            " 0 0 0 0 0 0 0 0 0 0 0 0 1 1 1 1 1 1 1 1 1 1 1 1 1 1 1 1 1 1 1 1 1 1 1 1 1\n",
            " 1 1 1 1 1 1 1 1 1 1 1 1 1 1 1 1 1 1 1 1 1 1 1 1 1 2 2 2 2 2 2 2 2 2 2 2 2\n",
            " 2 2 2 2 2 2 2 2 2 2 2 2 2 2 2 2 2 2 2 2 2 2 2 2 2 2 2 2 2 2 2 2 2 2 2 2 2\n",
            " 2]\n"
          ]
        }
      ]
    },
    {
      "cell_type": "code",
      "metadata": {
        "colab": {
          "base_uri": "https://localhost:8080/"
        },
        "id": "bu4DhWBRd0OB",
        "outputId": "e2e3f9d4-8930-44b4-eaec-d1fe602bdec0"
      },
      "source": [
        "from sklearn.model_selection import train_test_split\n",
        "\n",
        "X_train, X_test, y_train, y_test = train_test_split(X, y, test_size=0.2, random_state=50)\n",
        "\n",
        "print('Train:')\n",
        "print(X_train.shape)\n",
        "print(y_train.shape)\n",
        "print('Test:')\n",
        "print(X_test.shape)\n",
        "print(y_test.shape)"
      ],
      "execution_count": 15,
      "outputs": [
        {
          "output_type": "stream",
          "name": "stdout",
          "text": [
            "Train:\n",
            "(119, 4)\n",
            "(119,)\n",
            "Test:\n",
            "(30, 4)\n",
            "(30,)\n"
          ]
        }
      ]
    },
    {
      "cell_type": "code",
      "metadata": {
        "colab": {
          "base_uri": "https://localhost:8080/"
        },
        "id": "Yn7-NAyEd4t0",
        "outputId": "06f7f5e0-36de-42c6-e0cf-421cb09ef217"
      },
      "source": [
        "print(X_train[:2])\n",
        "print(X_train.shape[0])\n",
        "print(X_train.shape[1])"
      ],
      "execution_count": 16,
      "outputs": [
        {
          "output_type": "stream",
          "name": "stdout",
          "text": [
            "[[5.7 2.5 5.  2. ]\n",
            " [6.1 2.8 4.7 1.2]]\n",
            "119\n",
            "4\n"
          ]
        }
      ]
    },
    {
      "cell_type": "code",
      "metadata": {
        "colab": {
          "base_uri": "https://localhost:8080/"
        },
        "id": "ntCgIdoyd6fI",
        "outputId": "8aefe687-01bc-4e61-f676-61a2ef170e05"
      },
      "source": [
        "from tensorflow.keras.utils import to_categorical\n",
        "y_train = to_categorical(y_train)\n",
        "print(y_train[:2])"
      ],
      "execution_count": 17,
      "outputs": [
        {
          "output_type": "stream",
          "name": "stdout",
          "text": [
            "[[0. 0. 1.]\n",
            " [0. 1. 0.]]\n"
          ]
        }
      ]
    },
    {
      "cell_type": "code",
      "metadata": {
        "id": "JoUECYyZeCMN"
      },
      "source": [
        "model = models.Sequential()\n",
        "model.add(layers.Dense(20, activation='relu'))\n",
        "model.add(layers.Dense(10, activation='relu'))\n",
        "model.add(layers.Dense(8, activation='relu'))\n",
        "model.add(layers.Dense(3, activation='sigmoid'))\n",
        "model.compile(loss='categorical_crossentropy', optimizer='adam', \n",
        "              metrics=['accuracy'])"
      ],
      "execution_count": 18,
      "outputs": []
    },
    {
      "cell_type": "code",
      "metadata": {
        "colab": {
          "base_uri": "https://localhost:8080/"
        },
        "id": "QDS-xU-3eQbQ",
        "outputId": "401ae9ba-9b6b-471d-cf62-cda04a99ba38"
      },
      "source": [
        "model.fit(X_train,y_train,epochs=150, batch_size=10, verbose=2)"
      ],
      "execution_count": 19,
      "outputs": [
        {
          "output_type": "stream",
          "name": "stdout",
          "text": [
            "Epoch 1/150\n",
            "12/12 - 1s - loss: 1.0138 - accuracy: 0.3277 - 691ms/epoch - 58ms/step\n",
            "Epoch 2/150\n",
            "12/12 - 0s - loss: 0.9578 - accuracy: 0.4118 - 19ms/epoch - 2ms/step\n",
            "Epoch 3/150\n",
            "12/12 - 0s - loss: 0.9141 - accuracy: 0.6723 - 17ms/epoch - 1ms/step\n",
            "Epoch 4/150\n",
            "12/12 - 0s - loss: 0.8660 - accuracy: 0.6891 - 15ms/epoch - 1ms/step\n",
            "Epoch 5/150\n",
            "12/12 - 0s - loss: 0.8188 - accuracy: 0.6891 - 15ms/epoch - 1ms/step\n",
            "Epoch 6/150\n",
            "12/12 - 0s - loss: 0.7737 - accuracy: 0.6891 - 17ms/epoch - 1ms/step\n",
            "Epoch 7/150\n",
            "12/12 - 0s - loss: 0.7287 - accuracy: 0.6891 - 22ms/epoch - 2ms/step\n",
            "Epoch 8/150\n",
            "12/12 - 0s - loss: 0.6892 - accuracy: 0.6891 - 16ms/epoch - 1ms/step\n",
            "Epoch 9/150\n",
            "12/12 - 0s - loss: 0.6521 - accuracy: 0.6891 - 15ms/epoch - 1ms/step\n",
            "Epoch 10/150\n",
            "12/12 - 0s - loss: 0.6204 - accuracy: 0.6891 - 16ms/epoch - 1ms/step\n",
            "Epoch 11/150\n",
            "12/12 - 0s - loss: 0.5902 - accuracy: 0.6891 - 16ms/epoch - 1ms/step\n",
            "Epoch 12/150\n",
            "12/12 - 0s - loss: 0.5626 - accuracy: 0.6891 - 19ms/epoch - 2ms/step\n",
            "Epoch 13/150\n",
            "12/12 - 0s - loss: 0.5391 - accuracy: 0.6891 - 18ms/epoch - 1ms/step\n",
            "Epoch 14/150\n",
            "12/12 - 0s - loss: 0.5199 - accuracy: 0.6891 - 18ms/epoch - 2ms/step\n",
            "Epoch 15/150\n",
            "12/12 - 0s - loss: 0.5011 - accuracy: 0.6891 - 17ms/epoch - 1ms/step\n",
            "Epoch 16/150\n",
            "12/12 - 0s - loss: 0.4886 - accuracy: 0.6891 - 18ms/epoch - 2ms/step\n",
            "Epoch 17/150\n",
            "12/12 - 0s - loss: 0.4731 - accuracy: 0.6891 - 22ms/epoch - 2ms/step\n",
            "Epoch 18/150\n",
            "12/12 - 0s - loss: 0.4610 - accuracy: 0.6891 - 21ms/epoch - 2ms/step\n",
            "Epoch 19/150\n",
            "12/12 - 0s - loss: 0.4498 - accuracy: 0.6891 - 20ms/epoch - 2ms/step\n",
            "Epoch 20/150\n",
            "12/12 - 0s - loss: 0.4404 - accuracy: 0.6891 - 18ms/epoch - 2ms/step\n",
            "Epoch 21/150\n",
            "12/12 - 0s - loss: 0.4301 - accuracy: 0.7143 - 18ms/epoch - 2ms/step\n",
            "Epoch 22/150\n",
            "12/12 - 0s - loss: 0.4172 - accuracy: 0.7899 - 19ms/epoch - 2ms/step\n",
            "Epoch 23/150\n",
            "12/12 - 0s - loss: 0.4059 - accuracy: 0.8571 - 22ms/epoch - 2ms/step\n",
            "Epoch 24/150\n",
            "12/12 - 0s - loss: 0.3917 - accuracy: 0.8655 - 21ms/epoch - 2ms/step\n",
            "Epoch 25/150\n",
            "12/12 - 0s - loss: 0.3792 - accuracy: 0.8571 - 19ms/epoch - 2ms/step\n",
            "Epoch 26/150\n",
            "12/12 - 0s - loss: 0.3720 - accuracy: 0.9328 - 17ms/epoch - 1ms/step\n",
            "Epoch 27/150\n",
            "12/12 - 0s - loss: 0.3642 - accuracy: 0.8824 - 16ms/epoch - 1ms/step\n",
            "Epoch 28/150\n",
            "12/12 - 0s - loss: 0.3556 - accuracy: 0.9664 - 15ms/epoch - 1ms/step\n",
            "Epoch 29/150\n",
            "12/12 - 0s - loss: 0.3466 - accuracy: 0.9076 - 20ms/epoch - 2ms/step\n",
            "Epoch 30/150\n",
            "12/12 - 0s - loss: 0.3309 - accuracy: 0.9412 - 18ms/epoch - 2ms/step\n",
            "Epoch 31/150\n",
            "12/12 - 0s - loss: 0.3212 - accuracy: 0.9748 - 18ms/epoch - 1ms/step\n",
            "Epoch 32/150\n",
            "12/12 - 0s - loss: 0.3106 - accuracy: 0.9748 - 19ms/epoch - 2ms/step\n",
            "Epoch 33/150\n",
            "12/12 - 0s - loss: 0.3002 - accuracy: 0.9580 - 25ms/epoch - 2ms/step\n",
            "Epoch 34/150\n",
            "12/12 - 0s - loss: 0.2932 - accuracy: 0.9412 - 20ms/epoch - 2ms/step\n",
            "Epoch 35/150\n",
            "12/12 - 0s - loss: 0.2817 - accuracy: 0.9664 - 23ms/epoch - 2ms/step\n",
            "Epoch 36/150\n",
            "12/12 - 0s - loss: 0.2695 - accuracy: 0.9664 - 17ms/epoch - 1ms/step\n",
            "Epoch 37/150\n",
            "12/12 - 0s - loss: 0.2603 - accuracy: 0.9748 - 17ms/epoch - 1ms/step\n",
            "Epoch 38/150\n",
            "12/12 - 0s - loss: 0.2483 - accuracy: 0.9748 - 20ms/epoch - 2ms/step\n",
            "Epoch 39/150\n",
            "12/12 - 0s - loss: 0.2416 - accuracy: 0.9748 - 22ms/epoch - 2ms/step\n",
            "Epoch 40/150\n",
            "12/12 - 0s - loss: 0.2396 - accuracy: 0.9580 - 20ms/epoch - 2ms/step\n",
            "Epoch 41/150\n",
            "12/12 - 0s - loss: 0.2219 - accuracy: 0.9664 - 18ms/epoch - 2ms/step\n",
            "Epoch 42/150\n",
            "12/12 - 0s - loss: 0.2135 - accuracy: 0.9748 - 13ms/epoch - 1ms/step\n",
            "Epoch 43/150\n",
            "12/12 - 0s - loss: 0.2057 - accuracy: 0.9748 - 24ms/epoch - 2ms/step\n",
            "Epoch 44/150\n",
            "12/12 - 0s - loss: 0.1958 - accuracy: 0.9748 - 18ms/epoch - 2ms/step\n",
            "Epoch 45/150\n",
            "12/12 - 0s - loss: 0.1873 - accuracy: 0.9748 - 17ms/epoch - 1ms/step\n",
            "Epoch 46/150\n",
            "12/12 - 0s - loss: 0.1801 - accuracy: 0.9832 - 20ms/epoch - 2ms/step\n",
            "Epoch 47/150\n",
            "12/12 - 0s - loss: 0.1725 - accuracy: 0.9748 - 19ms/epoch - 2ms/step\n",
            "Epoch 48/150\n",
            "12/12 - 0s - loss: 0.1690 - accuracy: 0.9748 - 23ms/epoch - 2ms/step\n",
            "Epoch 49/150\n",
            "12/12 - 0s - loss: 0.1629 - accuracy: 0.9748 - 14ms/epoch - 1ms/step\n",
            "Epoch 50/150\n",
            "12/12 - 0s - loss: 0.1554 - accuracy: 0.9748 - 20ms/epoch - 2ms/step\n",
            "Epoch 51/150\n",
            "12/12 - 0s - loss: 0.1498 - accuracy: 0.9748 - 22ms/epoch - 2ms/step\n",
            "Epoch 52/150\n",
            "12/12 - 0s - loss: 0.1472 - accuracy: 0.9748 - 16ms/epoch - 1ms/step\n",
            "Epoch 53/150\n",
            "12/12 - 0s - loss: 0.1392 - accuracy: 0.9748 - 19ms/epoch - 2ms/step\n",
            "Epoch 54/150\n",
            "12/12 - 0s - loss: 0.1378 - accuracy: 0.9748 - 21ms/epoch - 2ms/step\n",
            "Epoch 55/150\n",
            "12/12 - 0s - loss: 0.1360 - accuracy: 0.9580 - 17ms/epoch - 1ms/step\n",
            "Epoch 56/150\n",
            "12/12 - 0s - loss: 0.1288 - accuracy: 0.9748 - 21ms/epoch - 2ms/step\n",
            "Epoch 57/150\n",
            "12/12 - 0s - loss: 0.1265 - accuracy: 0.9748 - 18ms/epoch - 1ms/step\n",
            "Epoch 58/150\n",
            "12/12 - 0s - loss: 0.1245 - accuracy: 0.9748 - 21ms/epoch - 2ms/step\n",
            "Epoch 59/150\n",
            "12/12 - 0s - loss: 0.1244 - accuracy: 0.9664 - 18ms/epoch - 2ms/step\n",
            "Epoch 60/150\n",
            "12/12 - 0s - loss: 0.1219 - accuracy: 0.9748 - 17ms/epoch - 1ms/step\n",
            "Epoch 61/150\n",
            "12/12 - 0s - loss: 0.1136 - accuracy: 0.9748 - 18ms/epoch - 1ms/step\n",
            "Epoch 62/150\n",
            "12/12 - 0s - loss: 0.1223 - accuracy: 0.9664 - 16ms/epoch - 1ms/step\n",
            "Epoch 63/150\n",
            "12/12 - 0s - loss: 0.1119 - accuracy: 0.9748 - 20ms/epoch - 2ms/step\n",
            "Epoch 64/150\n",
            "12/12 - 0s - loss: 0.1148 - accuracy: 0.9748 - 24ms/epoch - 2ms/step\n",
            "Epoch 65/150\n",
            "12/12 - 0s - loss: 0.1035 - accuracy: 0.9832 - 14ms/epoch - 1ms/step\n",
            "Epoch 66/150\n",
            "12/12 - 0s - loss: 0.1131 - accuracy: 0.9664 - 18ms/epoch - 2ms/step\n",
            "Epoch 67/150\n",
            "12/12 - 0s - loss: 0.1053 - accuracy: 0.9748 - 18ms/epoch - 2ms/step\n",
            "Epoch 68/150\n",
            "12/12 - 0s - loss: 0.1060 - accuracy: 0.9748 - 25ms/epoch - 2ms/step\n",
            "Epoch 69/150\n",
            "12/12 - 0s - loss: 0.1032 - accuracy: 0.9748 - 19ms/epoch - 2ms/step\n",
            "Epoch 70/150\n",
            "12/12 - 0s - loss: 0.0985 - accuracy: 0.9748 - 19ms/epoch - 2ms/step\n",
            "Epoch 71/150\n",
            "12/12 - 0s - loss: 0.1016 - accuracy: 0.9748 - 26ms/epoch - 2ms/step\n",
            "Epoch 72/150\n",
            "12/12 - 0s - loss: 0.1020 - accuracy: 0.9748 - 18ms/epoch - 1ms/step\n",
            "Epoch 73/150\n",
            "12/12 - 0s - loss: 0.1183 - accuracy: 0.9412 - 16ms/epoch - 1ms/step\n",
            "Epoch 74/150\n",
            "12/12 - 0s - loss: 0.0963 - accuracy: 0.9748 - 14ms/epoch - 1ms/step\n",
            "Epoch 75/150\n",
            "12/12 - 0s - loss: 0.1005 - accuracy: 0.9748 - 13ms/epoch - 1ms/step\n",
            "Epoch 76/150\n",
            "12/12 - 0s - loss: 0.0936 - accuracy: 0.9748 - 18ms/epoch - 2ms/step\n",
            "Epoch 77/150\n",
            "12/12 - 0s - loss: 0.0923 - accuracy: 0.9748 - 19ms/epoch - 2ms/step\n",
            "Epoch 78/150\n",
            "12/12 - 0s - loss: 0.0910 - accuracy: 0.9748 - 19ms/epoch - 2ms/step\n",
            "Epoch 79/150\n",
            "12/12 - 0s - loss: 0.0896 - accuracy: 0.9664 - 20ms/epoch - 2ms/step\n",
            "Epoch 80/150\n",
            "12/12 - 0s - loss: 0.0921 - accuracy: 0.9748 - 22ms/epoch - 2ms/step\n",
            "Epoch 81/150\n",
            "12/12 - 0s - loss: 0.0879 - accuracy: 0.9748 - 20ms/epoch - 2ms/step\n",
            "Epoch 82/150\n",
            "12/12 - 0s - loss: 0.0866 - accuracy: 0.9832 - 19ms/epoch - 2ms/step\n",
            "Epoch 83/150\n",
            "12/12 - 0s - loss: 0.0892 - accuracy: 0.9748 - 16ms/epoch - 1ms/step\n",
            "Epoch 84/150\n",
            "12/12 - 0s - loss: 0.0941 - accuracy: 0.9580 - 18ms/epoch - 2ms/step\n",
            "Epoch 85/150\n",
            "12/12 - 0s - loss: 0.0878 - accuracy: 0.9832 - 22ms/epoch - 2ms/step\n",
            "Epoch 86/150\n",
            "12/12 - 0s - loss: 0.0836 - accuracy: 0.9748 - 15ms/epoch - 1ms/step\n",
            "Epoch 87/150\n",
            "12/12 - 0s - loss: 0.0890 - accuracy: 0.9748 - 17ms/epoch - 1ms/step\n",
            "Epoch 88/150\n",
            "12/12 - 0s - loss: 0.0848 - accuracy: 0.9748 - 17ms/epoch - 1ms/step\n",
            "Epoch 89/150\n",
            "12/12 - 0s - loss: 0.0812 - accuracy: 0.9832 - 25ms/epoch - 2ms/step\n",
            "Epoch 90/150\n",
            "12/12 - 0s - loss: 0.0885 - accuracy: 0.9748 - 17ms/epoch - 1ms/step\n",
            "Epoch 91/150\n",
            "12/12 - 0s - loss: 0.0829 - accuracy: 0.9748 - 16ms/epoch - 1ms/step\n",
            "Epoch 92/150\n",
            "12/12 - 0s - loss: 0.0857 - accuracy: 0.9748 - 21ms/epoch - 2ms/step\n",
            "Epoch 93/150\n",
            "12/12 - 0s - loss: 0.0872 - accuracy: 0.9664 - 18ms/epoch - 1ms/step\n",
            "Epoch 94/150\n",
            "12/12 - 0s - loss: 0.0803 - accuracy: 0.9748 - 17ms/epoch - 1ms/step\n",
            "Epoch 95/150\n",
            "12/12 - 0s - loss: 0.0796 - accuracy: 0.9748 - 30ms/epoch - 2ms/step\n",
            "Epoch 96/150\n",
            "12/12 - 0s - loss: 0.0805 - accuracy: 0.9832 - 22ms/epoch - 2ms/step\n",
            "Epoch 97/150\n",
            "12/12 - 0s - loss: 0.0787 - accuracy: 0.9832 - 17ms/epoch - 1ms/step\n",
            "Epoch 98/150\n",
            "12/12 - 0s - loss: 0.0879 - accuracy: 0.9580 - 23ms/epoch - 2ms/step\n",
            "Epoch 99/150\n",
            "12/12 - 0s - loss: 0.1047 - accuracy: 0.9580 - 18ms/epoch - 1ms/step\n",
            "Epoch 100/150\n",
            "12/12 - 0s - loss: 0.0868 - accuracy: 0.9748 - 18ms/epoch - 2ms/step\n",
            "Epoch 101/150\n",
            "12/12 - 0s - loss: 0.0778 - accuracy: 0.9748 - 17ms/epoch - 1ms/step\n",
            "Epoch 102/150\n",
            "12/12 - 0s - loss: 0.0783 - accuracy: 0.9748 - 20ms/epoch - 2ms/step\n",
            "Epoch 103/150\n",
            "12/12 - 0s - loss: 0.0801 - accuracy: 0.9748 - 18ms/epoch - 2ms/step\n",
            "Epoch 104/150\n",
            "12/12 - 0s - loss: 0.0760 - accuracy: 0.9748 - 14ms/epoch - 1ms/step\n",
            "Epoch 105/150\n",
            "12/12 - 0s - loss: 0.0769 - accuracy: 0.9748 - 19ms/epoch - 2ms/step\n",
            "Epoch 106/150\n",
            "12/12 - 0s - loss: 0.0773 - accuracy: 0.9748 - 17ms/epoch - 1ms/step\n",
            "Epoch 107/150\n",
            "12/12 - 0s - loss: 0.0788 - accuracy: 0.9748 - 21ms/epoch - 2ms/step\n",
            "Epoch 108/150\n",
            "12/12 - 0s - loss: 0.0824 - accuracy: 0.9748 - 18ms/epoch - 2ms/step\n",
            "Epoch 109/150\n",
            "12/12 - 0s - loss: 0.0759 - accuracy: 0.9748 - 23ms/epoch - 2ms/step\n",
            "Epoch 110/150\n",
            "12/12 - 0s - loss: 0.0892 - accuracy: 0.9580 - 20ms/epoch - 2ms/step\n",
            "Epoch 111/150\n",
            "12/12 - 0s - loss: 0.0786 - accuracy: 0.9748 - 19ms/epoch - 2ms/step\n",
            "Epoch 112/150\n",
            "12/12 - 0s - loss: 0.0882 - accuracy: 0.9496 - 19ms/epoch - 2ms/step\n",
            "Epoch 113/150\n",
            "12/12 - 0s - loss: 0.0872 - accuracy: 0.9748 - 22ms/epoch - 2ms/step\n",
            "Epoch 114/150\n",
            "12/12 - 0s - loss: 0.0868 - accuracy: 0.9580 - 17ms/epoch - 1ms/step\n",
            "Epoch 115/150\n",
            "12/12 - 0s - loss: 0.0733 - accuracy: 0.9748 - 18ms/epoch - 1ms/step\n",
            "Epoch 116/150\n",
            "12/12 - 0s - loss: 0.0813 - accuracy: 0.9664 - 19ms/epoch - 2ms/step\n",
            "Epoch 117/150\n",
            "12/12 - 0s - loss: 0.0775 - accuracy: 0.9748 - 22ms/epoch - 2ms/step\n",
            "Epoch 118/150\n",
            "12/12 - 0s - loss: 0.0748 - accuracy: 0.9832 - 21ms/epoch - 2ms/step\n",
            "Epoch 119/150\n",
            "12/12 - 0s - loss: 0.0750 - accuracy: 0.9748 - 20ms/epoch - 2ms/step\n",
            "Epoch 120/150\n",
            "12/12 - 0s - loss: 0.0758 - accuracy: 0.9748 - 17ms/epoch - 1ms/step\n",
            "Epoch 121/150\n",
            "12/12 - 0s - loss: 0.0773 - accuracy: 0.9748 - 19ms/epoch - 2ms/step\n",
            "Epoch 122/150\n",
            "12/12 - 0s - loss: 0.0939 - accuracy: 0.9748 - 15ms/epoch - 1ms/step\n",
            "Epoch 123/150\n",
            "12/12 - 0s - loss: 0.0768 - accuracy: 0.9664 - 19ms/epoch - 2ms/step\n",
            "Epoch 124/150\n",
            "12/12 - 0s - loss: 0.0780 - accuracy: 0.9748 - 24ms/epoch - 2ms/step\n",
            "Epoch 125/150\n",
            "12/12 - 0s - loss: 0.0794 - accuracy: 0.9748 - 28ms/epoch - 2ms/step\n",
            "Epoch 126/150\n",
            "12/12 - 0s - loss: 0.0792 - accuracy: 0.9832 - 20ms/epoch - 2ms/step\n",
            "Epoch 127/150\n",
            "12/12 - 0s - loss: 0.0763 - accuracy: 0.9748 - 21ms/epoch - 2ms/step\n",
            "Epoch 128/150\n",
            "12/12 - 0s - loss: 0.0720 - accuracy: 0.9832 - 25ms/epoch - 2ms/step\n",
            "Epoch 129/150\n",
            "12/12 - 0s - loss: 0.0714 - accuracy: 0.9832 - 21ms/epoch - 2ms/step\n",
            "Epoch 130/150\n",
            "12/12 - 0s - loss: 0.0747 - accuracy: 0.9832 - 18ms/epoch - 1ms/step\n",
            "Epoch 131/150\n",
            "12/12 - 0s - loss: 0.0856 - accuracy: 0.9748 - 18ms/epoch - 2ms/step\n",
            "Epoch 132/150\n",
            "12/12 - 0s - loss: 0.0714 - accuracy: 0.9832 - 18ms/epoch - 2ms/step\n",
            "Epoch 133/150\n",
            "12/12 - 0s - loss: 0.0769 - accuracy: 0.9748 - 22ms/epoch - 2ms/step\n",
            "Epoch 134/150\n",
            "12/12 - 0s - loss: 0.0690 - accuracy: 0.9748 - 17ms/epoch - 1ms/step\n",
            "Epoch 135/150\n",
            "12/12 - 0s - loss: 0.0784 - accuracy: 0.9664 - 16ms/epoch - 1ms/step\n",
            "Epoch 136/150\n",
            "12/12 - 0s - loss: 0.0767 - accuracy: 0.9748 - 20ms/epoch - 2ms/step\n",
            "Epoch 137/150\n",
            "12/12 - 0s - loss: 0.0900 - accuracy: 0.9496 - 20ms/epoch - 2ms/step\n",
            "Epoch 138/150\n",
            "12/12 - 0s - loss: 0.0736 - accuracy: 0.9832 - 21ms/epoch - 2ms/step\n",
            "Epoch 139/150\n",
            "12/12 - 0s - loss: 0.0718 - accuracy: 0.9748 - 20ms/epoch - 2ms/step\n",
            "Epoch 140/150\n",
            "12/12 - 0s - loss: 0.0727 - accuracy: 0.9748 - 19ms/epoch - 2ms/step\n",
            "Epoch 141/150\n",
            "12/12 - 0s - loss: 0.0730 - accuracy: 0.9832 - 21ms/epoch - 2ms/step\n",
            "Epoch 142/150\n",
            "12/12 - 0s - loss: 0.0703 - accuracy: 0.9832 - 16ms/epoch - 1ms/step\n",
            "Epoch 143/150\n",
            "12/12 - 0s - loss: 0.0716 - accuracy: 0.9748 - 19ms/epoch - 2ms/step\n",
            "Epoch 144/150\n",
            "12/12 - 0s - loss: 0.0676 - accuracy: 0.9832 - 20ms/epoch - 2ms/step\n",
            "Epoch 145/150\n",
            "12/12 - 0s - loss: 0.0706 - accuracy: 0.9748 - 20ms/epoch - 2ms/step\n",
            "Epoch 146/150\n",
            "12/12 - 0s - loss: 0.0721 - accuracy: 0.9748 - 20ms/epoch - 2ms/step\n",
            "Epoch 147/150\n",
            "12/12 - 0s - loss: 0.0702 - accuracy: 0.9832 - 21ms/epoch - 2ms/step\n",
            "Epoch 148/150\n",
            "12/12 - 0s - loss: 0.0732 - accuracy: 0.9748 - 21ms/epoch - 2ms/step\n",
            "Epoch 149/150\n",
            "12/12 - 0s - loss: 0.0712 - accuracy: 0.9748 - 20ms/epoch - 2ms/step\n",
            "Epoch 150/150\n",
            "12/12 - 0s - loss: 0.0687 - accuracy: 0.9832 - 17ms/epoch - 1ms/step\n"
          ]
        },
        {
          "output_type": "execute_result",
          "data": {
            "text/plain": [
              "<keras.callbacks.History at 0x7fe45f2b9bd0>"
            ]
          },
          "metadata": {},
          "execution_count": 19
        }
      ]
    },
    {
      "cell_type": "code",
      "metadata": {
        "colab": {
          "base_uri": "https://localhost:8080/"
        },
        "id": "a0LSJjjteWEQ",
        "outputId": "6ecab4ad-34da-4183-dbc8-fe5515e9636e"
      },
      "source": [
        "y_pred = model.predict(X_test)\n",
        "print(y_pred[:2])"
      ],
      "execution_count": 20,
      "outputs": [
        {
          "output_type": "stream",
          "name": "stdout",
          "text": [
            "[[0.74681246 0.99913883 0.15195379]\n",
            " [0.00836658 0.98021156 0.4117432 ]]\n"
          ]
        }
      ]
    },
    {
      "cell_type": "code",
      "metadata": {
        "colab": {
          "base_uri": "https://localhost:8080/"
        },
        "id": "pFn_Ov7QeZHW",
        "outputId": "e735d9db-c2b5-4df2-dd23-fd6143ef2f97"
      },
      "source": [
        "y_pred = y_pred.argmax(axis=1)\n",
        "print(y_pred)\n",
        "print(y_test)"
      ],
      "execution_count": 21,
      "outputs": [
        {
          "output_type": "stream",
          "name": "stdout",
          "text": [
            "[1 1 1 0 2 0 2 0 2 0 2 1 1 2 0 2 2 1 1 2 2 0 1 1 1 1 2 1 2 1]\n",
            "[1 1 1 0 2 0 2 0 2 0 2 1 1 2 0 2 2 1 1 2 2 0 1 1 1 1 2 1 2 1]\n"
          ]
        }
      ]
    },
    {
      "cell_type": "code",
      "metadata": {
        "colab": {
          "base_uri": "https://localhost:8080/"
        },
        "id": "1l1tNEEgeZxc",
        "outputId": "71b430b3-f08a-4206-b7cf-ddc3bfb996d4"
      },
      "source": [
        "from sklearn.metrics import classification_report\n",
        "print(classification_report(y_test,y_pred))"
      ],
      "execution_count": 22,
      "outputs": [
        {
          "output_type": "stream",
          "name": "stdout",
          "text": [
            "              precision    recall  f1-score   support\n",
            "\n",
            "           0       1.00      1.00      1.00         6\n",
            "           1       1.00      1.00      1.00        13\n",
            "           2       1.00      1.00      1.00        11\n",
            "\n",
            "    accuracy                           1.00        30\n",
            "   macro avg       1.00      1.00      1.00        30\n",
            "weighted avg       1.00      1.00      1.00        30\n",
            "\n"
          ]
        }
      ]
    }
  ]
}