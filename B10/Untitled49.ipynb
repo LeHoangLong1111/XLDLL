{
  "nbformat": 4,
  "nbformat_minor": 0,
  "metadata": {
    "colab": {
      "name": "Untitled49.ipynb",
      "provenance": []
    },
    "kernelspec": {
      "name": "python3",
      "display_name": "Python 3"
    },
    "language_info": {
      "name": "python"
    }
  },
  "cells": [
    {
      "cell_type": "code",
      "metadata": {
        "colab": {
          "base_uri": "https://localhost:8080/"
        },
        "id": "KysBTGL5Cl1X",
        "outputId": "bcc034ec-08f2-4ff7-b51b-f8571cfd21fe"
      },
      "source": [
        "import numpy as np\n",
        "def sigm(x):\n",
        "  return 1/(1 + np.exp(-x))\n",
        "\n",
        "def tansig(x):\n",
        "  return 2/(1+np.exp(-2*x))-1\n",
        "\n",
        "print(sigm(1))\n",
        "\n",
        "print(tansig(0.5*0.2 +0.9))"
      ],
      "execution_count": 2,
      "outputs": [
        {
          "output_type": "stream",
          "name": "stdout",
          "text": [
            "0.7310585786300049\n",
            "0.7615941559557646\n"
          ]
        }
      ]
    },
    {
      "cell_type": "code",
      "metadata": {
        "colab": {
          "base_uri": "https://localhost:8080/"
        },
        "id": "Hn8W7Y0QCm15",
        "outputId": "6b463e65-530b-46de-e17c-c18b32c5cdcf"
      },
      "source": [
        "p= [2,1,4,0.5,10]\n",
        "w=[0.3,0.5,0.2,0.1,0.8]\n",
        "b=0.05\n",
        "s=0\n",
        "for i in range(len(p)):\n",
        "  s+=p[i]*w[i]+b\n",
        "\n",
        "  \n",
        "print(s)\n",
        "\n",
        "print(sigm(s))"
      ],
      "execution_count": 3,
      "outputs": [
        {
          "output_type": "stream",
          "name": "stdout",
          "text": [
            "10.200000000000001\n",
            "0.9999628310628971\n"
          ]
        }
      ]
    },
    {
      "cell_type": "code",
      "metadata": {
        "colab": {
          "base_uri": "https://localhost:8080/"
        },
        "id": "QPW9v9WCCqI1",
        "outputId": "f66a6e6c-4e86-4c6f-d9fd-9abc365c9563"
      },
      "source": [
        "p=np.array([2,1.5,3])\n",
        "w=np.array([[1,2,3],[5,4,6]]).T\n",
        "b=np.array([0.5,0.6]).T\n",
        "\n",
        "a1=2*1+1.5*2+3*3 +0.5\n",
        "a2=2*5+1.5*4+3*6+0.6\n",
        "print(a1,a2)"
      ],
      "execution_count": 4,
      "outputs": [
        {
          "output_type": "stream",
          "name": "stdout",
          "text": [
            "14.5 34.6\n"
          ]
        }
      ]
    },
    {
      "cell_type": "code",
      "metadata": {
        "colab": {
          "base_uri": "https://localhost:8080/"
        },
        "id": "VA0jPhrlwVTq",
        "outputId": "7388c12d-bdb5-4f0d-8ce0-3649ee21f266"
      },
      "source": [
        "a11=2*0.1+1.5*0.2+3*0.3+0.5\n",
        "a12=2*0.5+1.5*0.4+3*0.6 +0.6\n",
        "\n",
        "a21=a11*0.5+a12*0.2+0.5\n",
        "a22=a11*0.1+a12*0.6+0.6\n",
        "\n",
        "a3=a21*0.4+a22*0.2 +0.2\n",
        "\n",
        "\n",
        "print(a11,a12)\n",
        "print(a21,a22)\n",
        "print(a3)"
      ],
      "execution_count": 1,
      "outputs": [
        {
          "output_type": "stream",
          "name": "stdout",
          "text": [
            "1.9 4.0\n",
            "2.25 3.19\n",
            "1.738\n"
          ]
        }
      ]
    }
  ]
}