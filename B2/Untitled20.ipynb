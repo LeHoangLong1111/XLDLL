{
  "nbformat": 4,
  "nbformat_minor": 0,
  "metadata": {
    "colab": {
      "name": "Untitled20.ipynb",
      "provenance": [],
      "collapsed_sections": []
    },
    "kernelspec": {
      "name": "python3",
      "display_name": "Python 3"
    },
    "language_info": {
      "name": "python"
    }
  },
  "cells": [
    {
      "cell_type": "code",
      "metadata": {
        "colab": {
          "base_uri": "https://localhost:8080/"
        },
        "id": "jzByadK-Nzcs",
        "outputId": "fa168348-98d9-4007-d9a5-cba8e3216957"
      },
      "source": [
        "import re\n",
        "\n",
        "number = \"412-555-1212\"\n",
        "if re.fullmatch(\"\\d{3}-\\d{3}-\\d{4}\", number):\n",
        "  print(\"Phone number\")\n",
        "else:\n",
        " print(\"Not Phone number\")\n"
      ],
      "execution_count": 12,
      "outputs": [
        {
          "output_type": "stream",
          "name": "stdout",
          "text": [
            "Phone number\n"
          ]
        }
      ]
    },
    {
      "cell_type": "code",
      "metadata": {
        "colab": {
          "base_uri": "https://localhost:8080/"
        },
        "id": "RhFK_81iQpdb",
        "outputId": "67161233-fe9c-4c18-b37e-42db78c81652"
      },
      "source": [
        "import re\n",
        " \n",
        "email1=\"long@gmail.com\"\n",
        "email2 = \"long111111111111111111111@gmail.com\"\n",
        "email3 = \"long@g.com\"\n",
        "\n",
        "def isEmail(e): \n",
        "  if(re.fullmatch(r'\\b[A-Za-z0-9._%+-]{1,20}@[A-Za-z0-9.-]{2,20}\\.[A-Z|a-z]{2,}\\b', e)):\n",
        "    print(\"Valid Email\")\n",
        "  else:\n",
        "    print(\"Invalid Email\")\n",
        "\n",
        "isEmail(email1)\n",
        "isEmail(email2)\n",
        "isEmail(email3)\n"
      ],
      "execution_count": 24,
      "outputs": [
        {
          "output_type": "stream",
          "name": "stdout",
          "text": [
            "Valid Email\n",
            "Invalid Email\n",
            "Invalid Email\n"
          ]
        }
      ]
    },
    {
      "cell_type": "code",
      "metadata": {
        "colab": {
          "base_uri": "https://localhost:8080/"
        },
        "id": "50Oeb3yGXgqS",
        "outputId": "7be3bae4-21d2-42be-9ba5-0d8dfec38c95"
      },
      "source": [
        "import urllib.request \n",
        "import urllib.parse \n",
        "import re \n",
        "   \n",
        "url = 'https://www.geeksforgeeks.org/'\n",
        "values = {'s':'python programming', 'submit':'search'} \n",
        "   \n",
        "data = urllib.parse.urlencode(values) \n",
        "data = data.encode('utf-8') \n",
        "req = urllib.request.Request(url, data) \n",
        "resp = urllib.request.urlopen(req) \n",
        "respData = resp.read() \n",
        "   \n",
        "paragraphs = re.findall(r'<p>(.*?)</p>',str(respData)) \n",
        "   \n",
        "for eachP in paragraphs: \n",
        "    print(eachP) "
      ],
      "execution_count": 25,
      "outputs": [
        {
          "output_type": "stream",
          "name": "stdout",
          "text": [
            "Python is a programming language that lets you work quickly and integrate systems more efficiently. It is a widely-used general-purpose, high-level programming language. It was\\xe2\\x80\\xa6 <span class=\"read-more\"><a href=\"https://www.geeksforgeeks.org/what-is-the-difference-between-interactive-and-script-mode-in-python-programming/\">Read More</a></span>\n",
            "Golang is a procedural programming language. It was developed in 2007 by Robert Griesemer, Rob Pike, and Ken Thompson at Google but launched in 2009\\xe2\\x80\\xa6 <span class=\"read-more\"><a href=\"https://www.geeksforgeeks.org/difference-between-go-and-python-programming-language/\">Read More</a></span>\n",
            "&nbsp; The following Python section contains a wide collection of Python programming examples. The examples are categorized based on the topics including List, strings, dictionary,\\xe2\\x80\\xa6 <span class=\"read-more\"><a href=\"https://www.geeksforgeeks.org/python-programming-examples/\">Read More</a></span>\n",
            "The following are the list of best IDE&#8217;s for Python Programming on Windows operating systems. 1) PyCharm 2) Eclipse with Pydev 3) Wing IDE 4)\\xe2\\x80\\xa6 <span class=\"read-more\"><a href=\"https://www.geeksforgeeks.org/ide-python-programming-windows/\">Read More</a></span>\n",
            "Heya guys! I am back with another article my previous article on secure coding. This time we are not going to go into any theoretical\\xe2\\x80\\xa6 <span class=\"read-more\"><a href=\"https://www.geeksforgeeks.org/a-basic-python-programming-challenge-2/\">Read More</a></span>\n",
            "Python is a high-level, general-purpose and a very popular programming language. Python programming language (latest Python 3) is being used in web development, Machine Learning\\xe2\\x80\\xa6 <span class=\"read-more\"><a href=\"https://www.geeksforgeeks.org/python-programming-language/\">Read More</a></span>\n",
            "Python Programming language makes everything easier and straightforward. Effective use of its built-in libraries can save a lot of time and help with faster submissions\\xe2\\x80\\xa6 <span class=\"read-more\"><a href=\"https://www.geeksforgeeks.org/python-tips-and-tricks-for-competitive-programming/\">Read More</a></span>\n",
            "Reasons behind getting TLE: It is slower compared to other programming languages. It offers slower Input/Output. It has a lower recursion depth which often gives\\xe2\\x80\\xa6 <span class=\"read-more\"><a href=\"https://www.geeksforgeeks.org/avoid-tle-in-python-in-competitive-programming/\">Read More</a></span>\n",
            "Python Python is one of the most popular and powerful scripting languages that works nowadays. It is a high-level interpreted programming language. It is a\\xe2\\x80\\xa6 <span class=\"read-more\"><a href=\"https://www.geeksforgeeks.org/difference-between-python-and-lua-programming-language/\">Read More</a></span>\n",
            "To recurse or not to recurse, that is the question. We all know about the fun we have with recursive functions. But it has its\\xe2\\x80\\xa6 <span class=\"read-more\"><a href=\"https://www.geeksforgeeks.org/when-not-to-use-recursion-while-programming-in-python/\">Read More</a></span>\n",
            "Many times we&#8217;ve seen students struggling with the dilemma of choosing a worthwhile Programming Language for the sake of placements. Though this situation is somewhat\\xe2\\x80\\xa6 <span class=\"read-more\"><a href=\"https://www.geeksforgeeks.org/programming-language-for-placement-c-java-or-python/\">Read More</a></span>\n",
            "HTTP stands for HyperText Transfer Protocol, which works on the client-server machine. In most cases, the web browser acts as the client, and the computer\\xe2\\x80\\xa6 <span class=\"read-more\"><a href=\"https://www.geeksforgeeks.org/network-programming-python-http-requests/\">Read More</a></span>\n",
            "In Competitive Programming, it is important to read input as fast as possible to save valuable time. Input/Output in Python can be sometimes time taking\\xe2\\x80\\xa6 <span class=\"read-more\"><a href=\"https://www.geeksforgeeks.org/fast-i-o-for-competitive-programming-in-python/\">Read More</a></span>\n",
            "The request from the client in HTTP protocol reaches the server and fetches some data assuming it to be a valid request. This response from\\xe2\\x80\\xa6 <span class=\"read-more\"><a href=\"https://www.geeksforgeeks.org/network-programming-python-http-clients/\">Read More</a></span>\n",
            "Domain Name System also known as DNS is a phonebook of the internet, which has related to the domain name. DNS translates the domain names\\xe2\\x80\\xa6 <span class=\"read-more\"><a href=\"https://www.geeksforgeeks.org/network-programming-in-python-dns-look-up/\">Read More</a></span>\n"
          ]
        }
      ]
    },
    {
      "cell_type": "code",
      "metadata": {
        "colab": {
          "base_uri": "https://localhost:8080/"
        },
        "id": "mzE3YPpWZ8Nq",
        "outputId": "033f5a5a-e08c-4945-a126-1cd2f1259be9"
      },
      "source": [
        "import bs4\n",
        "from bs4 import BeautifulSoup as soup\n",
        "from urllib.request import urlopen\n",
        "news_url=\"https://news.google.com/news/rss\"\n",
        "Client=urlopen(news_url)\n",
        "xml_page=Client.read()\n",
        "Client.close()\n",
        "\n",
        "soup_page=soup(xml_page,\"xml\")\n",
        "news_list=soup_page.findAll(\"item\")\n",
        "print(news_list)\n",
        "# Print news title, url and publish date\n",
        "for news in news_list:\n",
        "  print(news.title.text)\n",
        "  print(news.link.text)\n",
        "  print(news.pubDate.text)\n",
        "  print(\"-\"*60)"
      ],
      "execution_count": 26,
      "outputs": [
        {
          "output_type": "stream",
          "name": "stdout",
          "text": [
            "[<item><title>Federal arrest warrant issued for Brian Laundrie in Gabby Petito investigation - NBC News</title><link>https://news.google.com/__i/rss/rd/articles/CBMifWh0dHBzOi8vd3d3Lm5iY25ld3MuY29tL25ld3MvdXMtbmV3cy9mZWRlcmFsLWFycmVzdC13YXJyYW50LWlzc3VlZC1icmlhbi1sYXVuZHJpZS1yZWxhdGVkLWdhYmJ5LXBldGl0by1pbnZlc3RpZ2F0aW9uLW4xMjc5OTg20gEsaHR0cHM6Ly93d3cubmJjbmV3cy5jb20vbmV3cy9hbXAvbmNuYTEyNzk5ODY?oc=5</link><guid isPermaLink=\"false\">52781891836018</guid><pubDate>Thu, 23 Sep 2021 23:59:00 GMT</pubDate><description>&lt;ol&gt;&lt;li&gt;&lt;a href=\"https://news.google.com/__i/rss/rd/articles/CBMifWh0dHBzOi8vd3d3Lm5iY25ld3MuY29tL25ld3MvdXMtbmV3cy9mZWRlcmFsLWFycmVzdC13YXJyYW50LWlzc3VlZC1icmlhbi1sYXVuZHJpZS1yZWxhdGVkLWdhYmJ5LXBldGl0by1pbnZlc3RpZ2F0aW9uLW4xMjc5OTg20gEsaHR0cHM6Ly93d3cubmJjbmV3cy5jb20vbmV3cy9hbXAvbmNuYTEyNzk5ODY?oc=5\" target=\"_blank\"&gt;Federal arrest warrant issued for Brian Laundrie in Gabby Petito investigation&lt;/a&gt;&amp;nbsp;&amp;nbsp;&lt;font color=\"#6f6f6f\"&gt;NBC News&lt;/font&gt;&lt;/li&gt;&lt;li&gt;&lt;a href=\"https://news.google.com/__i/rss/rd/articles/CBMiXmh0dHBzOi8vd3d3Lmluc2lkZXIuY29tL25laWdoYm9yLXNheXMtc2F3LWJyaWFuLWxhdW5kcmllLXBhcmVudHMtbGVhdmUtaG9tZS13aXRoLWNhbXBlci0yMDIxLTnSAWJodHRwczovL3d3dy5pbnNpZGVyLmNvbS9uZWlnaGJvci1zYXlzLXNhdy1icmlhbi1sYXVuZHJpZS1wYXJlbnRzLWxlYXZlLWhvbWUtd2l0aC1jYW1wZXItMjAyMS05P2FtcA?oc=5\" target=\"_blank\"&gt;Neighbors say they saw Brian Laundrie, parents leave home with camper&lt;/a&gt;&amp;nbsp;&amp;nbsp;&lt;font color=\"#6f6f6f\"&gt;Insider&lt;/font&gt;&lt;/li&gt;&lt;li&gt;&lt;a href=\"https://news.google.com/__i/rss/rd/articles/CBMihAFodHRwczovL3d3dy5ueWRhaWx5bmV3cy5jb20vbmV3cy9jcmltZS9ueS1icmlhbi1sYXVuZHJpZS1iYW5rLWNhcmQtZnJhdWQtZ2FiYnktcGV0aXRvLTIwMjEwOTI0LWtjNG13Nmx0amphMnZhbnFlNGV4bWs1ZGlhLXN0b3J5Lmh0bWzSAZMBaHR0cHM6Ly93d3cubnlkYWlseW5ld3MuY29tL25ld3MvY3JpbWUvbnktYnJpYW4tbGF1bmRyaWUtYmFuay1jYXJkLWZyYXVkLWdhYmJ5LXBldGl0by0yMDIxMDkyNC1rYzRtdzZsdGpqYTJ2YW5xZTRleG1rNWRpYS1zdG9yeS5odG1sP291dHB1dFR5cGU9YW1w?oc=5\" target=\"_blank\"&gt;Brian Laundrie, still missing, charged with bank-card fraud&lt;/a&gt;&amp;nbsp;&amp;nbsp;&lt;font color=\"#6f6f6f\"&gt;New York Daily News&lt;/font&gt;&lt;/li&gt;&lt;li&gt;&lt;a href=\"https://news.google.com/__i/rss/rd/articles/CBMib2h0dHBzOi8vd3d3LndmbGEuY29tLzgtb24teW91ci1zaWRlL2xhdy1wcm90ZWN0cy1wYXJlbnRzLWZyb20tYWNjZXNzb3J5LWNoYXJnZXMtYnV0LW5vdC1mcm9tLW90aGVyLWFsbGVnYXRpb25zL9IBc2h0dHBzOi8vd3d3LndmbGEuY29tLzgtb24teW91ci1zaWRlL2xhdy1wcm90ZWN0cy1wYXJlbnRzLWZyb20tYWNjZXNzb3J5LWNoYXJnZXMtYnV0LW5vdC1mcm9tLW90aGVyLWFsbGVnYXRpb25zL2FtcC8?oc=5\" target=\"_blank\"&gt;Law may protect Brian Laundrie’s parents from accessory charges but not from other allegations&lt;/a&gt;&amp;nbsp;&amp;nbsp;&lt;font color=\"#6f6f6f\"&gt;WFLA&lt;/font&gt;&lt;/li&gt;&lt;li&gt;&lt;a href=\"https://news.google.com/__i/rss/rd/articles/CBMijAFodHRwczovL3d3dy5hemNlbnRyYWwuY29tL3N0b3J5L29waW5pb24vb3AtZWQvZ3JlZy1tb29yZS8yMDIxLzA5LzIzL3doeS1nYWJieS1wZXRpdG8tYmxhY2stbGF0aW5vLWFuZC1uYXRpdmUtYW1lcmljYW5zLXJpZ2h0LWFzay81ODIwMTcxMDAxL9IBKGh0dHBzOi8vYW1wLmF6Y2VudHJhbC5jb20vYW1wLzU4MjAxNzEwMDE?oc=5\" target=\"_blank\"&gt;Why does Gabby Petito mesmerize white America when so many others are ignored?&lt;/a&gt;&amp;nbsp;&amp;nbsp;&lt;font color=\"#6f6f6f\"&gt;The Arizona Republic&lt;/font&gt;&lt;/li&gt;&lt;li&gt;&lt;strong&gt;&lt;a href=\"https://news.google.com/stories/CAAqOQgKIjNDQklTSURvSmMzUnZjbmt0TXpZd1NoTUtFUWp5c0tmdms0QU1FU3NEcVVpX01pcmtLQUFQAQ?oc=5\" target=\"_blank\"&gt;View Full Coverage on Google News&lt;/a&gt;&lt;/strong&gt;&lt;/li&gt;&lt;/ol&gt;</description><source url=\"https://www.nbcnews.com\">NBC News</source></item>, <item><title>January 6 committee issues first subpoenas for witness testimony to four Trump loyalists - CNN</title><link>https://news.google.com/__i/rss/rd/articles/CBMiVmh0dHBzOi8vd3d3LmNubi5jb20vMjAyMS8wOS8yMy9wb2xpdGljcy9qYW51YXJ5LTYtc3VicG9lbmFzLXRydW1wLWxveWFsaXN0cy9pbmRleC5odG1s0gFaaHR0cHM6Ly9hbXAuY25uLmNvbS9jbm4vMjAyMS8wOS8yMy9wb2xpdGljcy9qYW51YXJ5LTYtc3VicG9lbmFzLXRydW1wLWxveWFsaXN0cy9pbmRleC5odG1s?oc=5</link><guid isPermaLink=\"false\">52781898804083</guid><pubDate>Fri, 24 Sep 2021 00:57:00 GMT</pubDate><description>&lt;ol&gt;&lt;li&gt;&lt;a href=\"https://news.google.com/__i/rss/rd/articles/CBMiVmh0dHBzOi8vd3d3LmNubi5jb20vMjAyMS8wOS8yMy9wb2xpdGljcy9qYW51YXJ5LTYtc3VicG9lbmFzLXRydW1wLWxveWFsaXN0cy9pbmRleC5odG1s0gFaaHR0cHM6Ly9hbXAuY25uLmNvbS9jbm4vMjAyMS8wOS8yMy9wb2xpdGljcy9qYW51YXJ5LTYtc3VicG9lbmFzLXRydW1wLWxveWFsaXN0cy9pbmRleC5odG1s?oc=5\" target=\"_blank\"&gt;January 6 committee issues first subpoenas for witness testimony to four Trump loyalists&lt;/a&gt;&amp;nbsp;&amp;nbsp;&lt;font color=\"#6f6f6f\"&gt;CNN&lt;/font&gt;&lt;/li&gt;&lt;li&gt;&lt;a href=\"https://news.google.com/__i/rss/rd/articles/CBMiaGh0dHBzOi8vd3d3Lm1zbi5jb20vZW4tdXMvbmV3cy9wb2xpdGljcy9ob3VzZS1qYW4tNi1wYW5lbC1zdWJwb2VuYXMtdHJ1bXAtYWR2aXNlcnMtYXNzb2NpYXRlcy9hci1BQU9LVFlG0gEA?oc=5\" target=\"_blank\"&gt;House Jan. 6 panel subpoenas Trump advisers, associates&lt;/a&gt;&amp;nbsp;&amp;nbsp;&lt;font color=\"#6f6f6f\"&gt;msnNOW&lt;/font&gt;&lt;/li&gt;&lt;li&gt;&lt;a href=\"https://news.google.com/__i/rss/rd/articles/CBMiK2h0dHBzOi8vd3d3LnlvdXR1YmUuY29tL3dhdGNoP3Y9VlNMTXVEYWhFcDDSAQA?oc=5\" target=\"_blank\"&gt;BREAKING: Jan. 6 Select Committee Subpoenas Four Trump Associates&lt;/a&gt;&amp;nbsp;&amp;nbsp;&lt;font color=\"#6f6f6f\"&gt;MSNBC&lt;/font&gt;&lt;/li&gt;&lt;li&gt;&lt;a href=\"https://news.google.com/__i/rss/rd/articles/CBMiZ2h0dHBzOi8vd3d3LnBvbGl0aWNvLmNvbS9uZXdzLzIwMjEvMDkvMjMvamFuLTYtY29tbWl0dGVlLXN1YnBvZW5hcy1mb3VyLWZyb20tdHJ1bXBzLWlubmVyLWNpcmNsZS01MTM5ODnSAQA?oc=5\" target=\"_blank\"&gt;Jan. 6 committee subpoenas 4 from Trump's inner circle&lt;/a&gt;&amp;nbsp;&amp;nbsp;&lt;font color=\"#6f6f6f\"&gt;POLITICO&lt;/font&gt;&lt;/li&gt;&lt;li&gt;&lt;a href=\"https://news.google.com/__i/rss/rd/articles/CBMikwFodHRwczovL3d3dy5jbmJjLmNvbS8yMDIxLzA5LzIzL2hvdXNlLWNvbW1pdHRlZS1wcm9iaW5nLWphbi02LWNhcGl0b2wtcmlvdC1zdWJwb2VuYXMtZm91ci10cnVtcC1hbGxpZXMtaW5jbHVkaW5nLW1hcmstbWVhZG93cy1hbmQtc3RldmUtYmFubm9uLmh0bWzSAZcBaHR0cHM6Ly93d3cuY25iYy5jb20vYW1wLzIwMjEvMDkvMjMvaG91c2UtY29tbWl0dGVlLXByb2JpbmctamFuLTYtY2FwaXRvbC1yaW90LXN1YnBvZW5hcy1mb3VyLXRydW1wLWFsbGllcy1pbmNsdWRpbmctbWFyay1tZWFkb3dzLWFuZC1zdGV2ZS1iYW5ub24uaHRtbA?oc=5\" target=\"_blank\"&gt;House committee probing Jan. 6 Capitol riot subpoenas four Trump allies, including Mark Meadows and Steve Bannon&lt;/a&gt;&amp;nbsp;&amp;nbsp;&lt;font color=\"#6f6f6f\"&gt;CNBC&lt;/font&gt;&lt;/li&gt;&lt;li&gt;&lt;strong&gt;&lt;a href=\"https://news.google.com/stories/CAAqOQgKIjNDQklTSURvSmMzUnZjbmt0TXpZd1NoTUtFUWp6MXREeWs0QU1FYUowWDF2NWg5QUdLQUFQAQ?oc=5\" target=\"_blank\"&gt;View Full Coverage on Google News&lt;/a&gt;&lt;/strong&gt;&lt;/li&gt;&lt;/ol&gt;</description><source url=\"https://www.cnn.com\">CNN</source></item>, <item><title>Collierville, TN Kroger shooting kills 2, including shooter, injures 12 more - WREG NewsChannel 3</title><link>https://news.google.com/__i/rss/rd/articles/CBMiRWh0dHBzOi8vd3d3LndyZWcuY29tL25ld3MvbG9jYWwvYWN0aXZlLXNob290ZXItb24tYnloYWxpYS1hbmQtcG9wbGFyL9IBSWh0dHBzOi8vd3d3LndyZWcuY29tL25ld3MvbG9jYWwvYWN0aXZlLXNob290ZXItb24tYnloYWxpYS1hbmQtcG9wbGFyL2FtcC8?oc=5</link><guid isPermaLink=\"false\">52781898534116</guid><pubDate>Thu, 23 Sep 2021 18:59:08 GMT</pubDate><description>&lt;ol&gt;&lt;li&gt;&lt;a href=\"https://news.google.com/__i/rss/rd/articles/CBMiRWh0dHBzOi8vd3d3LndyZWcuY29tL25ld3MvbG9jYWwvYWN0aXZlLXNob290ZXItb24tYnloYWxpYS1hbmQtcG9wbGFyL9IBSWh0dHBzOi8vd3d3LndyZWcuY29tL25ld3MvbG9jYWwvYWN0aXZlLXNob290ZXItb24tYnloYWxpYS1hbmQtcG9wbGFyL2FtcC8?oc=5\" target=\"_blank\"&gt;Collierville, TN Kroger shooting kills 2, including shooter, injures 12 more&lt;/a&gt;&amp;nbsp;&amp;nbsp;&lt;font color=\"#6f6f6f\"&gt;WREG NewsChannel 3&lt;/font&gt;&lt;/li&gt;&lt;li&gt;&lt;a href=\"https://news.google.com/__i/rss/rd/articles/CBMiVWh0dHBzOi8vd3d3LmZveG5ld3MuY29tL3VzL21lbXBoaXMtcG9saWNlLXJlc3BvbmQtdG8tc2hvb3RpbmctYXQta3JvZ2VyLWdyb2Nlcnktc3RvcmXSAVlodHRwczovL3d3dy5mb3huZXdzLmNvbS91cy9tZW1waGlzLXBvbGljZS1yZXNwb25kLXRvLXNob290aW5nLWF0LWtyb2dlci1ncm9jZXJ5LXN0b3JlLmFtcA?oc=5\" target=\"_blank\"&gt;Tennessee Kroger grocery store shooting leaves 1 dead, multiple injured&lt;/a&gt;&amp;nbsp;&amp;nbsp;&lt;font color=\"#6f6f6f\"&gt;Fox News&lt;/font&gt;&lt;/li&gt;&lt;li&gt;&lt;a href=\"https://news.google.com/__i/rss/rd/articles/CBMiK2h0dHBzOi8vd3d3LnlvdXR1YmUuY29tL3dhdGNoP3Y9X0ZrYjRfeFgtV1nSAQA?oc=5\" target=\"_blank\"&gt;1 Killed, 13 Others Injured In Shooting At Kroger Supermarket Outside Memphis&lt;/a&gt;&amp;nbsp;&amp;nbsp;&lt;font color=\"#6f6f6f\"&gt;NBC News&lt;/font&gt;&lt;/li&gt;&lt;li&gt;&lt;a href=\"https://news.google.com/__i/rss/rd/articles/CBMiiQFodHRwczovL3d3dy5mb3gxM21lbXBoaXMuY29tL25ld3MvbG9jYWwvbGl2ZS11cGRhdGVzLTEzLXBlb3BsZS1pbmp1cmVkLTEtZGVhZC1jb2xsaWVydmlsbGUta3JvZ2VyLXNvdXJjZXMtc2F5L0s0VkZUVEFGTjVHTVJCRkFIUlVMWDI1S1VNL9IBmAFodHRwczovL3d3dy5mb3gxM21lbXBoaXMuY29tL25ld3MvbG9jYWwvbGl2ZS11cGRhdGVzLTEzLXBlb3BsZS1pbmp1cmVkLTEtZGVhZC1jb2xsaWVydmlsbGUta3JvZ2VyLXNvdXJjZXMtc2F5L0s0VkZUVEFGTjVHTVJCRkFIUlVMWDI1S1VNLz9vdXRwdXRUeXBlPWFtcA?oc=5\" target=\"_blank\"&gt;LIVE UPDATES: 13 people injured, 1 dead at Collierville Kroger&lt;/a&gt;&amp;nbsp;&amp;nbsp;&lt;font color=\"#6f6f6f\"&gt;FOX13 Memphis&lt;/font&gt;&lt;/li&gt;&lt;li&gt;&lt;a href=\"https://news.google.com/__i/rss/rd/articles/CBMiK2h0dHBzOi8vd3d3LnlvdXR1YmUuY29tL3dhdGNoP3Y9RFpnSjd1cXNYSEnSAQA?oc=5\" target=\"_blank\"&gt;Shooting reported at Kroger outside Memphis&lt;/a&gt;&amp;nbsp;&amp;nbsp;&lt;font color=\"#6f6f6f\"&gt;&lt;/font&gt;&lt;/li&gt;&lt;li&gt;&lt;strong&gt;&lt;a href=\"https://news.google.com/stories/CAAqOQgKIjNDQklTSURvSmMzUnZjbmt0TXpZd1NoTUtFUWprbWNEeWs0QU1FV0w4cmw5eTZZWjVLQUFQAQ?oc=5\" target=\"_blank\"&gt;View Full Coverage on Google News&lt;/a&gt;&lt;/strong&gt;&lt;/li&gt;&lt;/ol&gt;</description><source url=\"https://www.wreg.com\">WREG NewsChannel 3</source></item>, <item><title>U.S. Border Patrol will no longer use horses in Del Rio, Texas, after outrage over treatment of Haitian migrants - CNBC</title><link>https://news.google.com/__i/rss/rd/articles/CBMidmh0dHBzOi8vd3d3LmNuYmMuY29tLzIwMjEvMDkvMjMvYm9yZGVyLXBhdHJvbC13b250LXVzZS1ob3JzZXMtaW4tZGVsLXJpby1hZnRlci1vdXRyYWdlLW92ZXItdHJlYXRtZW50LW9mLWhhaXRpYW5zLmh0bWzSAXpodHRwczovL3d3dy5jbmJjLmNvbS9hbXAvMjAyMS8wOS8yMy9ib3JkZXItcGF0cm9sLXdvbnQtdXNlLWhvcnNlcy1pbi1kZWwtcmlvLWFmdGVyLW91dHJhZ2Utb3Zlci10cmVhdG1lbnQtb2YtaGFpdGlhbnMuaHRtbA?oc=5</link><guid isPermaLink=\"false\">52781884709909</guid><pubDate>Thu, 23 Sep 2021 23:04:57 GMT</pubDate><description>&lt;ol&gt;&lt;li&gt;&lt;a href=\"https://news.google.com/__i/rss/rd/articles/CBMidmh0dHBzOi8vd3d3LmNuYmMuY29tLzIwMjEvMDkvMjMvYm9yZGVyLXBhdHJvbC13b250LXVzZS1ob3JzZXMtaW4tZGVsLXJpby1hZnRlci1vdXRyYWdlLW92ZXItdHJlYXRtZW50LW9mLWhhaXRpYW5zLmh0bWzSAXpodHRwczovL3d3dy5jbmJjLmNvbS9hbXAvMjAyMS8wOS8yMy9ib3JkZXItcGF0cm9sLXdvbnQtdXNlLWhvcnNlcy1pbi1kZWwtcmlvLWFmdGVyLW91dHJhZ2Utb3Zlci10cmVhdG1lbnQtb2YtaGFpdGlhbnMuaHRtbA?oc=5\" target=\"_blank\"&gt;U.S. Border Patrol will no longer use horses in Del Rio, Texas, after outrage over treatment of Haitian migrants&lt;/a&gt;&amp;nbsp;&amp;nbsp;&lt;font color=\"#6f6f6f\"&gt;CNBC&lt;/font&gt;&lt;/li&gt;&lt;li&gt;&lt;a href=\"https://news.google.com/__i/rss/rd/articles/CBMiggFodHRwczovL25ld3MueWFob28uY29tL2V4Y2x1c2l2ZS1kaHMtdHJhY2tlZC1oYWl0aWFuLW1pZ3JhdGlvbi1mb3ItbW9udGhzLWJ1dC1mYWlsZWQtdG8tcHJlZGljdC1zdXJnZS1hdC10aGUtYm9yZGVyLTIyNTU1MTU1NC5odG1s0gGKAWh0dHBzOi8vbmV3cy55YWhvby5jb20vYW1waHRtbC9leGNsdXNpdmUtZGhzLXRyYWNrZWQtaGFpdGlhbi1taWdyYXRpb24tZm9yLW1vbnRocy1idXQtZmFpbGVkLXRvLXByZWRpY3Qtc3VyZ2UtYXQtdGhlLWJvcmRlci0yMjU1NTE1NTQuaHRtbA?oc=5\" target=\"_blank\"&gt;Exclusive: DHS tracked Haitian migration for months but failed to predict surge at the border&lt;/a&gt;&amp;nbsp;&amp;nbsp;&lt;font color=\"#6f6f6f\"&gt;Yahoo News&lt;/font&gt;&lt;/li&gt;&lt;li&gt;&lt;a href=\"https://news.google.com/__i/rss/rd/articles/CBMiRWh0dHBzOi8vd3d3LmNubi5jb20vMjAyMS8wOS8yMy9wb2xpdGljcy9kYW5pZWwtZm9vdGUtaGFpdGkvaW5kZXguaHRtbNIBSWh0dHBzOi8vYW1wLmNubi5jb20vY25uLzIwMjEvMDkvMjMvcG9saXRpY3MvZGFuaWVsLWZvb3RlLWhhaXRpL2luZGV4Lmh0bWw?oc=5\" target=\"_blank\"&gt;Special envoy for Haiti resigns citing 'inhumane' US decision to deport thousands of Haitians from US border&lt;/a&gt;&amp;nbsp;&amp;nbsp;&lt;font color=\"#6f6f6f\"&gt;CNN&lt;/font&gt;&lt;/li&gt;&lt;li&gt;&lt;a href=\"https://news.google.com/__i/rss/rd/articles/CBMiamh0dHBzOi8vd3d3LmV4cHJlc3NuZXdzLmNvbS9uZXdzL2xvY2FsL2FydGljbGUvVW5ydWx5LXBhc3NlbmdlcnMtZm9yY2VkLWNhbmNlbGxhdGlvbi1vZi1IYWl0aS0xNjQ4MjkzMC5waHDSAQA?oc=5\" target=\"_blank\"&gt;Unruly passengers forced cancellation of Haiti deportation flight from San Antonio&lt;/a&gt;&amp;nbsp;&amp;nbsp;&lt;font color=\"#6f6f6f\"&gt;San Antonio Express-News&lt;/font&gt;&lt;/li&gt;&lt;li&gt;&lt;a href=\"https://news.google.com/__i/rss/rd/articles/CBMicWh0dHBzOi8vdGhld2Vlay5jb20vaW1taWdyYXRpb24vMTAwNTE5MC90aGUtdmlyYWwtcGhvdG8tb2YtaGFpdGlhbi1taWdyYW50cy10YXBzLWludG8tdGhlLWRhcmstZWNob2VzLW9mLWFtZXJpY2Fu0gF1aHR0cHM6Ly90aGV3ZWVrLmNvbS9pbW1pZ3JhdGlvbi8xMDA1MTkwL3RoZS12aXJhbC1waG90by1vZi1oYWl0aWFuLW1pZ3JhbnRzLXRhcHMtaW50by10aGUtZGFyay1lY2hvZXMtb2YtYW1lcmljYW4_YW1w?oc=5\" target=\"_blank\"&gt;A viral photo and the dark echoes of history&lt;/a&gt;&amp;nbsp;&amp;nbsp;&lt;font color=\"#6f6f6f\"&gt;The Week Magazine&lt;/font&gt;&lt;/li&gt;&lt;li&gt;&lt;strong&gt;&lt;a href=\"https://news.google.com/stories/CAAqOQgKIjNDQklTSURvSmMzUnZjbmt0TXpZd1NoTUtFUWlWdVBUcms0QU1FYmljMVY5WUZ6ZjhLQUFQAQ?oc=5\" target=\"_blank\"&gt;View Full Coverage on Google News&lt;/a&gt;&lt;/strong&gt;&lt;/li&gt;&lt;/ol&gt;</description><source url=\"https://www.cnbc.com\">CNBC</source></item>, <item><title>Jelani Day: Body found in Illinois River was missing Alabama A&amp;M grad - AL.com</title><link>https://news.google.com/__i/rss/rd/articles/CBMiaWh0dHBzOi8vd3d3LmFsLmNvbS9uZXdzLzIwMjEvMDkvamVsYW5pLWRheXMtYm9keS1mb3VuZC1pbi1yaXZlci1hbGFiYW1hLWFtLWdyYWQtdmFuaXNoZWQtaW4taWxsaW5vaXMuaHRtbNIBeGh0dHBzOi8vd3d3LmFsLmNvbS9uZXdzLzIwMjEvMDkvamVsYW5pLWRheXMtYm9keS1mb3VuZC1pbi1yaXZlci1hbGFiYW1hLWFtLWdyYWQtdmFuaXNoZWQtaW4taWxsaW5vaXMuaHRtbD9vdXRwdXRUeXBlPWFtcA?oc=5</link><guid isPermaLink=\"false\">52781894568778</guid><pubDate>Thu, 23 Sep 2021 21:04:20 GMT</pubDate><description>&lt;ol&gt;&lt;li&gt;&lt;a href=\"https://news.google.com/__i/rss/rd/articles/CBMiaWh0dHBzOi8vd3d3LmFsLmNvbS9uZXdzLzIwMjEvMDkvamVsYW5pLWRheXMtYm9keS1mb3VuZC1pbi1yaXZlci1hbGFiYW1hLWFtLWdyYWQtdmFuaXNoZWQtaW4taWxsaW5vaXMuaHRtbNIBeGh0dHBzOi8vd3d3LmFsLmNvbS9uZXdzLzIwMjEvMDkvamVsYW5pLWRheXMtYm9keS1mb3VuZC1pbi1yaXZlci1hbGFiYW1hLWFtLWdyYWQtdmFuaXNoZWQtaW4taWxsaW5vaXMuaHRtbD9vdXRwdXRUeXBlPWFtcA?oc=5\" target=\"_blank\"&gt;Jelani Day: Body found in Illinois River was missing Alabama A&amp;M grad&lt;/a&gt;&amp;nbsp;&amp;nbsp;&lt;font color=\"#6f6f6f\"&gt;AL.com&lt;/font&gt;&lt;/li&gt;&lt;li&gt;&lt;a href=\"https://news.google.com/__i/rss/rd/articles/CBMiT2h0dHBzOi8vd3d3LmNubi5jb20vMjAyMS8wOS8yMy91cy9qZWxhbmktZGF5LW1pc3NpbmctYm9keS1pZGVudGlmaWVkL2luZGV4Lmh0bWzSAVNodHRwczovL2FtcC5jbm4uY29tL2Nubi8yMDIxLzA5LzIzL3VzL2plbGFuaS1kYXktbWlzc2luZy1ib2R5LWlkZW50aWZpZWQvaW5kZXguaHRtbA?oc=5\" target=\"_blank\"&gt;Illinois coroner identifies body as missing graduate student Jelani Day&lt;/a&gt;&amp;nbsp;&amp;nbsp;&lt;font color=\"#6f6f6f\"&gt;CNN&lt;/font&gt;&lt;/li&gt;&lt;li&gt;&lt;a href=\"https://news.google.com/__i/rss/rd/articles/CBMiUGh0dHBzOi8vd3d3LnlhaG9vLmNvbS9uZXdzL2JvZHktaWRlbnRpZmllZC1taXNzaW5nLWlsbGlub2lzLXN0YXRlLTIxMTMxNTA4My5odG1s0gFZaHR0cHM6Ly9uZXdzLnlhaG9vLmNvbS9hbXBodG1sL25ld3MvYm9keS1pZGVudGlmaWVkLW1pc3NpbmctaWxsaW5vaXMtc3RhdGUtMjExMzE1MDgzLmh0bWw?oc=5\" target=\"_blank\"&gt;Body identified as missing Illinois State University graduate student Jelani Day&lt;/a&gt;&amp;nbsp;&amp;nbsp;&lt;font color=\"#6f6f6f\"&gt;Yahoo! Voices&lt;/font&gt;&lt;/li&gt;&lt;li&gt;&lt;a href=\"https://news.google.com/__i/rss/rd/articles/CBMiqAFodHRwczovL3d3dy5uZXdzLWdhemV0dGUuY29tL25ld3MvbG9jYWwvY291cnRzLXBvbGljZS1maXJlL3VwZGF0ZS1ib2R5LWlkZW50aWZpZWQtYXMtdGhhdC1vZi1taXNzaW5nLWRhbnZpbGxlLXJlc2lkZW50L2FydGljbGVfODcxYjU4ZTMtMDE4NS01ZjA5LWIxYmUtZTE0NDJkYjRhNzZlLmh0bWzSAQA?oc=5\" target=\"_blank\"&gt;UPDATE: Body identified as that of missing Danville resident&lt;/a&gt;&amp;nbsp;&amp;nbsp;&lt;font color=\"#6f6f6f\"&gt;Champaign/Urbana News-Gazette&lt;/font&gt;&lt;/li&gt;&lt;li&gt;&lt;a href=\"https://news.google.com/__i/rss/rd/articles/CBMiK2h0dHBzOi8vd3d3LnlvdXR1YmUuY29tL3dhdGNoP3Y9THY4WW5iOUhmM2_SAQA?oc=5\" target=\"_blank\"&gt;Body found in Illinois River is missing ISU grad student Jelani Day, coroner confirms&lt;/a&gt;&amp;nbsp;&amp;nbsp;&lt;font color=\"#6f6f6f\"&gt;WGN News&lt;/font&gt;&lt;/li&gt;&lt;li&gt;&lt;strong&gt;&lt;a href=\"https://news.google.com/stories/CAAqOQgKIjNDQklTSURvSmMzUnZjbmt0TXpZd1NoTUtFUWpLbHM3d2s0QU1FV0xTMmdhUnI3R0hLQUFQAQ?oc=5\" target=\"_blank\"&gt;View Full Coverage on Google News&lt;/a&gt;&lt;/strong&gt;&lt;/li&gt;&lt;/ol&gt;</description><source url=\"https://www.al.com\">AL.com</source></item>, <item><title>Search for missing geologist in Arizona continues 3 months after disappearance from desert job site - Fox News</title><link>https://news.google.com/__i/rss/rd/articles/CBMiO2h0dHBzOi8vd3d3LmZveG5ld3MuY29tL3VzL21pc3NpbmctZ2VvbG9naXN0LWFyaXpvbmEtc2VhcmNo0gE_aHR0cHM6Ly93d3cuZm94bmV3cy5jb20vdXMvbWlzc2luZy1nZW9sb2dpc3QtYXJpem9uYS1zZWFyY2guYW1w?oc=5</link><guid isPermaLink=\"false\">52781894806276</guid><pubDate>Thu, 23 Sep 2021 18:13:53 GMT</pubDate><description>&lt;ol&gt;&lt;li&gt;&lt;a href=\"https://news.google.com/__i/rss/rd/articles/CBMiO2h0dHBzOi8vd3d3LmZveG5ld3MuY29tL3VzL21pc3NpbmctZ2VvbG9naXN0LWFyaXpvbmEtc2VhcmNo0gE_aHR0cHM6Ly93d3cuZm94bmV3cy5jb20vdXMvbWlzc2luZy1nZW9sb2dpc3QtYXJpem9uYS1zZWFyY2guYW1w?oc=5\" target=\"_blank\"&gt;Search for missing geologist in Arizona continues 3 months after disappearance from desert job site&lt;/a&gt;&amp;nbsp;&amp;nbsp;&lt;font color=\"#6f6f6f\"&gt;Fox News&lt;/font&gt;&lt;/li&gt;&lt;li&gt;&lt;a href=\"https://news.google.com/__i/rss/rd/articles/CBMiSmh0dHBzOi8vd3d3LmNubi5jb20vMjAyMS8wOS8yMy91cy9mYW1pbGllcy1taXNzaW5nLWJsYWNrLXBlb3BsZS9pbmRleC5odG1s0gFOaHR0cHM6Ly9hbXAuY25uLmNvbS9jbm4vMjAyMS8wOS8yMy91cy9mYW1pbGllcy1taXNzaW5nLWJsYWNrLXBlb3BsZS9pbmRleC5odG1s?oc=5\" target=\"_blank\"&gt;These families of missing Black people are frustrated with the lack of response to their cases&lt;/a&gt;&amp;nbsp;&amp;nbsp;&lt;font color=\"#6f6f6f\"&gt;CNN&lt;/font&gt;&lt;/li&gt;&lt;li&gt;&lt;a href=\"https://news.google.com/__i/rss/rd/articles/CBMiSWh0dHBzOi8vd3d3LnlhaG9vLmNvbS9uZXdzL2ZhdGhlci1taXNzaW5nLTI0LW9sZC1nZW9sb2dpc3QtMjEwMDEwODcyLmh0bWzSAVJodHRwczovL25ld3MueWFob28uY29tL2FtcGh0bWwvbmV3cy9mYXRoZXItbWlzc2luZy0yNC1vbGQtZ2VvbG9naXN0LTIxMDAxMDg3Mi5odG1s?oc=5\" target=\"_blank\"&gt;The father of missing 24-year-old geologist Daniel Robinson said it's 'hurtful' to see more attention and urgency paid to Gabby Petito's case&lt;/a&gt;&amp;nbsp;&amp;nbsp;&lt;font color=\"#6f6f6f\"&gt;Yahoo! Voices&lt;/font&gt;&lt;/li&gt;&lt;li&gt;&lt;a href=\"https://news.google.com/__i/rss/rd/articles/CBMi4AFodHRwczovL3d3dy4xMm5ld3MuY29tL2FydGljbGUvbmV3cy9sb2NhbC92YWxsZXkvd2hlcmUtaXMtZGFuaWVsLXJvYmluc29uLXRocmVlLW1vbnRocy1hZnRlci10aGUtMjQteWVhci1vbGQtZ2VvbG9naXN0LWRpc2FwcGVhcmVkLWluLWJ1Y2tleWUtdGhlLWNhc2UtaXMtbm93LWdhaW5pbmctbmF0aW9uYWwtYXR0ZW50aW9uLzc1LWRjMTI4YjM0LTE5OTYtNDBlZi04NWQ4LWI0ZDQ1MjQyNmRhNNIB5AFodHRwczovL3d3dy4xMm5ld3MuY29tL2FtcC9hcnRpY2xlL25ld3MvbG9jYWwvdmFsbGV5L3doZXJlLWlzLWRhbmllbC1yb2JpbnNvbi10aHJlZS1tb250aHMtYWZ0ZXItdGhlLTI0LXllYXItb2xkLWdlb2xvZ2lzdC1kaXNhcHBlYXJlZC1pbi1idWNrZXllLXRoZS1jYXNlLWlzLW5vdy1nYWluaW5nLW5hdGlvbmFsLWF0dGVudGlvbi83NS1kYzEyOGIzNC0xOTk2LTQwZWYtODVkOC1iNGQ0NTI0MjZkYTQ?oc=5\" target=\"_blank\"&gt;Where is Daniel Robinson? Three months after the 24-year-old geologist disappeared in Buckeye, the case is now gaining national attention&lt;/a&gt;&amp;nbsp;&amp;nbsp;&lt;font color=\"#6f6f6f\"&gt;12news.com KPNX&lt;/font&gt;&lt;/li&gt;&lt;li&gt;&lt;a href=\"https://news.google.com/__i/rss/rd/articles/CBMibmh0dHBzOi8vcGVvcGxlLmNvbS9jcmltZS9nZW9sb2dpc3QtZ29lcy1taXNzaW5nLWFmdGVyLWxlYXZpbmctYXJpem9uYS1qb2Itc2l0ZS1kYWQtc3RpbGwtZmlnaHRpbmctZm9yLWFuc3dlcnMv0gF3aHR0cHM6Ly9wZW9wbGUuY29tL2NyaW1lL2dlb2xvZ2lzdC1nb2VzLW1pc3NpbmctYWZ0ZXItbGVhdmluZy1hcml6b25hLWpvYi1zaXRlLWRhZC1zdGlsbC1maWdodGluZy1mb3ItYW5zd2Vycy8_YW1wPXRydWU?oc=5\" target=\"_blank\"&gt;Geologist Goes Missing After Leaving Job Site — 3 Months Later, Dad Is Still 'Fighting' for Answers&lt;/a&gt;&amp;nbsp;&amp;nbsp;&lt;font color=\"#6f6f6f\"&gt;PEOPLE&lt;/font&gt;&lt;/li&gt;&lt;li&gt;&lt;strong&gt;&lt;a href=\"https://news.google.com/stories/CAAqOQgKIjNDQklTSURvSmMzUnZjbmt0TXpZd1NoTUtFUWlFMXR6d2s0QU1FYXBHdDRpVzFtbHFLQUFQAQ?oc=5\" target=\"_blank\"&gt;View Full Coverage on Google News&lt;/a&gt;&lt;/strong&gt;&lt;/li&gt;&lt;/ol&gt;</description><source url=\"https://www.foxnews.com\">Fox News</source></item>, <item><title>Oldest human footprints in North America found in New Mexico - Associated Press</title><link>https://news.google.com/__i/rss/rd/articles/CBMiM2h0dHBzOi8vYXBuZXdzLmNvbS85N2NiNGIyZWEwZjQ5OWQ2ZWE1ZmJmZWJhYjI0MzQxM9IBAA?oc=5</link><guid isPermaLink=\"false\">52781898425939</guid><pubDate>Thu, 23 Sep 2021 22:53:32 GMT</pubDate><description>&lt;ol&gt;&lt;li&gt;&lt;a href=\"https://news.google.com/__i/rss/rd/articles/CBMiM2h0dHBzOi8vYXBuZXdzLmNvbS85N2NiNGIyZWEwZjQ5OWQ2ZWE1ZmJmZWJhYjI0MzQxM9IBAA?oc=5\" target=\"_blank\"&gt;Oldest human footprints in North America found in New Mexico&lt;/a&gt;&amp;nbsp;&amp;nbsp;&lt;font color=\"#6f6f6f\"&gt;Associated Press&lt;/font&gt;&lt;/li&gt;&lt;li&gt;&lt;a href=\"https://news.google.com/__i/rss/rd/articles/CBMiYGh0dHBzOi8vd3d3LmNubi5jb20vMjAyMS8wOS8yMy9hbWVyaWNhcy9mb290cHJpbnRzLWh1bWFucy1hcnJpdmUtaW4tbm9ydGgtYW1lcmljYS1zY24vaW5kZXguaHRtbNIBZGh0dHBzOi8vYW1wLmNubi5jb20vY25uLzIwMjEvMDkvMjMvYW1lcmljYXMvZm9vdHByaW50cy1odW1hbnMtYXJyaXZlLWluLW5vcnRoLWFtZXJpY2Etc2NuL2luZGV4Lmh0bWw?oc=5\" target=\"_blank\"&gt;Fossilized footprints show humans made it to North America much earlier than first thought&lt;/a&gt;&amp;nbsp;&amp;nbsp;&lt;font color=\"#6f6f6f\"&gt;CNN&lt;/font&gt;&lt;/li&gt;&lt;li&gt;&lt;a href=\"https://news.google.com/__i/rss/rd/articles/CBMiSmh0dHBzOi8vd3d3Lm55dGltZXMuY29tLzIwMjEvMDkvMjMvc2NpZW5jZS9hbmNpZW50LWZvb3RwcmludHMtaWNlLWFnZS5odG1s0gFOaHR0cHM6Ly93d3cubnl0aW1lcy5jb20vMjAyMS8wOS8yMy9zY2llbmNlL2FuY2llbnQtZm9vdHByaW50cy1pY2UtYWdlLmFtcC5odG1s?oc=5\" target=\"_blank\"&gt;Ancient Footprints Suggest Humans Arrived In Americas During Ice Age&lt;/a&gt;&amp;nbsp;&amp;nbsp;&lt;font color=\"#6f6f6f\"&gt;The New York Times&lt;/font&gt;&lt;/li&gt;&lt;li&gt;&lt;a href=\"https://news.google.com/__i/rss/rd/articles/CBMicGh0dHBzOi8vd3d3Lndzai5jb20vYXJ0aWNsZXMvYW5jaWVudC1mb290cHJpbnRzLXlpZWxkLXN1cnByaXNpbmctbmV3LWNsdWVzLWFib3V0LXRoZS1maXJzdC1hbWVyaWNhbnMtMTE2MzI0MjAwMDDSAQA?oc=5\" target=\"_blank\"&gt;Ancient Footprints Yield Surprising New Clues About the First Americans&lt;/a&gt;&amp;nbsp;&amp;nbsp;&lt;font color=\"#6f6f6f\"&gt;The Wall Street Journal&lt;/font&gt;&lt;/li&gt;&lt;li&gt;&lt;a href=\"https://news.google.com/__i/rss/rd/articles/CBMiUmh0dHBzOi8vbmV3cy55YWhvby5jb20vZWFybGllc3QtZGVmaW5pdGl2ZS1ldmlkZW5jZS1wZW9wbGUtYW1lcmljYXMtMTgwMDQ4MzY3Lmh0bWzSAVpodHRwczovL25ld3MueWFob28uY29tL2FtcGh0bWwvZWFybGllc3QtZGVmaW5pdGl2ZS1ldmlkZW5jZS1wZW9wbGUtYW1lcmljYXMtMTgwMDQ4MzY3Lmh0bWw?oc=5\" target=\"_blank\"&gt;Earliest definitive evidence of people in Americas&lt;/a&gt;&amp;nbsp;&amp;nbsp;&lt;font color=\"#6f6f6f\"&gt;Yahoo News&lt;/font&gt;&lt;/li&gt;&lt;li&gt;&lt;strong&gt;&lt;a href=\"https://news.google.com/stories/CAAqOQgKIjNDQklTSURvSmMzUnZjbmt0TXpZd1NoTUtFUWpUekxueWs0QU1FY2FnekZMbHMxZWlLQUFQAQ?oc=5\" target=\"_blank\"&gt;View Full Coverage on Google News&lt;/a&gt;&lt;/strong&gt;&lt;/li&gt;&lt;/ol&gt;</description><source url=\"https://apnews.com\">Associated Press</source></item>, <item><title>White House moving to release information on Trump to congressional investigators - CNN</title><link>https://news.google.com/__i/rss/rd/articles/CBMiZGh0dHBzOi8vd3d3LmNubi5jb20vMjAyMS8wOS8yMy9wb2xpdGljcy93aGl0ZS1ob3VzZS10cnVtcC1pbmZvcm1hdGlvbi1qYW51YXJ5LTYtY29tbWl0dGVlL2luZGV4Lmh0bWzSAWhodHRwczovL2FtcC5jbm4uY29tL2Nubi8yMDIxLzA5LzIzL3BvbGl0aWNzL3doaXRlLWhvdXNlLXRydW1wLWluZm9ybWF0aW9uLWphbnVhcnktNi1jb21taXR0ZWUvaW5kZXguaHRtbA?oc=5</link><guid isPermaLink=\"false\">52781898231389</guid><pubDate>Fri, 24 Sep 2021 00:16:00 GMT</pubDate><description>&lt;ol&gt;&lt;li&gt;&lt;a href=\"https://news.google.com/__i/rss/rd/articles/CBMiZGh0dHBzOi8vd3d3LmNubi5jb20vMjAyMS8wOS8yMy9wb2xpdGljcy93aGl0ZS1ob3VzZS10cnVtcC1pbmZvcm1hdGlvbi1qYW51YXJ5LTYtY29tbWl0dGVlL2luZGV4Lmh0bWzSAWhodHRwczovL2FtcC5jbm4uY29tL2Nubi8yMDIxLzA5LzIzL3BvbGl0aWNzL3doaXRlLWhvdXNlLXRydW1wLWluZm9ybWF0aW9uLWphbnVhcnktNi1jb21taXR0ZWUvaW5kZXguaHRtbA?oc=5\" target=\"_blank\"&gt;White House moving to release information on Trump to congressional investigators&lt;/a&gt;&amp;nbsp;&amp;nbsp;&lt;font color=\"#6f6f6f\"&gt;CNN&lt;/font&gt;&lt;/li&gt;&lt;li&gt;&lt;a href=\"https://news.google.com/__i/rss/rd/articles/CBMiQ2h0dHBzOi8vbmV3cy55YWhvby5jb20vYmlkZW4tZm91bmQtdHJ1bXBzLWxldHRlci1oaW0tMjAwMjMxOTg1Lmh0bWzSAUtodHRwczovL25ld3MueWFob28uY29tL2FtcGh0bWwvYmlkZW4tZm91bmQtdHJ1bXBzLWxldHRlci1oaW0tMjAwMjMxOTg1Lmh0bWw?oc=5\" target=\"_blank\"&gt;When Biden Found Trump's Letter to Him in Oval Office, He 'Put It in His Pocket and Did Not Share' It: Book&lt;/a&gt;&amp;nbsp;&amp;nbsp;&lt;font color=\"#6f6f6f\"&gt;Yahoo News&lt;/font&gt;&lt;/li&gt;&lt;li&gt;&lt;a href=\"https://news.google.com/__i/rss/rd/articles/CBMihgFodHRwczovL3d3dy53YXNoaW5ndG9ucG9zdC5jb20vcG9saXRpY3MvdHJ1bXAtZXhlY3V0aXZlLXByaXZpbGVnZS1zdWJwb2VuYXMvMjAyMS8wOS8yMy8xYzE2MzMxMi0xYmE3LTExZWMtODM4MC01ZmJhZGJjNDNlZjhfc3RvcnkuaHRtbNIBAA?oc=5\" target=\"_blank\"&gt;Biden, Trump headed to executive privilege showdown over Jan. 6 information&lt;/a&gt;&amp;nbsp;&amp;nbsp;&lt;font color=\"#6f6f6f\"&gt;The Washington Post&lt;/font&gt;&lt;/li&gt;&lt;li&gt;&lt;a href=\"https://news.google.com/__i/rss/rd/articles/CBMiSmh0dHBzOi8vd3d3Lm55dGltZXMuY29tLzIwMjEvMDkvMjIvb3Bpbmlvbi9iaWRlbi10cnVtcC1zdWJtYXJpbmUtZGVhbC5odG1s0gFOaHR0cHM6Ly93d3cubnl0aW1lcy5jb20vMjAyMS8wOS8yMi9vcGluaW9uL2JpZGVuLXRydW1wLXN1Ym1hcmluZS1kZWFsLmFtcC5odG1s?oc=5\" target=\"_blank\"&gt;Opinion | Is Biden Showing Shades of Trump?&lt;/a&gt;&amp;nbsp;&amp;nbsp;&lt;font color=\"#6f6f6f\"&gt;The New York Times&lt;/font&gt;&lt;/li&gt;&lt;li&gt;&lt;a href=\"https://news.google.com/__i/rss/rd/articles/CBMif2h0dHBzOi8vd3d3LmRlc2VyZXQuY29tL29waW5pb24vMjAyMS85LzIyLzIyNjg4MDk2L3ByZXNpZGVudC1qb2UtYmlkZW4tYS1mcmVuZW15LW9mLW91ci1leHBlcnRzLXNlLWN1cHAtY292aWQtMTktZm9yZWlnbi1wb2xpY3nSAYwBaHR0cHM6Ly93d3cuZGVzZXJldC5jb20vcGxhdGZvcm0vYW1wL29waW5pb24vMjAyMS85LzIyLzIyNjg4MDk2L3ByZXNpZGVudC1qb2UtYmlkZW4tYS1mcmVuZW15LW9mLW91ci1leHBlcnRzLXNlLWN1cHAtY292aWQtMTktZm9yZWlnbi1wb2xpY3k?oc=5\" target=\"_blank\"&gt;Biden didn’t listen to experts on Afghanistan. He broke his promise | Opinion&lt;/a&gt;&amp;nbsp;&amp;nbsp;&lt;font color=\"#6f6f6f\"&gt;Deseret News&lt;/font&gt;&lt;/li&gt;&lt;li&gt;&lt;strong&gt;&lt;a href=\"https://news.google.com/stories/CAAqOQgKIjNDQklTSURvSmMzUnZjbmt0TXpZd1NoTUtFUWpkM0szeWs0QU1FUlI5TjJMQ1ZNUVFLQUFQAQ?oc=5\" target=\"_blank\"&gt;View Full Coverage on Google News&lt;/a&gt;&lt;/strong&gt;&lt;/li&gt;&lt;/ol&gt;</description><source url=\"https://www.cnn.com\">CNN</source></item>, <item><title>AOC roasted for shedding 'crocodile tears' after crying over Israel Iron Dome House vote - Fox News</title><link>https://news.google.com/__i/rss/rd/articles/CBMiTmh0dHBzOi8vd3d3LmZveG5ld3MuY29tL21lZGlhL2FsZXhhbmRyaWEtb2Nhc2lvLWNvcnRlei1jcnlpbmctaXNyYWVsLWlyb24tZG9tZdIBUmh0dHBzOi8vd3d3LmZveG5ld3MuY29tL21lZGlhL2FsZXhhbmRyaWEtb2Nhc2lvLWNvcnRlei1jcnlpbmctaXNyYWVsLWlyb24tZG9tZS5hbXA?oc=5</link><guid isPermaLink=\"false\">52781894811606</guid><pubDate>Thu, 23 Sep 2021 21:52:14 GMT</pubDate><description>&lt;ol&gt;&lt;li&gt;&lt;a href=\"https://news.google.com/__i/rss/rd/articles/CBMiTmh0dHBzOi8vd3d3LmZveG5ld3MuY29tL21lZGlhL2FsZXhhbmRyaWEtb2Nhc2lvLWNvcnRlei1jcnlpbmctaXNyYWVsLWlyb24tZG9tZdIBUmh0dHBzOi8vd3d3LmZveG5ld3MuY29tL21lZGlhL2FsZXhhbmRyaWEtb2Nhc2lvLWNvcnRlei1jcnlpbmctaXNyYWVsLWlyb24tZG9tZS5hbXA?oc=5\" target=\"_blank\"&gt;AOC roasted for shedding 'crocodile tears' after crying over Israel Iron Dome House vote&lt;/a&gt;&amp;nbsp;&amp;nbsp;&lt;font color=\"#6f6f6f\"&gt;Fox News&lt;/font&gt;&lt;/li&gt;&lt;li&gt;&lt;a href=\"https://news.google.com/__i/rss/rd/articles/CBMiUmh0dHBzOi8vd3d3LmZveG5ld3MuY29tL3BvbGl0aWNzL3NxdWFkLWFuZ2Vycy1wcm8taXNyYWVsLWRlbXMtaXJvbi1kb21lLW9wcG9zaXRpb27SAVZodHRwczovL3d3dy5mb3huZXdzLmNvbS9wb2xpdGljcy9zcXVhZC1hbmdlcnMtcHJvLWlzcmFlbC1kZW1zLWlyb24tZG9tZS1vcHBvc2l0aW9uLmFtcA?oc=5\" target=\"_blank\"&gt;'Squad' angers pro-Israel Dems with stance against Iron Dome funding&lt;/a&gt;&amp;nbsp;&amp;nbsp;&lt;font color=\"#6f6f6f\"&gt;Fox News&lt;/font&gt;&lt;/li&gt;&lt;li&gt;&lt;a href=\"https://news.google.com/__i/rss/rd/articles/CBMiVGh0dHBzOi8vd3d3LmZveG5ld3MuY29tL3BvbGl0aWNzL2lzcmFlbC1pcm9uLWRvbWUtaG91c2UtbWVtYmVycy12b3RlLWFnYWluc3QtZnVuZGluZ9IBWGh0dHBzOi8vd3d3LmZveG5ld3MuY29tL3BvbGl0aWNzL2lzcmFlbC1pcm9uLWRvbWUtaG91c2UtbWVtYmVycy12b3RlLWFnYWluc3QtZnVuZGluZy5hbXA?oc=5\" target=\"_blank\"&gt;9 House members vote against Israel Iron Dome funding as Tlaib accused of anti-Semitism&lt;/a&gt;&amp;nbsp;&amp;nbsp;&lt;font color=\"#6f6f6f\"&gt;Fox News&lt;/font&gt;&lt;/li&gt;&lt;li&gt;&lt;a href=\"https://news.google.com/__i/rss/rd/articles/CBMiVGh0dHBzOi8vd3d3Lm55dGltZXMuY29tLzIwMjEvMDkvMjMvb3Bpbmlvbi9pc3JhZWwtZGVtb2NyYXQtYm93bWFuLWpheWFwYWwtdGxhaWIuaHRtbNIBWGh0dHBzOi8vd3d3Lm55dGltZXMuY29tLzIwMjEvMDkvMjMvb3Bpbmlvbi9pc3JhZWwtZGVtb2NyYXQtYm93bWFuLWpheWFwYWwtdGxhaWIuYW1wLmh0bWw?oc=5\" target=\"_blank\"&gt;Opinion | A Foul Play by Progressives Over Israel’s Iron Dome&lt;/a&gt;&amp;nbsp;&amp;nbsp;&lt;font color=\"#6f6f6f\"&gt;The New York Times&lt;/font&gt;&lt;/li&gt;&lt;li&gt;&lt;a href=\"https://news.google.com/__i/rss/rd/articles/CBMiVGh0dHBzOi8vd3d3Lndhc2hpbmd0b25wb3N0LmNvbS9vcGluaW9ucy8yMDIxLzA5LzIzL2lyb24tZG9tZS1kZW1vY3JhdHMtYW50aXNlbWl0aXNtL9IBAA?oc=5\" target=\"_blank\"&gt;Opinion | When you vote to let terrorists kill Jews, that is antisemitism&lt;/a&gt;&amp;nbsp;&amp;nbsp;&lt;font color=\"#6f6f6f\"&gt;The Washington Post&lt;/font&gt;&lt;/li&gt;&lt;li&gt;&lt;strong&gt;&lt;a href=\"https://news.google.com/stories/CAAqOQgKIjNDQklTSURvSmMzUnZjbmt0TXpZd1NoTUtFUWpXXzl6d2s0QU1FZWhxeUppcjctaEdLQUFQAQ?oc=5\" target=\"_blank\"&gt;View Full Coverage on Google News&lt;/a&gt;&lt;/strong&gt;&lt;/li&gt;&lt;/ol&gt;</description><source url=\"https://www.foxnews.com\">Fox News</source></item>, <item><title>Nancy Pelosi, Mick Jagger and the $3.5 trillion social spending bill - Fox News</title><link>https://news.google.com/__i/rss/rd/articles/CBMiaWh0dHBzOi8vd3d3LmZveG5ld3MuY29tL3BvbGl0aWNzL2hpdGNoaGlrZXJzLWd1aWRlLW5hbmN5LXBlbG9zaS1taWNrLWphZ2dlci10cmlsbGlvbi1zb2NpYWwtc3BlbmRpbmctYmlsbNIBbWh0dHBzOi8vd3d3LmZveG5ld3MuY29tL3BvbGl0aWNzL2hpdGNoaGlrZXJzLWd1aWRlLW5hbmN5LXBlbG9zaS1taWNrLWphZ2dlci10cmlsbGlvbi1zb2NpYWwtc3BlbmRpbmctYmlsbC5hbXA?oc=5</link><guid isPermaLink=\"false\">CAIiEOYbwJTp6_4WObpXBIBKF68qGQgEKhAIACoHCAowwL2ICzCckocDMMaPqQY</guid><pubDate>Thu, 23 Sep 2021 23:36:31 GMT</pubDate><description>&lt;a href=\"https://news.google.com/__i/rss/rd/articles/CBMiaWh0dHBzOi8vd3d3LmZveG5ld3MuY29tL3BvbGl0aWNzL2hpdGNoaGlrZXJzLWd1aWRlLW5hbmN5LXBlbG9zaS1taWNrLWphZ2dlci10cmlsbGlvbi1zb2NpYWwtc3BlbmRpbmctYmlsbNIBbWh0dHBzOi8vd3d3LmZveG5ld3MuY29tL3BvbGl0aWNzL2hpdGNoaGlrZXJzLWd1aWRlLW5hbmN5LXBlbG9zaS1taWNrLWphZ2dlci10cmlsbGlvbi1zb2NpYWwtc3BlbmRpbmctYmlsbC5hbXA?oc=5\" target=\"_blank\"&gt;Nancy Pelosi, Mick Jagger and the $3.5 trillion social spending bill&lt;/a&gt;&amp;nbsp;&amp;nbsp;&lt;font color=\"#6f6f6f\"&gt;Fox News&lt;/font&gt;</description><source url=\"https://www.foxnews.com\">Fox News</source></item>, <item><title>Catalan Separatist Leader, Carles Puigdemont, Arrested in Italy - The New York Times</title><link>https://news.google.com/__i/rss/rd/articles/CBMiXmh0dHBzOi8vd3d3Lm55dGltZXMuY29tLzIwMjEvMDkvMjMvd29ybGQvZXVyb3BlL3B1aWdkZW1vbnQtYXJyZXN0ZWQtY2F0YWxvbmlhLXNwYWluLWl0YWx5Lmh0bWzSAWJodHRwczovL3d3dy5ueXRpbWVzLmNvbS8yMDIxLzA5LzIzL3dvcmxkL2V1cm9wZS9wdWlnZGVtb250LWFycmVzdGVkLWNhdGFsb25pYS1zcGFpbi1pdGFseS5hbXAuaHRtbA?oc=5</link><guid isPermaLink=\"false\">52781898667280</guid><pubDate>Thu, 23 Sep 2021 23:25:20 GMT</pubDate><description>&lt;ol&gt;&lt;li&gt;&lt;a href=\"https://news.google.com/__i/rss/rd/articles/CBMiXmh0dHBzOi8vd3d3Lm55dGltZXMuY29tLzIwMjEvMDkvMjMvd29ybGQvZXVyb3BlL3B1aWdkZW1vbnQtYXJyZXN0ZWQtY2F0YWxvbmlhLXNwYWluLWl0YWx5Lmh0bWzSAWJodHRwczovL3d3dy5ueXRpbWVzLmNvbS8yMDIxLzA5LzIzL3dvcmxkL2V1cm9wZS9wdWlnZGVtb250LWFycmVzdGVkLWNhdGFsb25pYS1zcGFpbi1pdGFseS5hbXAuaHRtbA?oc=5\" target=\"_blank\"&gt;Catalan Separatist Leader, Carles Puigdemont, Arrested in Italy&lt;/a&gt;&amp;nbsp;&amp;nbsp;&lt;font color=\"#6f6f6f\"&gt;The New York Times&lt;/font&gt;&lt;/li&gt;&lt;li&gt;&lt;a href=\"https://news.google.com/__i/rss/rd/articles/CBMiM2h0dHBzOi8vYXBuZXdzLmNvbS83MmNkMTFkYWIwNTQwY2E3ZDc2OWQzYTM1NDhkZGM3YdIBAA?oc=5\" target=\"_blank\"&gt;Ex-Catalan leader Carles Puigdemont detained in Sardinia&lt;/a&gt;&amp;nbsp;&amp;nbsp;&lt;font color=\"#6f6f6f\"&gt;Associated Press&lt;/font&gt;&lt;/li&gt;&lt;li&gt;&lt;a href=\"https://news.google.com/__i/rss/rd/articles/CBMicWh0dHBzOi8vd3d3LnJldXRlcnMuY29tL3dvcmxkL2V1cm9wZS9mb3JtZXItY2F0YWxhbi1nb3Zlcm5tZW50LWhlYWQtZGV0YWluZWQtc2FyZGluaWEtaGlzLW9mZmljZS1zYXlzLTIwMjEtMDktMjMv0gEA?oc=5\" target=\"_blank\"&gt;Catalan separatist leader detained in Sardinia, his office says&lt;/a&gt;&amp;nbsp;&amp;nbsp;&lt;font color=\"#6f6f6f\"&gt;Reuters&lt;/font&gt;&lt;/li&gt;&lt;li&gt;&lt;a href=\"https://news.google.com/__i/rss/rd/articles/CBMiRGh0dHBzOi8vd3d3LnBvbGl0aWNvLmV1L2FydGljbGUvY2FybGVzLXB1aWdkZW1vbnQtYXJyZXN0ZWQtaW4taXRhbHkv0gFIaHR0cHM6Ly93d3cucG9saXRpY28uZXUvYXJ0aWNsZS9jYXJsZXMtcHVpZ2RlbW9udC1hcnJlc3RlZC1pbi1pdGFseS9hbXAv?oc=5\" target=\"_blank\"&gt;Former Catalan separatist leader Puigdemont arrested in Italy&lt;/a&gt;&amp;nbsp;&amp;nbsp;&lt;font color=\"#6f6f6f\"&gt;POLITICO Europe&lt;/font&gt;&lt;/li&gt;&lt;li&gt;&lt;a href=\"https://news.google.com/__i/rss/rd/articles/CBMiYGh0dHBzOi8vd3d3LnRoZWd1YXJkaWFuLmNvbS93b3JsZC8yMDIxL3NlcC8yMy9jYXJsZXMtcHVpZ2RlbW9udC1hcnJlc3RlZC1jYXRhbGFuLWxlYWRlci1zYXJkaW5pYdIBYGh0dHBzOi8vYW1wLnRoZWd1YXJkaWFuLmNvbS93b3JsZC8yMDIxL3NlcC8yMy9jYXJsZXMtcHVpZ2RlbW9udC1hcnJlc3RlZC1jYXRhbGFuLWxlYWRlci1zYXJkaW5pYQ?oc=5\" target=\"_blank\"&gt;Catalan separatist leader Carles Puigdemont arrested in Sardinia&lt;/a&gt;&amp;nbsp;&amp;nbsp;&lt;font color=\"#6f6f6f\"&gt;The Guardian&lt;/font&gt;&lt;/li&gt;&lt;li&gt;&lt;strong&gt;&lt;a href=\"https://news.google.com/stories/CAAqOQgKIjNDQklTSURvSmMzUnZjbmt0TXpZd1NoTUtFUWlRcXNqeWs0QU1FVDNpNWdnTWFwQ2pLQUFQAQ?oc=5\" target=\"_blank\"&gt;View Full Coverage on Google News&lt;/a&gt;&lt;/strong&gt;&lt;/li&gt;&lt;/ol&gt;</description><source url=\"https://www.nytimes.com\">The New York Times</source></item>, <item><title>Afghans dying at border as tensions intensify between Taliban, Pakistan - New York Post </title><link>https://news.google.com/__i/rss/rd/articles/CBMiVGh0dHBzOi8vbnlwb3N0LmNvbS8yMDIxLzA5LzIzL2FmZ2hhbnMtZHlpbmctYXQtYm9yZGVyLWFtaWQtdGFsaWJhbi1wYWtpc3Rhbi10ZW5zaW9uL9IBWGh0dHBzOi8vbnlwb3N0LmNvbS8yMDIxLzA5LzIzL2FmZ2hhbnMtZHlpbmctYXQtYm9yZGVyLWFtaWQtdGFsaWJhbi1wYWtpc3Rhbi10ZW5zaW9uL2FtcC8?oc=5</link><guid isPermaLink=\"false\">52781898574248</guid><pubDate>Thu, 23 Sep 2021 15:41:00 GMT</pubDate><description>&lt;ol&gt;&lt;li&gt;&lt;a href=\"https://news.google.com/__i/rss/rd/articles/CBMiVGh0dHBzOi8vbnlwb3N0LmNvbS8yMDIxLzA5LzIzL2FmZ2hhbnMtZHlpbmctYXQtYm9yZGVyLWFtaWQtdGFsaWJhbi1wYWtpc3Rhbi10ZW5zaW9uL9IBWGh0dHBzOi8vbnlwb3N0LmNvbS8yMDIxLzA5LzIzL2FmZ2hhbnMtZHlpbmctYXQtYm9yZGVyLWFtaWQtdGFsaWJhbi1wYWtpc3Rhbi10ZW5zaW9uL2FtcC8?oc=5\" target=\"_blank\"&gt;Afghans dying at border as tensions intensify between Taliban, Pakistan&lt;/a&gt;&amp;nbsp;&amp;nbsp;&lt;font color=\"#6f6f6f\"&gt;New York Post &lt;/font&gt;&lt;/li&gt;&lt;li&gt;&lt;a href=\"https://news.google.com/__i/rss/rd/articles/CBMiQGh0dHBzOi8vd3d3LmZveG5ld3MuY29tL3dvcmxkL3RvcC1wYWtpc3Rhbi1kaXBsb21hdC10YWxpYmFuLXBsYW7SAURodHRwczovL3d3dy5mb3huZXdzLmNvbS93b3JsZC90b3AtcGFraXN0YW4tZGlwbG9tYXQtdGFsaWJhbi1wbGFuLmFtcA?oc=5\" target=\"_blank\"&gt;Top Pakistan diplomat details Taliban plan&lt;/a&gt;&amp;nbsp;&amp;nbsp;&lt;font color=\"#6f6f6f\"&gt;Fox News&lt;/font&gt;&lt;/li&gt;&lt;li&gt;&lt;a href=\"https://news.google.com/__i/rss/rd/articles/CBMiK2h0dHBzOi8vd3d3LnlvdXR1YmUuY29tL3dhdGNoP3Y9dEdIUTA0N0tMbU3SAQA?oc=5\" target=\"_blank\"&gt;ONLY ON AP Pakistan urges patience in Afghanistan&lt;/a&gt;&amp;nbsp;&amp;nbsp;&lt;font color=\"#6f6f6f\"&gt;Associated Press&lt;/font&gt;&lt;/li&gt;&lt;li&gt;&lt;a href=\"https://news.google.com/__i/rss/rd/articles/CBMiOmh0dHBzOi8vd3d3LmlzcmFlbGhheW9tLmNvbS9vcGluaW9ucy91bmZyaWVuZGluZy1wYWtpc3Rhbi_SAQA?oc=5\" target=\"_blank\"&gt;Unfriending Pakistan&lt;/a&gt;&amp;nbsp;&amp;nbsp;&lt;font color=\"#6f6f6f\"&gt;Israel Hayom&lt;/font&gt;&lt;/li&gt;&lt;li&gt;&lt;a href=\"https://news.google.com/__i/rss/rd/articles/CBMiYWh0dHBzOi8vaW5kaWFuZXhwcmVzcy5jb20vYXJ0aWNsZS9vcGluaW9uL2VkaXRvcmlhbHMvc2FhcmMtZm9yZWlnbi1taW5pc3RlcnMtYWZnaGFuaXN0YW4tNzUyODE4NC_SAWZodHRwczovL2luZGlhbmV4cHJlc3MuY29tL2FydGljbGUvb3Bpbmlvbi9lZGl0b3JpYWxzL3NhYXJjLWZvcmVpZ24tbWluaXN0ZXJzLWFmZ2hhbmlzdGFuLTc1MjgxODQvbGl0ZS8?oc=5\" target=\"_blank\"&gt;Resistance against inclusion of Taliban in SAARC is justified. The Islamist group has much to do to win world’s trust&lt;/a&gt;&amp;nbsp;&amp;nbsp;&lt;font color=\"#6f6f6f\"&gt;The Indian Express&lt;/font&gt;&lt;/li&gt;&lt;li&gt;&lt;strong&gt;&lt;a href=\"https://news.google.com/stories/CAAqOQgKIjNDQklTSURvSmMzUnZjbmt0TXpZd1NoTUtFUWlvMDhMeWs0QU1FWE14NktyRGFWS1dLQUFQAQ?oc=5\" target=\"_blank\"&gt;View Full Coverage on Google News&lt;/a&gt;&lt;/strong&gt;&lt;/li&gt;&lt;/ol&gt;</description><source url=\"https://nypost.com\">New York Post </source></item>, <item><title>US-China policy: Biden is bringing together Japan, Australia and India to stare down China - CNN</title><link>https://news.google.com/__i/rss/rd/articles/CBMiW2h0dHBzOi8vd3d3LmNubi5jb20vMjAyMS8wOS8yMy9hc2lhL3VzLWNoaW5hLWluZGlhLWF1c3RyYWxpYS1qYXBhbi1xdWFkLWludGwtaG5rL2luZGV4Lmh0bWzSAV9odHRwczovL2FtcC5jbm4uY29tL2Nubi8yMDIxLzA5LzIzL2FzaWEvdXMtY2hpbmEtaW5kaWEtYXVzdHJhbGlhLWphcGFuLXF1YWQtaW50bC1obmsvaW5kZXguaHRtbA?oc=5</link><guid isPermaLink=\"false\">52781897754315</guid><pubDate>Fri, 24 Sep 2021 00:08:00 GMT</pubDate><description>&lt;ol&gt;&lt;li&gt;&lt;a href=\"https://news.google.com/__i/rss/rd/articles/CBMiW2h0dHBzOi8vd3d3LmNubi5jb20vMjAyMS8wOS8yMy9hc2lhL3VzLWNoaW5hLWluZGlhLWF1c3RyYWxpYS1qYXBhbi1xdWFkLWludGwtaG5rL2luZGV4Lmh0bWzSAV9odHRwczovL2FtcC5jbm4uY29tL2Nubi8yMDIxLzA5LzIzL2FzaWEvdXMtY2hpbmEtaW5kaWEtYXVzdHJhbGlhLWphcGFuLXF1YWQtaW50bC1obmsvaW5kZXguaHRtbA?oc=5\" target=\"_blank\"&gt;US-China policy: Biden is bringing together Japan, Australia and India to stare down China&lt;/a&gt;&amp;nbsp;&amp;nbsp;&lt;font color=\"#6f6f6f\"&gt;CNN&lt;/font&gt;&lt;/li&gt;&lt;li&gt;&lt;a href=\"https://news.google.com/__i/rss/rd/articles/CBMiM2h0dHBzOi8vYXBuZXdzLmNvbS8zZmNiZjY1YjY4ZjAwNTMxNmJjOTJjMzRhMjk3ZmFiZdIBAA?oc=5\" target=\"_blank\"&gt;Tensions grow as US, allies deepen Indo-Pacific involvement&lt;/a&gt;&amp;nbsp;&amp;nbsp;&lt;font color=\"#6f6f6f\"&gt;Associated Press&lt;/font&gt;&lt;/li&gt;&lt;li&gt;&lt;a href=\"https://news.google.com/__i/rss/rd/articles/CBMiXmh0dHBzOi8vd3d3LmNuYmMuY29tL3F1YWQtc3VtbWl0LWFuZC1jaGluYS1nYW1lLXRoZW9yeS1wcmVkaWN0aW9ucy1mb3ItdGhlLWZ1dHVyZS1vZi10aGUtcXVhZC_SAQA?oc=5\" target=\"_blank\"&gt;Quad Summit and China: Game theory predictions for the future of the Quad&lt;/a&gt;&amp;nbsp;&amp;nbsp;&lt;font color=\"#6f6f6f\"&gt;CNBC&lt;/font&gt;&lt;/li&gt;&lt;li&gt;&lt;a href=\"https://news.google.com/__i/rss/rd/articles/CBMid2h0dHBzOi8vdGhlaGlsbC5jb20vb3Bpbmlvbi9pbnRlcm5hdGlvbmFsLzU3MzQ0MS1udWNsZWFyLXN1YnMtZG93bi11bmRlci13aWxsLWNoYWxsZW5nZS10aGUtbm9ucHJvbGlmZXJhdGlvbi1yZWdpbWUtYW5k0gF7aHR0cHM6Ly90aGVoaWxsLmNvbS9vcGluaW9uL2ludGVybmF0aW9uYWwvNTczNDQxLW51Y2xlYXItc3Vicy1kb3duLXVuZGVyLXdpbGwtY2hhbGxlbmdlLXRoZS1ub25wcm9saWZlcmF0aW9uLXJlZ2ltZS1hbmQ_YW1w?oc=5\" target=\"_blank\"&gt;Nuclear subs in Australia will challenge the nonproliferation regime, and China | TheHill&lt;/a&gt;&amp;nbsp;&amp;nbsp;&lt;font color=\"#6f6f6f\"&gt;The Hill&lt;/font&gt;&lt;/li&gt;&lt;li&gt;&lt;a href=\"https://news.google.com/__i/rss/rd/articles/CBMiR2h0dHBzOi8vd3d3LmJvc3Rvbmdsb2JlLmNvbS8yMDIxLzA5LzIzL29waW5pb24vZml4aW5nLXN1Ym1hcmluZS1maWFzY28v0gEA?oc=5\" target=\"_blank\"&gt;Fixing the submarine fiasco&lt;/a&gt;&amp;nbsp;&amp;nbsp;&lt;font color=\"#6f6f6f\"&gt;The Boston Globe&lt;/font&gt;&lt;/li&gt;&lt;li&gt;&lt;strong&gt;&lt;a href=\"https://news.google.com/stories/CAAqOQgKIjNDQklTSURvSmMzUnZjbmt0TXpZd1NoTUtFUWpMelpEeWs0QU1FYy1DdFk5NWlCSGhLQUFQAQ?oc=5\" target=\"_blank\"&gt;View Full Coverage on Google News&lt;/a&gt;&lt;/strong&gt;&lt;/li&gt;&lt;/ol&gt;</description><source url=\"https://www.cnn.com\">CNN</source></item>, <item><title>China sends jets and bombers near Taiwan as Beijing opposes island’s trade deal bid - The Guardian</title><link>https://news.google.com/__i/rss/rd/articles/CBMigAFodHRwczovL3d3dy50aGVndWFyZGlhbi5jb20vd29ybGQvMjAyMS9zZXAvMjQvY2hpbmEtc2VuZHMtamV0cy1hbmQtYm9tYmVycy1uZWFyLXRhaXdhbi1hcy1iZWlqaW5nLW9wcG9zZXMtaXNsYW5kcy10cmFkZS1kZWFsLWJpZNIBgAFodHRwczovL2FtcC50aGVndWFyZGlhbi5jb20vd29ybGQvMjAyMS9zZXAvMjQvY2hpbmEtc2VuZHMtamV0cy1hbmQtYm9tYmVycy1uZWFyLXRhaXdhbi1hcy1iZWlqaW5nLW9wcG9zZXMtaXNsYW5kcy10cmFkZS1kZWFsLWJpZA?oc=5</link><guid isPermaLink=\"false\">52781896557250</guid><pubDate>Fri, 24 Sep 2021 00:02:00 GMT</pubDate><description>&lt;ol&gt;&lt;li&gt;&lt;a href=\"https://news.google.com/__i/rss/rd/articles/CBMigAFodHRwczovL3d3dy50aGVndWFyZGlhbi5jb20vd29ybGQvMjAyMS9zZXAvMjQvY2hpbmEtc2VuZHMtamV0cy1hbmQtYm9tYmVycy1uZWFyLXRhaXdhbi1hcy1iZWlqaW5nLW9wcG9zZXMtaXNsYW5kcy10cmFkZS1kZWFsLWJpZNIBgAFodHRwczovL2FtcC50aGVndWFyZGlhbi5jb20vd29ybGQvMjAyMS9zZXAvMjQvY2hpbmEtc2VuZHMtamV0cy1hbmQtYm9tYmVycy1uZWFyLXRhaXdhbi1hcy1iZWlqaW5nLW9wcG9zZXMtaXNsYW5kcy10cmFkZS1kZWFsLWJpZA?oc=5\" target=\"_blank\"&gt;China sends jets and bombers near Taiwan as Beijing opposes island’s trade deal bid&lt;/a&gt;&amp;nbsp;&amp;nbsp;&lt;font color=\"#6f6f6f\"&gt;The Guardian&lt;/font&gt;&lt;/li&gt;&lt;li&gt;&lt;a href=\"https://news.google.com/__i/rss/rd/articles/CBMiK2h0dHBzOi8vd3d3LnlvdXR1YmUuY29tL3dhdGNoP3Y9S1Rybmo2enRYdFnSAQA?oc=5\" target=\"_blank\"&gt;Taiwan flags risk if China joins trade pact first&lt;/a&gt;&amp;nbsp;&amp;nbsp;&lt;font color=\"#6f6f6f\"&gt;Reuters&lt;/font&gt;&lt;/li&gt;&lt;li&gt;&lt;a href=\"https://news.google.com/__i/rss/rd/articles/CBMiRWh0dHBzOi8vd3d3LnlhaG9vLmNvbS9uZXdzL2NoaW5hLXNlbmRzLTE5LWZpZ2h0ZXItamV0cy0xMDI5NTY4NTguaHRtbNIBTmh0dHBzOi8vbmV3cy55YWhvby5jb20vYW1waHRtbC9uZXdzL2NoaW5hLXNlbmRzLTE5LWZpZ2h0ZXItamV0cy0xMDI5NTY4NTguaHRtbA?oc=5\" target=\"_blank\"&gt;China sends 24 fighter jets toward Taiwan in show of force&lt;/a&gt;&amp;nbsp;&amp;nbsp;&lt;font color=\"#6f6f6f\"&gt;Yahoo News&lt;/font&gt;&lt;/li&gt;&lt;li&gt;&lt;a href=\"https://news.google.com/__i/rss/rd/articles/CBMiXmh0dHBzOi8vd3d3LmJsb29tYmVyZy5jb20vb3Bpbmlvbi9hcnRpY2xlcy8yMDIxLTA5LTIyL2NwdHBwLXRyYWRlLWJsb2Mtc2hvdWxkbi10LXdlbGNvbWUtY2hpbmHSAQA?oc=5\" target=\"_blank\"&gt;CPTPP Trade Bloc Shouldn't Welcome China&lt;/a&gt;&amp;nbsp;&amp;nbsp;&lt;font color=\"#6f6f6f\"&gt;Bloomberg&lt;/font&gt;&lt;/li&gt;&lt;li&gt;&lt;a href=\"https://news.google.com/__i/rss/rd/articles/CBMiQ2h0dHBzOi8vd3d3LnJ0LmNvbS9vcC1lZC81MzU2MzYtZGlwbG9tYXRpYy1zdHJhdGVneS1iZWlqaW5nLXRhaXdhbi_SAUdodHRwczovL3d3dy5ydC5jb20vb3AtZWQvNTM1NjM2LWRpcGxvbWF0aWMtc3RyYXRlZ3ktYmVpamluZy10YWl3YW4vYW1wLw?oc=5\" target=\"_blank\"&gt;Why a diplomatic strategy of poking the Beijing bear is working out well for Taiwan&lt;/a&gt;&amp;nbsp;&amp;nbsp;&lt;font color=\"#6f6f6f\"&gt;RT&lt;/font&gt;&lt;/li&gt;&lt;li&gt;&lt;strong&gt;&lt;a href=\"https://news.google.com/stories/CAAqOQgKIjNDQklTSURvSmMzUnZjbmt0TXpZd1NoTUtFUWpDeGNmeGs0QU1FWEpBZmFwenJyT0pLQUFQAQ?oc=5\" target=\"_blank\"&gt;View Full Coverage on Google News&lt;/a&gt;&lt;/strong&gt;&lt;/li&gt;&lt;/ol&gt;</description><source url=\"https://www.theguardian.com\">The Guardian</source></item>, <item><title>CDC recommends Pfizer booster shots - Fox News</title><link>https://news.google.com/__i/rss/rd/articles/CBMiPmh0dHBzOi8vd3d3LmZveG5ld3MuY29tL3VzL2NkYy1yZWNvbW1lbmRzLXBmaXplci1ib29zdGVyLXNob3Rz0gFCaHR0cHM6Ly93d3cuZm94bmV3cy5jb20vdXMvY2RjLXJlY29tbWVuZHMtcGZpemVyLWJvb3N0ZXItc2hvdHMuYW1w?oc=5</link><guid isPermaLink=\"false\">52781893897785</guid><pubDate>Thu, 23 Sep 2021 22:53:57 GMT</pubDate><description>&lt;ol&gt;&lt;li&gt;&lt;a href=\"https://news.google.com/__i/rss/rd/articles/CBMiPmh0dHBzOi8vd3d3LmZveG5ld3MuY29tL3VzL2NkYy1yZWNvbW1lbmRzLXBmaXplci1ib29zdGVyLXNob3Rz0gFCaHR0cHM6Ly93d3cuZm94bmV3cy5jb20vdXMvY2RjLXJlY29tbWVuZHMtcGZpemVyLWJvb3N0ZXItc2hvdHMuYW1w?oc=5\" target=\"_blank\"&gt;CDC recommends Pfizer booster shots&lt;/a&gt;&amp;nbsp;&amp;nbsp;&lt;font color=\"#6f6f6f\"&gt;Fox News&lt;/font&gt;&lt;/li&gt;&lt;li&gt;&lt;a href=\"https://news.google.com/__i/rss/rd/articles/CBMiU2h0dHBzOi8vd3d3LmNubi5jb20vMjAyMS8wOS8yMy9oZWFsdGgvcGZpemVyLWFjaXAtYm9vc3Rlci1yZWNvbW1lbmRhdGlvbi9pbmRleC5odG1s0gFXaHR0cHM6Ly9hbXAuY25uLmNvbS9jbm4vMjAyMS8wOS8yMy9oZWFsdGgvcGZpemVyLWFjaXAtYm9vc3Rlci1yZWNvbW1lbmRhdGlvbi9pbmRleC5odG1s?oc=5\" target=\"_blank\"&gt;CDC advisers recommend booster doses of Covid-19 vaccine for certain adults only&lt;/a&gt;&amp;nbsp;&amp;nbsp;&lt;font color=\"#6f6f6f\"&gt;CNN&lt;/font&gt;&lt;/li&gt;&lt;li&gt;&lt;a href=\"https://news.google.com/__i/rss/rd/articles/CBMibWh0dHBzOi8vd3BkZS5jb20vbmV3cy9sb2NhbC8xLW1pbGxpb24taW4tdXMtZ290LXVuYXV0aG9yaXplZC1ib29zdGVyLWl0LWhhc250LWJlZW4tcmVwb3J0ZWQtaW4tc291dGgtY2Fyb2xpbmHSAXFodHRwczovL3dwZGUuY29tL2FtcC9uZXdzL2xvY2FsLzEtbWlsbGlvbi1pbi11cy1nb3QtdW5hdXRob3JpemVkLWJvb3N0ZXItaXQtaGFzbnQtYmVlbi1yZXBvcnRlZC1pbi1zb3V0aC1jYXJvbGluYQ?oc=5\" target=\"_blank\"&gt;1 million in U.S. got unauthorized booster, it hasn't been reported in South Carolina&lt;/a&gt;&amp;nbsp;&amp;nbsp;&lt;font color=\"#6f6f6f\"&gt;wpde.com&lt;/font&gt;&lt;/li&gt;&lt;li&gt;&lt;a href=\"https://news.google.com/__i/rss/rd/articles/CBMiK2h0dHBzOi8vd3d3LnlvdXR1YmUuY29tL3dhdGNoP3Y9YlIzeU01dl9QVmfSAQA?oc=5\" target=\"_blank\"&gt;Pediatricians answer questions about COVID-19 shots for 5 to 11-year-olds&lt;/a&gt;&amp;nbsp;&amp;nbsp;&lt;font color=\"#6f6f6f\"&gt;KCRA News&lt;/font&gt;&lt;/li&gt;&lt;li&gt;&lt;a href=\"https://news.google.com/__i/rss/rd/articles/CBMiT2h0dHBzOi8vd3d3Lm55dGltZXMuY29tLzIwMjEvMDkvMjIvdXMvcG9saXRpY3MvYmlkZW4tY292aWQtc3VtbWl0LXZhY2NpbmVzLmh0bWzSAVNodHRwczovL3d3dy5ueXRpbWVzLmNvbS8yMDIxLzA5LzIyL3VzL3BvbGl0aWNzL2JpZGVuLWNvdmlkLXN1bW1pdC12YWNjaW5lcy5hbXAuaHRtbA?oc=5\" target=\"_blank\"&gt;At Covid Summit, Biden Sets Ambitious Goals for Vaccinating the World&lt;/a&gt;&amp;nbsp;&amp;nbsp;&lt;font color=\"#6f6f6f\"&gt;The New York Times&lt;/font&gt;&lt;/li&gt;&lt;li&gt;&lt;strong&gt;&lt;a href=\"https://news.google.com/stories/CAAqOQgKIjNDQklTSURvSmMzUnZjbmt0TXpZd1NoTUtFUWk1bktYd2s0QU1FV0ppaGkyaXFSQS1LQUFQAQ?oc=5\" target=\"_blank\"&gt;View Full Coverage on Google News&lt;/a&gt;&lt;/strong&gt;&lt;/li&gt;&lt;/ol&gt;</description><source url=\"https://www.foxnews.com\">Fox News</source></item>, <item><title>Japan's Nikkei 225 jumps 2% as investors seek clarity on Evergrande situation - CNBC</title><link>https://news.google.com/__i/rss/rd/articles/CBMiV2h0dHBzOi8vd3d3LmNuYmMuY29tLzIwMjEvMDkvMjQvYXNpYS1tYXJrZXRzLWNoaW5hLWV2ZXJncmFuZGUtZ3JvdXAtY3VycmVuY2llcy1vaWwuaHRtbNIBW2h0dHBzOi8vd3d3LmNuYmMuY29tL2FtcC8yMDIxLzA5LzI0L2FzaWEtbWFya2V0cy1jaGluYS1ldmVyZ3JhbmRlLWdyb3VwLWN1cnJlbmNpZXMtb2lsLmh0bWw?oc=5</link><guid isPermaLink=\"false\">52781886928127</guid><pubDate>Thu, 23 Sep 2021 23:41:12 GMT</pubDate><description>&lt;ol&gt;&lt;li&gt;&lt;a href=\"https://news.google.com/__i/rss/rd/articles/CBMiV2h0dHBzOi8vd3d3LmNuYmMuY29tLzIwMjEvMDkvMjQvYXNpYS1tYXJrZXRzLWNoaW5hLWV2ZXJncmFuZGUtZ3JvdXAtY3VycmVuY2llcy1vaWwuaHRtbNIBW2h0dHBzOi8vd3d3LmNuYmMuY29tL2FtcC8yMDIxLzA5LzI0L2FzaWEtbWFya2V0cy1jaGluYS1ldmVyZ3JhbmRlLWdyb3VwLWN1cnJlbmNpZXMtb2lsLmh0bWw?oc=5\" target=\"_blank\"&gt;Japan's Nikkei 225 jumps 2% as investors seek clarity on Evergrande situation&lt;/a&gt;&amp;nbsp;&amp;nbsp;&lt;font color=\"#6f6f6f\"&gt;CNBC&lt;/font&gt;&lt;/li&gt;&lt;li&gt;&lt;a href=\"https://news.google.com/__i/rss/rd/articles/CBMiK2h0dHBzOi8vd3d3LnlvdXR1YmUuY29tL3dhdGNoP3Y9a3RTMmYyTlEtR0nSAQA?oc=5\" target=\"_blank\"&gt;China Putting the Pressure on Evergrande&lt;/a&gt;&amp;nbsp;&amp;nbsp;&lt;font color=\"#6f6f6f\"&gt;Bloomberg Markets and Finance&lt;/font&gt;&lt;/li&gt;&lt;li&gt;&lt;a href=\"https://news.google.com/__i/rss/rd/articles/CBMiK2h0dHBzOi8vd3d3LnlvdXR1YmUuY29tL3dhdGNoP3Y9eFZia0VyVUhyMk3SAQA?oc=5\" target=\"_blank\"&gt;China Tells Evergrande to Avoid a Near-Term Default&lt;/a&gt;&amp;nbsp;&amp;nbsp;&lt;font color=\"#6f6f6f\"&gt;Bloomberg Markets and Finance&lt;/font&gt;&lt;/li&gt;&lt;li&gt;&lt;a href=\"https://news.google.com/__i/rss/rd/articles/CBMieWh0dHBzOi8vd3d3Lndzai5jb20vYXJ0aWNsZXMvYW1lcmljYS1ldmVyZ3JhbmRlLWNoaW5hLXByb3BlcnR5LWludmVzdGluZy14aS1ob3VzaW5nLWJ1YmJsZS1maW5hbmNpYWwtY29sbGFwc2UtMTE2MzI0MDc0NDbSAQA?oc=5\" target=\"_blank\"&gt;America Risks an ‘Evergrande Moment’&lt;/a&gt;&amp;nbsp;&amp;nbsp;&lt;font color=\"#6f6f6f\"&gt;The Wall Street Journal&lt;/font&gt;&lt;/li&gt;&lt;li&gt;&lt;a href=\"https://news.google.com/__i/rss/rd/articles/CBMiXmh0dHBzOi8vd3d3LmVjb25vbWlzdC5jb20vbGVhZGVycy8yMDIxLzA5LzI1L2V2ZXJncmFuZGVzLWNyaXNpcy1oaWdobGlnaHRzLWNoaW5hcy1zaG9ydGNvbWluZ3PSAQA?oc=5\" target=\"_blank\"&gt;Evergrande's crisis highlights China's shortcomings&lt;/a&gt;&amp;nbsp;&amp;nbsp;&lt;font color=\"#6f6f6f\"&gt;The Economist&lt;/font&gt;&lt;/li&gt;&lt;li&gt;&lt;strong&gt;&lt;a href=\"https://news.google.com/stories/CAAqOQgKIjNDQklTSURvSmMzUnZjbmt0TXpZd1NoTUtFUWpfNmZ2c2s0QU1FWWdveENVT0ZzajNLQUFQAQ?oc=5\" target=\"_blank\"&gt;View Full Coverage on Google News&lt;/a&gt;&lt;/strong&gt;&lt;/li&gt;&lt;/ol&gt;</description><source url=\"https://www.cnbc.com\">CNBC</source></item>, <item><title>Stock market news live updates: Stock futures steady after S&amp;P 500's best day since July - Yahoo Finance</title><link>https://news.google.com/__i/rss/rd/articles/CBMiXmh0dHBzOi8vZmluYW5jZS55YWhvby5jb20vbmV3cy9zdG9jay1tYXJrZXQtbmV3cy1saXZlLXVwZGF0ZXMtc2VwdGVtYmVyLTI0LTIwMjEtMjI0MDUyNTU0Lmh0bWzSAWZodHRwczovL2ZpbmFuY2UueWFob28uY29tL2FtcGh0bWwvbmV3cy9zdG9jay1tYXJrZXQtbmV3cy1saXZlLXVwZGF0ZXMtc2VwdGVtYmVyLTI0LTIwMjEtMjI0MDUyNTU0Lmh0bWw?oc=5</link><guid isPermaLink=\"false\">52781898663640</guid><pubDate>Thu, 23 Sep 2021 22:40:52 GMT</pubDate><description>&lt;ol&gt;&lt;li&gt;&lt;a href=\"https://news.google.com/__i/rss/rd/articles/CBMiXmh0dHBzOi8vZmluYW5jZS55YWhvby5jb20vbmV3cy9zdG9jay1tYXJrZXQtbmV3cy1saXZlLXVwZGF0ZXMtc2VwdGVtYmVyLTI0LTIwMjEtMjI0MDUyNTU0Lmh0bWzSAWZodHRwczovL2ZpbmFuY2UueWFob28uY29tL2FtcGh0bWwvbmV3cy9zdG9jay1tYXJrZXQtbmV3cy1saXZlLXVwZGF0ZXMtc2VwdGVtYmVyLTI0LTIwMjEtMjI0MDUyNTU0Lmh0bWw?oc=5\" target=\"_blank\"&gt;Stock market news live updates: Stock futures steady after S&amp;P 500's best day since July&lt;/a&gt;&amp;nbsp;&amp;nbsp;&lt;font color=\"#6f6f6f\"&gt;Yahoo Finance&lt;/font&gt;&lt;/li&gt;&lt;li&gt;&lt;a href=\"https://news.google.com/__i/rss/rd/articles/CBMiK2h0dHBzOi8vd3d3LnlvdXR1YmUuY29tL3dhdGNoP3Y9RXVjWlRzZTZRM2fSAQA?oc=5\" target=\"_blank\"&gt;Dow Jones Industrial Average opens positive, S&amp;P opens flat&lt;/a&gt;&amp;nbsp;&amp;nbsp;&lt;font color=\"#6f6f6f\"&gt;CNBC Television&lt;/font&gt;&lt;/li&gt;&lt;li&gt;&lt;a href=\"https://news.google.com/__i/rss/rd/articles/CBMibmh0dHBzOi8vd3d3LmludmVzdGluZy5jb20vbmV3cy9zdG9jay1tYXJrZXQtbmV3cy9zcC01MDAtcmFsbGllcy1hcy1idWxscy1maW5kLWpveS1pbi1lbmVyZ3ktZmluYW5jaWFscy0yNjI1MjAy0gEA?oc=5\" target=\"_blank\"&gt;S&amp;P 500 Rallies as Bulls Find Joy in Energy, Financials By Investing.com&lt;/a&gt;&amp;nbsp;&amp;nbsp;&lt;font color=\"#6f6f6f\"&gt;Investing.com&lt;/font&gt;&lt;/li&gt;&lt;li&gt;&lt;a href=\"https://news.google.com/__i/rss/rd/articles/CBMiY2h0dHBzOi8vd3d3LnJldXRlcnMuY29tL2J1c2luZXNzL2luZGV4ZXMtY2xvc2UtdXAtbW9yZS10aGFuLTEtaW52ZXN0b3JzLWFzc2Vzcy1mZWQtbmV3cy0yMDIxLTA5LTIzL9IBAA?oc=5\" target=\"_blank\"&gt;Indexes close up more than 1% as investors assess Fed news&lt;/a&gt;&amp;nbsp;&amp;nbsp;&lt;font color=\"#6f6f6f\"&gt;Reuters&lt;/font&gt;&lt;/li&gt;&lt;li&gt;&lt;a href=\"https://news.google.com/__i/rss/rd/articles/CBMiK2h0dHBzOi8vd3d3LnlvdXR1YmUuY29tL3dhdGNoP3Y9b0xfTF9ZNGV1Sk3SAQA?oc=5\" target=\"_blank\"&gt;Why an increase in S&amp;P 500 estimates is putting the market in a 'straight jacket'&lt;/a&gt;&amp;nbsp;&amp;nbsp;&lt;font color=\"#6f6f6f\"&gt;Yahoo Finance&lt;/font&gt;&lt;/li&gt;&lt;li&gt;&lt;strong&gt;&lt;a href=\"https://news.google.com/stories/CAAqOQgKIjNDQklTSURvSmMzUnZjbmt0TXpZd1NoTUtFUWpZamNqeWs0QU1FWVJGNHpUalBKM2hLQUFQAQ?oc=5\" target=\"_blank\"&gt;View Full Coverage on Google News&lt;/a&gt;&lt;/strong&gt;&lt;/li&gt;&lt;/ol&gt;</description><source url=\"https://finance.yahoo.com\">Yahoo Finance</source></item>, <item><title>Boppy Baby Pillow Recalled After Deaths Of 8 Infants - NPR</title><link>https://news.google.com/__i/rss/rd/articles/CBMidmh0dHBzOi8vd3d3Lm5wci5vcmcvMjAyMS8wOS8yMy8xMDQwMjAzMTUwL2JvcHB5LXJlY2FsbC1pbmZhbnQtYmFieS1kZWF0aHMtc3VmZm9jYXRpb24tcmlzay1zbGVlcD9mdD1ucHJtbCZmPTEwNDAyMDMxNTDSAQA?oc=5</link><guid isPermaLink=\"false\">52781898224406</guid><pubDate>Thu, 23 Sep 2021 20:34:01 GMT</pubDate><description>&lt;ol&gt;&lt;li&gt;&lt;a href=\"https://news.google.com/__i/rss/rd/articles/CBMidmh0dHBzOi8vd3d3Lm5wci5vcmcvMjAyMS8wOS8yMy8xMDQwMjAzMTUwL2JvcHB5LXJlY2FsbC1pbmZhbnQtYmFieS1kZWF0aHMtc3VmZm9jYXRpb24tcmlzay1zbGVlcD9mdD1ucHJtbCZmPTEwNDAyMDMxNTDSAQA?oc=5\" target=\"_blank\"&gt;Boppy Baby Pillow Recalled After Deaths Of 8 Infants&lt;/a&gt;&amp;nbsp;&amp;nbsp;&lt;font color=\"#6f6f6f\"&gt;NPR&lt;/font&gt;&lt;/li&gt;&lt;li&gt;&lt;a href=\"https://news.google.com/__i/rss/rd/articles/CBMiXmh0dHBzOi8vd3d3LmJ1enpmZWVkbmV3cy5jb20vYXJ0aWNsZS9lbGxpZXZoYWxsL2JvcHB5LXJlY2FsbC1uZXdib3JuLWxvdW5nZXItZGVhdGgtc3VmZm9jYXRpb27SAV5odHRwczovL3d3dy5idXp6ZmVlZG5ld3MuY29tL2FtcGh0bWwvZWxsaWV2aGFsbC9ib3BweS1yZWNhbGwtbmV3Ym9ybi1sb3VuZ2VyLWRlYXRoLXN1ZmZvY2F0aW9u?oc=5\" target=\"_blank\"&gt;Boppy Is Recalling 3.3 Million Loungers After 8 Babies Died&lt;/a&gt;&amp;nbsp;&amp;nbsp;&lt;font color=\"#6f6f6f\"&gt;BuzzFeed News&lt;/font&gt;&lt;/li&gt;&lt;li&gt;&lt;a href=\"https://news.google.com/__i/rss/rd/articles/CBMiK2h0dHBzOi8vd3d3LnlvdXR1YmUuY29tL3dhdGNoP3Y9OWY5bFRieTFLVWvSAQA?oc=5\" target=\"_blank\"&gt;Millions of Boppy newborn lounger pillows recalled after infant deaths&lt;/a&gt;&amp;nbsp;&amp;nbsp;&lt;font color=\"#6f6f6f\"&gt;CBS Evening News&lt;/font&gt;&lt;/li&gt;&lt;li&gt;&lt;a href=\"https://news.google.com/__i/rss/rd/articles/CBMiSWh0dHBzOi8vd3d3Lm55dGltZXMuY29tLzIwMjEvMDkvMjMvYnVzaW5lc3MvYmFieS1sb3VuZ2VyLXBhZHMtcmVjYWxsLmh0bWzSAU1odHRwczovL3d3dy5ueXRpbWVzLmNvbS8yMDIxLzA5LzIzL2J1c2luZXNzL2JhYnktbG91bmdlci1wYWRzLXJlY2FsbC5hbXAuaHRtbA?oc=5\" target=\"_blank\"&gt;Boppy Recalls Millions of Cushions After 8 Reported Infant Deaths&lt;/a&gt;&amp;nbsp;&amp;nbsp;&lt;font color=\"#6f6f6f\"&gt;The New York Times&lt;/font&gt;&lt;/li&gt;&lt;li&gt;&lt;a href=\"https://news.google.com/__i/rss/rd/articles/CBMiK2h0dHBzOi8vd3d3LnlvdXR1YmUuY29tL3dhdGNoP3Y9bGhuWVFxekZVVU3SAQA?oc=5\" target=\"_blank\"&gt;Boppy Baby Loungers Recalled After 8 Infant Deaths&lt;/a&gt;&amp;nbsp;&amp;nbsp;&lt;font color=\"#6f6f6f\"&gt;CBS New York&lt;/font&gt;&lt;/li&gt;&lt;li&gt;&lt;strong&gt;&lt;a href=\"https://news.google.com/stories/CAAqOQgKIjNDQklTSURvSmMzUnZjbmt0TXpZd1NoTUtFUWlXcHEzeWs0QU1FWGtkb1FJeUprUjFLQUFQAQ?oc=5\" target=\"_blank\"&gt;View Full Coverage on Google News&lt;/a&gt;&lt;/strong&gt;&lt;/li&gt;&lt;/ol&gt;</description><source url=\"https://www.npr.org\">NPR</source></item>, <item><title>Nintendo Direct September 2021: the biggest announcements and trailers - The Verge</title><link>https://news.google.com/__i/rss/rd/articles/CBMiYWh0dHBzOi8vd3d3LnRoZXZlcmdlLmNvbS8yMDIxLzkvMjMvMjI2ODk0NjIvbmludGVuZG8tZGlyZWN0LXNlcHRlbWJlci0yMDIxLXRyYWlsZXJzLWFubm91bmNlbWVudHPSAW5odHRwczovL3d3dy50aGV2ZXJnZS5jb20vcGxhdGZvcm0vYW1wLzIwMjEvOS8yMy8yMjY4OTQ2Mi9uaW50ZW5kby1kaXJlY3Qtc2VwdGVtYmVyLTIwMjEtdHJhaWxlcnMtYW5ub3VuY2VtZW50cw?oc=5</link><guid isPermaLink=\"false\">52781892291282</guid><pubDate>Thu, 23 Sep 2021 22:57:59 GMT</pubDate><description>&lt;ol&gt;&lt;li&gt;&lt;a href=\"https://news.google.com/__i/rss/rd/articles/CBMiYWh0dHBzOi8vd3d3LnRoZXZlcmdlLmNvbS8yMDIxLzkvMjMvMjI2ODk0NjIvbmludGVuZG8tZGlyZWN0LXNlcHRlbWJlci0yMDIxLXRyYWlsZXJzLWFubm91bmNlbWVudHPSAW5odHRwczovL3d3dy50aGV2ZXJnZS5jb20vcGxhdGZvcm0vYW1wLzIwMjEvOS8yMy8yMjY4OTQ2Mi9uaW50ZW5kby1kaXJlY3Qtc2VwdGVtYmVyLTIwMjEtdHJhaWxlcnMtYW5ub3VuY2VtZW50cw?oc=5\" target=\"_blank\"&gt;Nintendo Direct September 2021: the biggest announcements and trailers&lt;/a&gt;&amp;nbsp;&amp;nbsp;&lt;font color=\"#6f6f6f\"&gt;The Verge&lt;/font&gt;&lt;/li&gt;&lt;li&gt;&lt;a href=\"https://news.google.com/__i/rss/rd/articles/CBMiK2h0dHBzOi8vd3d3LnlvdXR1YmUuY29tL3dhdGNoP3Y9SDNMQWtyMEFOZ3fSAQA?oc=5\" target=\"_blank\"&gt;Kirby and the Forgotten Land – Announcement Trailer – Nintendo Switch&lt;/a&gt;&amp;nbsp;&amp;nbsp;&lt;font color=\"#6f6f6f\"&gt;Nintendo&lt;/font&gt;&lt;/li&gt;&lt;li&gt;&lt;a href=\"https://news.google.com/__i/rss/rd/articles/CBMiXWh0dHBzOi8vdmVudHVyZWJlYXQuY29tLzIwMjEvMDkvMjMvdGhlLW1hcmlvLW1vdmllLWNhc3RpbmctbmV3cy1uZWFybHktY2F1c2VkLW1lLXRvLXBhc3Mtb3V0L9IBYWh0dHBzOi8vdmVudHVyZWJlYXQuY29tLzIwMjEvMDkvMjMvdGhlLW1hcmlvLW1vdmllLWNhc3RpbmctbmV3cy1uZWFybHktY2F1c2VkLW1lLXRvLXBhc3Mtb3V0L2FtcC8?oc=5\" target=\"_blank\"&gt;The Mario movie casting news nearly caused me to pass out&lt;/a&gt;&amp;nbsp;&amp;nbsp;&lt;font color=\"#6f6f6f\"&gt;VentureBeat&lt;/font&gt;&lt;/li&gt;&lt;li&gt;&lt;a href=\"https://news.google.com/__i/rss/rd/articles/CBMiK2h0dHBzOi8vd3d3LnlvdXR1YmUuY29tL3dhdGNoP3Y9UnlOdWhULWxZb0XSAQA?oc=5\" target=\"_blank\"&gt;Nintendo Switch Online - Expansion Pack Trailer | Nintendo Direct&lt;/a&gt;&amp;nbsp;&amp;nbsp;&lt;font color=\"#6f6f6f\"&gt;IGN&lt;/font&gt;&lt;/li&gt;&lt;li&gt;&lt;a href=\"https://news.google.com/__i/rss/rd/articles/CBMiY2h0dHBzOi8vd3d3Lm5pbnRlbmRvbGlmZS5jb20vbmV3cy8yMDIxLzA5L3RoZV9mb3Jnb3R0ZW5fY2l0eV8tX2Nsb3VkX3ZlcnNpb25faXNfb3V0X3RvZGF5X29uX3N3aXRjaNIBAA?oc=5\" target=\"_blank\"&gt;The Forgotten City - Cloud Version Is Out Today On Switch&lt;/a&gt;&amp;nbsp;&amp;nbsp;&lt;font color=\"#6f6f6f\"&gt;Nintendo Life&lt;/font&gt;&lt;/li&gt;&lt;li&gt;&lt;strong&gt;&lt;a href=\"https://news.google.com/stories/CAAqOQgKIjNDQklTSURvSmMzUnZjbmt0TXpZd1NoTUtFUWpTbGNQdms0QU1FVVNmNlNFcG0xMUFLQUFQAQ?oc=5\" target=\"_blank\"&gt;View Full Coverage on Google News&lt;/a&gt;&lt;/strong&gt;&lt;/li&gt;&lt;/ol&gt;</description><source url=\"https://www.theverge.com\">The Verge</source></item>, <item><title>Xbox Series X and PS5 restocks confirmed today - here's when and where - Gamesradar</title><link>https://news.google.com/__i/rss/rd/articles/CBMiX2h0dHBzOi8vd3d3LmdhbWVzcmFkYXIuY29tL3hib3gtc2VyaWVzLXgtYW5kLXBzNS1yZXN0b2Nrcy1jb25maXJtZWQtdG9kYXktaGVyZXMtd2hlbi1hbmQtd2hlcmUv0gFjaHR0cHM6Ly93d3cuZ2FtZXNyYWRhci5jb20vYW1wL3hib3gtc2VyaWVzLXgtYW5kLXBzNS1yZXN0b2Nrcy1jb25maXJtZWQtdG9kYXktaGVyZXMtd2hlbi1hbmQtd2hlcmUv?oc=5</link><guid isPermaLink=\"false\">52781897926840</guid><pubDate>Thu, 23 Sep 2021 19:55:45 GMT</pubDate><description>&lt;ol&gt;&lt;li&gt;&lt;a href=\"https://news.google.com/__i/rss/rd/articles/CBMiX2h0dHBzOi8vd3d3LmdhbWVzcmFkYXIuY29tL3hib3gtc2VyaWVzLXgtYW5kLXBzNS1yZXN0b2Nrcy1jb25maXJtZWQtdG9kYXktaGVyZXMtd2hlbi1hbmQtd2hlcmUv0gFjaHR0cHM6Ly93d3cuZ2FtZXNyYWRhci5jb20vYW1wL3hib3gtc2VyaWVzLXgtYW5kLXBzNS1yZXN0b2Nrcy1jb25maXJtZWQtdG9kYXktaGVyZXMtd2hlbi1hbmQtd2hlcmUv?oc=5\" target=\"_blank\"&gt;Xbox Series X and PS5 restocks confirmed today - here's when and where&lt;/a&gt;&amp;nbsp;&amp;nbsp;&lt;font color=\"#6f6f6f\"&gt;Gamesradar&lt;/font&gt;&lt;/li&gt;&lt;li&gt;&lt;a href=\"https://news.google.com/__i/rss/rd/articles/CBMiVGh0dHBzOi8va290YWt1LmNvbS9yYXJlLWJ1dC1saW1pdGVkLXBzNS14Ym94LWJlc3QtYnV5LXJlc3RvY2stc2Vlcy1leGNydWMtMTg0NzczMDM5N9IBWGh0dHBzOi8va290YWt1LmNvbS9yYXJlLWJ1dC1saW1pdGVkLXBzNS14Ym94LWJlc3QtYnV5LXJlc3RvY2stc2Vlcy1leGNydWMtMTg0NzczMDM5Ny9hbXA?oc=5\" target=\"_blank\"&gt;Rare But Limited PS5, Xbox Best Buy Restock Sees Excruciatingly Long Lines IRL&lt;/a&gt;&amp;nbsp;&amp;nbsp;&lt;font color=\"#6f6f6f\"&gt;Kotaku&lt;/font&gt;&lt;/li&gt;&lt;li&gt;&lt;a href=\"https://news.google.com/__i/rss/rd/articles/CBMiV2h0dHBzOi8vd3d3LnRoZXZlcmdlLmNvbS8yMDIxLzkvMjMvMjI2NDg5ODQvcHM1LXhib3gtc2VyaWVzLXgtaGFsby13YWxtYXJ0LXJlc3RvY2stdGltZdIBZGh0dHBzOi8vd3d3LnRoZXZlcmdlLmNvbS9wbGF0Zm9ybS9hbXAvMjAyMS85LzIzLzIyNjQ4OTg0L3BzNS14Ym94LXNlcmllcy14LWhhbG8td2FsbWFydC1yZXN0b2NrLXRpbWU?oc=5\" target=\"_blank\"&gt;The Halo-themed Xbox Series X and PS5 will be sold at Walmart today&lt;/a&gt;&amp;nbsp;&amp;nbsp;&lt;font color=\"#6f6f6f\"&gt;The Verge&lt;/font&gt;&lt;/li&gt;&lt;li&gt;&lt;a href=\"https://news.google.com/__i/rss/rd/articles/CBMiOmh0dHBzOi8vc2NyZWVucmFudC5jb20vcHM1LWJlc3QtYnV5LXJlc3RvY2stbWFyaW8tY29zdHVtZS_SAT5odHRwczovL3NjcmVlbnJhbnQuY29tL3BzNS1iZXN0LWJ1eS1yZXN0b2NrLW1hcmlvLWNvc3R1bWUvYW1wLw?oc=5\" target=\"_blank\"&gt;Mario Spotted Buying a PS5 At Best Buy&lt;/a&gt;&amp;nbsp;&amp;nbsp;&lt;font color=\"#6f6f6f\"&gt;Screen Rant&lt;/font&gt;&lt;/li&gt;&lt;li&gt;&lt;a href=\"https://news.google.com/__i/rss/rd/articles/CBMiK2h0dHBzOi8vd3d3LnlvdXR1YmUuY29tL3dhdGNoP3Y9ajhHTzk4XzVVSEnSAQA?oc=5\" target=\"_blank\"&gt;Surprising an IRL Hero with the Ultimate Xbox Series X Reward&lt;/a&gt;&amp;nbsp;&amp;nbsp;&lt;font color=\"#6f6f6f\"&gt;IGN&lt;/font&gt;&lt;/li&gt;&lt;li&gt;&lt;strong&gt;&lt;a href=\"https://news.google.com/stories/CAAqOQgKIjNDQklTSURvSmMzUnZjbmt0TXpZd1NoTUtFUWk0a1p2eWs0QU1FVFdpUkpFbFJDNDVLQUFQAQ?oc=5\" target=\"_blank\"&gt;View Full Coverage on Google News&lt;/a&gt;&lt;/strong&gt;&lt;/li&gt;&lt;/ol&gt;</description><source url=\"https://www.gamesradar.com\">Gamesradar</source></item>, <item><title>First iPhone 13 pre-orders now arriving to customers around the world - 9to5Mac</title><link>https://news.google.com/__i/rss/rd/articles/CBMiQWh0dHBzOi8vOXRvNW1hYy5jb20vMjAyMS8wOS8yMy9pcGhvbmUtMTMtcHJlLW9yZGVycy1ub3ctYXJyaXZpbmcv0gFFaHR0cHM6Ly85dG81bWFjLmNvbS8yMDIxLzA5LzIzL2lwaG9uZS0xMy1wcmUtb3JkZXJzLW5vdy1hcnJpdmluZy9hbXAv?oc=5</link><guid isPermaLink=\"false\">52781898661662</guid><pubDate>Thu, 23 Sep 2021 21:45:00 GMT</pubDate><description>&lt;ol&gt;&lt;li&gt;&lt;a href=\"https://news.google.com/__i/rss/rd/articles/CBMiQWh0dHBzOi8vOXRvNW1hYy5jb20vMjAyMS8wOS8yMy9pcGhvbmUtMTMtcHJlLW9yZGVycy1ub3ctYXJyaXZpbmcv0gFFaHR0cHM6Ly85dG81bWFjLmNvbS8yMDIxLzA5LzIzL2lwaG9uZS0xMy1wcmUtb3JkZXJzLW5vdy1hcnJpdmluZy9hbXAv?oc=5\" target=\"_blank\"&gt;First iPhone 13 pre-orders now arriving to customers around the world&lt;/a&gt;&amp;nbsp;&amp;nbsp;&lt;font color=\"#6f6f6f\"&gt;9to5Mac&lt;/font&gt;&lt;/li&gt;&lt;li&gt;&lt;a href=\"https://news.google.com/__i/rss/rd/articles/CBMiTWh0dHBzOi8vd3d3LnBjbWFnLmNvbS9vcGluaW9ucy9hcHBsZXMtYXZhaWxhYmxlLWlwaG9uZXMtYXJlLXRoZS11bHRpbWF0ZS1mbGV40gEA?oc=5\" target=\"_blank\"&gt;Apple's Available iPhones Are the Ultimate Flex&lt;/a&gt;&amp;nbsp;&amp;nbsp;&lt;font color=\"#6f6f6f\"&gt;PCMag&lt;/font&gt;&lt;/li&gt;&lt;li&gt;&lt;a href=\"https://news.google.com/__i/rss/rd/articles/CBMiXGh0dHBzOi8vd3d3LnlhaG9vLmNvbS9lbnRlcnRhaW5tZW50L2FwcGxlLWV4cGxhaW5zLWNyZWF0ZWQtbW9zdC1yZXZvbHV0aW9uYXJ5LTIwNDMwMDExNi5odG1s0gFkaHR0cHM6Ly93d3cueWFob28uY29tL2FtcGh0bWwvZW50ZXJ0YWlubWVudC9hcHBsZS1leHBsYWlucy1jcmVhdGVkLW1vc3QtcmV2b2x1dGlvbmFyeS0yMDQzMDAxMTYuaHRtbA?oc=5\" target=\"_blank\"&gt;Apple explains how it created the most revolutionary new iPhone 13 feature&lt;/a&gt;&amp;nbsp;&amp;nbsp;&lt;font color=\"#6f6f6f\"&gt;Yahoo Entertainment&lt;/font&gt;&lt;/li&gt;&lt;li&gt;&lt;a href=\"https://news.google.com/__i/rss/rd/articles/CBMiY2h0dHBzOi8vOXRvNW1hYy5jb20vMjAyMS8wOS8yMy9wc2EtaXBob25lLTEzLXByby1taWdodC1iZS1uZWFybHktaW5jb21wYXRpYmxlLXdpdGgtdGhlLW1hZ3NhZmUtZHVvL9IBZ2h0dHBzOi8vOXRvNW1hYy5jb20vMjAyMS8wOS8yMy9wc2EtaXBob25lLTEzLXByby1taWdodC1iZS1uZWFybHktaW5jb21wYXRpYmxlLXdpdGgtdGhlLW1hZ3NhZmUtZHVvL2FtcC8?oc=5\" target=\"_blank\"&gt;PSA: iPhone 13 Pro might be nearly incompatible with the MagSafe Duo&lt;/a&gt;&amp;nbsp;&amp;nbsp;&lt;font color=\"#6f6f6f\"&gt;9to5Mac&lt;/font&gt;&lt;/li&gt;&lt;li&gt;&lt;a href=\"https://news.google.com/__i/rss/rd/articles/CBMia2h0dHBzOi8vZm9ydW1zLm1hY3J1bW9ycy5jb20vdGhyZWFkcy9pcGhvbmUtMTMtcHJvLW1heC1pcy1oZXJlLWZpcnN0LWltcHJlc3Npb25zLWFuZC1waG90b3MtdGhyZWFkLjIzMTI5NzAv0gEA?oc=5\" target=\"_blank\"&gt;iPhone 13 Pro Max is here! First impressions and photos thread&lt;/a&gt;&amp;nbsp;&amp;nbsp;&lt;font color=\"#6f6f6f\"&gt;Mac Rumors&lt;/font&gt;&lt;/li&gt;&lt;li&gt;&lt;strong&gt;&lt;a href=\"https://news.google.com/stories/CAAqOQgKIjNDQklTSURvSmMzUnZjbmt0TXpZd1NoTUtFUWllX3NmeWs0QU1FY0JEOC1XeTg1SVhLQUFQAQ?oc=5\" target=\"_blank\"&gt;View Full Coverage on Google News&lt;/a&gt;&lt;/strong&gt;&lt;/li&gt;&lt;/ol&gt;</description><source url=\"https://9to5mac.com\">9to5Mac</source></item>, <item><title>Smallest-Ever Human-Made Flying Structure Is A Winged Microchip, Scientists Say - NPR</title><link>https://news.google.com/__i/rss/rd/articles/CBMiWWh0dHBzOi8vd3d3Lm5wci5vcmcvMjAyMS8wOS8yMy8xMDQwMDM1NDMwL2ZseWluZy1taWNyb2NoaXAtc2FuZC1ncmFpbi1ub3J0aHdlc3Rlcm4td2luZ2Vk0gEA?oc=5</link><guid isPermaLink=\"false\">52781896633769</guid><pubDate>Thu, 23 Sep 2021 15:32:34 GMT</pubDate><description>&lt;ol&gt;&lt;li&gt;&lt;a href=\"https://news.google.com/__i/rss/rd/articles/CBMiWWh0dHBzOi8vd3d3Lm5wci5vcmcvMjAyMS8wOS8yMy8xMDQwMDM1NDMwL2ZseWluZy1taWNyb2NoaXAtc2FuZC1ncmFpbi1ub3J0aHdlc3Rlcm4td2luZ2Vk0gEA?oc=5\" target=\"_blank\"&gt;Smallest-Ever Human-Made Flying Structure Is A Winged Microchip, Scientists Say&lt;/a&gt;&amp;nbsp;&amp;nbsp;&lt;font color=\"#6f6f6f\"&gt;NPR&lt;/font&gt;&lt;/li&gt;&lt;li&gt;&lt;a href=\"https://news.google.com/__i/rss/rd/articles/CBMiY2h0dHBzOi8vd3d3LnNjaWVuY2VhbGVydC5jb20vdGhlLXNtYWxsZXN0LWZseWluZy1kZXZpY2UtZXZlci1tYWRlLWJ5LWh1bWFucy1pcy1saWtlLWEtZ3JhaW4tb2Ytc2FuZNIBZ2h0dHBzOi8vd3d3LnNjaWVuY2VhbGVydC5jb20vdGhlLXNtYWxsZXN0LWZseWluZy1kZXZpY2UtZXZlci1tYWRlLWJ5LWh1bWFucy1pcy1saWtlLWEtZ3JhaW4tb2Ytc2FuZC9hbXA?oc=5\" target=\"_blank\"&gt;This Microchip With Wings Is The Smallest Flying Structure Humans Have Ever Built&lt;/a&gt;&amp;nbsp;&amp;nbsp;&lt;font color=\"#6f6f6f\"&gt;ScienceAlert&lt;/font&gt;&lt;/li&gt;&lt;li&gt;&lt;a href=\"https://news.google.com/__i/rss/rd/articles/CBMic2h0dHBzOi8vc2NpdGVjaGRhaWx5LmNvbS93aW5nZWQtbWljcm9jaGlwLWlzLXNtYWxsZXN0LWV2ZXItaHVtYW4tbWFkZS1mbHlpbmctc3RydWN0dXJlLXRoZS1zaXplLW9mLWEtZ3JhaW4tb2Ytc2FuZC_SAXdodHRwczovL3NjaXRlY2hkYWlseS5jb20vd2luZ2VkLW1pY3JvY2hpcC1pcy1zbWFsbGVzdC1ldmVyLWh1bWFuLW1hZGUtZmx5aW5nLXN0cnVjdHVyZS10aGUtc2l6ZS1vZi1hLWdyYWluLW9mLXNhbmQvYW1wLw?oc=5\" target=\"_blank\"&gt;Winged Microchip Is Smallest-Ever Human-Made Flying Structure – The Size of a Grain of Sand&lt;/a&gt;&amp;nbsp;&amp;nbsp;&lt;font color=\"#6f6f6f\"&gt;SciTechDaily&lt;/font&gt;&lt;/li&gt;&lt;li&gt;&lt;a href=\"https://news.google.com/__i/rss/rd/articles/CBMigwFodHRwczovL3d3dy51c2F0b2RheS5jb20vc3RvcnkvdGVjaC9uZXdzLzIwMjEvMDkvMjMvbm9ydGh3ZXN0ZXJucy13aW5nZWQtbWljcm9jaGlwLXNtYWxsZXN0LWh1bWFuLW1hZGUtZmx5aW5nLXN0cnVjdHVyZS81ODI1MzA4MDAxL9IBJ2h0dHBzOi8vYW1wLnVzYXRvZGF5LmNvbS9hbXAvNTgyNTMwODAwMQ?oc=5\" target=\"_blank\"&gt;This winged microchip, smaller than an ant, is the smallest human-made flying structure&lt;/a&gt;&amp;nbsp;&amp;nbsp;&lt;font color=\"#6f6f6f\"&gt;USA TODAY&lt;/font&gt;&lt;/li&gt;&lt;li&gt;&lt;a href=\"https://news.google.com/__i/rss/rd/articles/CBMiX2h0dHBzOi8vdGVjaGNydW5jaC5jb20vMjAyMS8wOS8yMy9mbHlpbmctbWljcm9jaGlwcy1jb3VsZC1yaWRlLXRoZS13aW5kLXRvLXRyYWNrLWFpci1wb2xsdXRpb24v0gFjaHR0cHM6Ly90ZWNoY3J1bmNoLmNvbS8yMDIxLzA5LzIzL2ZseWluZy1taWNyb2NoaXBzLWNvdWxkLXJpZGUtdGhlLXdpbmQtdG8tdHJhY2stYWlyLXBvbGx1dGlvbi9hbXAv?oc=5\" target=\"_blank\"&gt;‘Flying’ microchips could ride the wind to track air pollution&lt;/a&gt;&amp;nbsp;&amp;nbsp;&lt;font color=\"#6f6f6f\"&gt;TechCrunch&lt;/font&gt;&lt;/li&gt;&lt;li&gt;&lt;strong&gt;&lt;a href=\"https://news.google.com/stories/CAAqOQgKIjNDQklTSURvSmMzUnZjbmt0TXpZd1NoTUtFUWlwbTh6eGs0QU1FWmlxYTJzSS1nY1ZLQUFQAQ?oc=5\" target=\"_blank\"&gt;View Full Coverage on Google News&lt;/a&gt;&lt;/strong&gt;&lt;/li&gt;&lt;/ol&gt;</description><source url=\"https://www.npr.org\">NPR</source></item>, <item><title>Harry hits bar at $1,300-a-night NYC hotel for second night in a row but Meghan nowhere to be seen - Daily Mail</title><link>https://news.google.com/__i/rss/rd/articles/CBMieGh0dHBzOi8vd3d3LmRhaWx5bWFpbC5jby51ay9uZXdzL2FydGljbGUtMTAwMjMwNTUvSGFycnktaGl0cy1iYXItMS0zMDAtbmlnaHQtTllDLWhvdGVsLXNlY29uZC1uaWdodC1yb3ctTWVnaGFuLXNlZW4uaHRtbNIBfGh0dHBzOi8vd3d3LmRhaWx5bWFpbC5jby51ay9uZXdzL2FydGljbGUtMTAwMjMwNTUvYW1wL0hhcnJ5LWhpdHMtYmFyLTEtMzAwLW5pZ2h0LU5ZQy1ob3RlbC1zZWNvbmQtbmlnaHQtcm93LU1lZ2hhbi1zZWVuLmh0bWw?oc=5</link><guid isPermaLink=\"false\">52781892780829</guid><pubDate>Thu, 23 Sep 2021 23:28:38 GMT</pubDate><description>&lt;ol&gt;&lt;li&gt;&lt;a href=\"https://news.google.com/__i/rss/rd/articles/CBMieGh0dHBzOi8vd3d3LmRhaWx5bWFpbC5jby51ay9uZXdzL2FydGljbGUtMTAwMjMwNTUvSGFycnktaGl0cy1iYXItMS0zMDAtbmlnaHQtTllDLWhvdGVsLXNlY29uZC1uaWdodC1yb3ctTWVnaGFuLXNlZW4uaHRtbNIBfGh0dHBzOi8vd3d3LmRhaWx5bWFpbC5jby51ay9uZXdzL2FydGljbGUtMTAwMjMwNTUvYW1wL0hhcnJ5LWhpdHMtYmFyLTEtMzAwLW5pZ2h0LU5ZQy1ob3RlbC1zZWNvbmQtbmlnaHQtcm93LU1lZ2hhbi1zZWVuLmh0bWw?oc=5\" target=\"_blank\"&gt;Harry hits bar at $1,300-a-night NYC hotel for second night in a row but Meghan nowhere to be seen&lt;/a&gt;&amp;nbsp;&amp;nbsp;&lt;font color=\"#6f6f6f\"&gt;Daily Mail&lt;/font&gt;&lt;/li&gt;&lt;li&gt;&lt;a href=\"https://news.google.com/__i/rss/rd/articles/CBMiK2h0dHBzOi8vd3d3LnlvdXR1YmUuY29tL3dhdGNoP3Y9OGlLcDlCTmVZZjDSAQA?oc=5\" target=\"_blank\"&gt;Meghan Markle and Prince Harry Kick Off New York City Trip with Visit to World Trade Center | PEOPLE&lt;/a&gt;&amp;nbsp;&amp;nbsp;&lt;font color=\"#6f6f6f\"&gt;People&lt;/font&gt;&lt;/li&gt;&lt;li&gt;&lt;a href=\"https://news.google.com/__i/rss/rd/articles/CBMiYmh0dHBzOi8vd3d3Lmluc2lkZXIuY29tL2JyaXRpc2gtdGFibG9pZHMtc2xhbS1oYXJyeS1tZWdoYW4tbnljLXRyaXAtY2VsZWJyYXRlZC13aWxsaWFtLWthdGUtMjAyMS050gFmaHR0cHM6Ly93d3cuaW5zaWRlci5jb20vYnJpdGlzaC10YWJsb2lkcy1zbGFtLWhhcnJ5LW1lZ2hhbi1ueWMtdHJpcC1jZWxlYnJhdGVkLXdpbGxpYW0ta2F0ZS0yMDIxLTk_YW1w?oc=5\" target=\"_blank\"&gt;British press slams Harry and Meghan's NY trip, celebrated Will and Kate&lt;/a&gt;&amp;nbsp;&amp;nbsp;&lt;font color=\"#6f6f6f\"&gt;Insider&lt;/font&gt;&lt;/li&gt;&lt;li&gt;&lt;a href=\"https://news.google.com/__i/rss/rd/articles/CBMiWmh0dHBzOi8vd3d3LmFtbnkuY29tL3Blb3BsZS9wcmluY2UtaGFycnktbWVnaGFuLW1hcmtsZS12aXNpdC1uZXcteW9ya3Mtd29ybGQtdHJhZGUtY2VudGVyL9IBXmh0dHBzOi8vd3d3LmFtbnkuY29tL3Blb3BsZS9wcmluY2UtaGFycnktbWVnaGFuLW1hcmtsZS12aXNpdC1uZXcteW9ya3Mtd29ybGQtdHJhZGUtY2VudGVyL2FtcC8?oc=5\" target=\"_blank\"&gt;Prince Harry, Meghan Markle visit New York's World Trade Center | amNewYork&lt;/a&gt;&amp;nbsp;&amp;nbsp;&lt;font color=\"#6f6f6f\"&gt;AMNY&lt;/font&gt;&lt;/li&gt;&lt;li&gt;&lt;a href=\"https://news.google.com/__i/rss/rd/articles/CBMiK2h0dHBzOi8vd3d3LnlvdXR1YmUuY29tL3dhdGNoP3Y9WjhtMzBMSEJIU03SAQA?oc=5\" target=\"_blank\"&gt;Meghan Markle &amp; Prince Harry Holds Hands &amp; Smile In NYC&lt;/a&gt;&amp;nbsp;&amp;nbsp;&lt;font color=\"#6f6f6f\"&gt;Access&lt;/font&gt;&lt;/li&gt;&lt;li&gt;&lt;strong&gt;&lt;a href=\"https://news.google.com/stories/CAAqOQgKIjNDQklTSURvSmMzUnZjbmt0TXpZd1NoTUtFUWlkaHVIdms0QU1FZjRtWURBaW9JYXhLQUFQAQ?oc=5\" target=\"_blank\"&gt;View Full Coverage on Google News&lt;/a&gt;&lt;/strong&gt;&lt;/li&gt;&lt;/ol&gt;</description><source url=\"https://www.dailymail.co.uk\">Daily Mail</source></item>, <item><title>Willie Garson's cause of death confirmed - Fox News</title><link>https://news.google.com/__i/rss/rd/articles/CBMiTGh0dHBzOi8vd3d3LmZveG5ld3MuY29tL2VudGVydGFpbm1lbnQvd2lsbGllLWdhcnNvbi1jYXVzZS1vZi1kZWF0aC1jb25maXJtZWTSAVBodHRwczovL3d3dy5mb3huZXdzLmNvbS9lbnRlcnRhaW5tZW50L3dpbGxpZS1nYXJzb24tY2F1c2Utb2YtZGVhdGgtY29uZmlybWVkLmFtcA?oc=5</link><guid isPermaLink=\"false\">52781897645393</guid><pubDate>Thu, 23 Sep 2021 21:24:53 GMT</pubDate><description>&lt;ol&gt;&lt;li&gt;&lt;a href=\"https://news.google.com/__i/rss/rd/articles/CBMiTGh0dHBzOi8vd3d3LmZveG5ld3MuY29tL2VudGVydGFpbm1lbnQvd2lsbGllLWdhcnNvbi1jYXVzZS1vZi1kZWF0aC1jb25maXJtZWTSAVBodHRwczovL3d3dy5mb3huZXdzLmNvbS9lbnRlcnRhaW5tZW50L3dpbGxpZS1nYXJzb24tY2F1c2Utb2YtZGVhdGgtY29uZmlybWVkLmFtcA?oc=5\" target=\"_blank\"&gt;Willie Garson's cause of death confirmed&lt;/a&gt;&amp;nbsp;&amp;nbsp;&lt;font color=\"#6f6f6f\"&gt;Fox News&lt;/font&gt;&lt;/li&gt;&lt;li&gt;&lt;a href=\"https://news.google.com/__i/rss/rd/articles/CBMifmh0dHBzOi8vd3d3LnlhaG9vLmNvbS9lbnRlcnRhaW5tZW50L3NhcmFoLWplc3NpY2EtcGFya2VyLW5vdC1yZWFkeS1hZGRyZXNzLWRlYXRoLXdpbGxpZS1nYXJzb24tc2V4LWFuZC10aGUtY2l0eS0xMzMzNDExNzUuaHRtbNIBhgFodHRwczovL3d3dy55YWhvby5jb20vYW1waHRtbC9lbnRlcnRhaW5tZW50L3NhcmFoLWplc3NpY2EtcGFya2VyLW5vdC1yZWFkeS1hZGRyZXNzLWRlYXRoLXdpbGxpZS1nYXJzb24tc2V4LWFuZC10aGUtY2l0eS0xMzMzNDExNzUuaHRtbA?oc=5\" target=\"_blank\"&gt;Sarah Jessica Parker says she's 'not ready' to address death of 'SATC' co-star Willie Garson&lt;/a&gt;&amp;nbsp;&amp;nbsp;&lt;font color=\"#6f6f6f\"&gt;Yahoo Entertainment&lt;/font&gt;&lt;/li&gt;&lt;li&gt;&lt;a href=\"https://news.google.com/__i/rss/rd/articles/CBMiWmh0dHBzOi8vd3d3LmNubi5jb20vMjAyMS8wOS8yMy9lbnRlcnRhaW5tZW50L3NhcmFoLWplc3NpY2EtcGFya2VyLXdpbGxpZS1nYXJzb24vaW5kZXguaHRtbNIBXmh0dHBzOi8vYW1wLmNubi5jb20vY25uLzIwMjEvMDkvMjMvZW50ZXJ0YWlubWVudC9zYXJhaC1qZXNzaWNhLXBhcmtlci13aWxsaWUtZ2Fyc29uL2luZGV4Lmh0bWw?oc=5\" target=\"_blank\"&gt;Sarah Jessica Parker isn't ready to address Willie Garson's death&lt;/a&gt;&amp;nbsp;&amp;nbsp;&lt;font color=\"#6f6f6f\"&gt;CNN&lt;/font&gt;&lt;/li&gt;&lt;li&gt;&lt;a href=\"https://news.google.com/__i/rss/rd/articles/CBMiaWh0dHBzOi8vd3d3LmV0b25saW5lLmNvbS9oaWxhcmllLWJ1cnRvbi1zaGFyZXMtdGF0dG9vLXNoZS1nb3QtZm9yLXdpbGxpZS1nYXJzb24tcHJpb3ItdG8taGlzLWRlYXRoLTE3MjcxONIBbWh0dHBzOi8vd3d3LmV0b25saW5lLmNvbS9oaWxhcmllLWJ1cnRvbi1zaGFyZXMtdGF0dG9vLXNoZS1nb3QtZm9yLXdpbGxpZS1nYXJzb24tcHJpb3ItdG8taGlzLWRlYXRoLTE3MjcxOD9hbXA?oc=5\" target=\"_blank\"&gt;Hilarie Burton Shares Tattoo She Got for Willie Garson Prior to His Death&lt;/a&gt;&amp;nbsp;&amp;nbsp;&lt;font color=\"#6f6f6f\"&gt;Entertainment Tonight&lt;/font&gt;&lt;/li&gt;&lt;li&gt;&lt;a href=\"https://news.google.com/__i/rss/rd/articles/CBMiVmh0dHBzOi8vd3d3LnlhaG9vLmNvbS9lbnRlcnRhaW5tZW50L3dpbGxpZS1nYXJzb25zLWNhdXNlLWRlYXRoLXJldmVhbGVkLTIwMzUyNzE1MC5odG1s0gFeaHR0cHM6Ly93d3cueWFob28uY29tL2FtcGh0bWwvZW50ZXJ0YWlubWVudC93aWxsaWUtZ2Fyc29ucy1jYXVzZS1kZWF0aC1yZXZlYWxlZC0yMDM1MjcxNTAuaHRtbA?oc=5\" target=\"_blank\"&gt;Willie Garson's Cause of Death Revealed&lt;/a&gt;&amp;nbsp;&amp;nbsp;&lt;font color=\"#6f6f6f\"&gt;Yahoo Entertainment&lt;/font&gt;&lt;/li&gt;&lt;li&gt;&lt;strong&gt;&lt;a href=\"https://news.google.com/stories/CAAqOQgKIjNDQklTSURvSmMzUnZjbmt0TXpZd1NoTUtFUWpSLW9ueWs0QU1FY1VqdmZvUFlHdmNLQUFQAQ?oc=5\" target=\"_blank\"&gt;View Full Coverage on Google News&lt;/a&gt;&lt;/strong&gt;&lt;/li&gt;&lt;/ol&gt;</description><source url=\"https://www.foxnews.com\">Fox News</source></item>, <item><title>Foundation: Dark Knight writer David Goyer explains 4 key things to know - Polygon</title><link>https://news.google.com/__i/rss/rd/articles/CBMiXWh0dHBzOi8vd3d3LnBvbHlnb24uY29tLzIyNjg5NzM1L2ZvdW5kYXRpb24tYXBwbGUtdHYtZXBpc29kZXMtOC1zZWFzb25zLWRhdmlkLWdveWVyLWludGVydmlld9IBamh0dHBzOi8vd3d3LnBvbHlnb24uY29tL3BsYXRmb3JtL2FtcC8yMjY4OTczNS9mb3VuZGF0aW9uLWFwcGxlLXR2LWVwaXNvZGVzLTgtc2Vhc29ucy1kYXZpZC1nb3llci1pbnRlcnZpZXc?oc=5</link><guid isPermaLink=\"false\">52781896487283</guid><pubDate>Thu, 23 Sep 2021 19:00:00 GMT</pubDate><description>&lt;ol&gt;&lt;li&gt;&lt;a href=\"https://news.google.com/__i/rss/rd/articles/CBMiXWh0dHBzOi8vd3d3LnBvbHlnb24uY29tLzIyNjg5NzM1L2ZvdW5kYXRpb24tYXBwbGUtdHYtZXBpc29kZXMtOC1zZWFzb25zLWRhdmlkLWdveWVyLWludGVydmlld9IBamh0dHBzOi8vd3d3LnBvbHlnb24uY29tL3BsYXRmb3JtL2FtcC8yMjY4OTczNS9mb3VuZGF0aW9uLWFwcGxlLXR2LWVwaXNvZGVzLTgtc2Vhc29ucy1kYXZpZC1nb3llci1pbnRlcnZpZXc?oc=5\" target=\"_blank\"&gt;Foundation: Dark Knight writer David Goyer explains 4 key things to know&lt;/a&gt;&amp;nbsp;&amp;nbsp;&lt;font color=\"#6f6f6f\"&gt;Polygon&lt;/font&gt;&lt;/li&gt;&lt;li&gt;&lt;a href=\"https://news.google.com/__i/rss/rd/articles/CBMiQmh0dHBzOi8vY29sbGlkZXIuY29tL2ZvdW5kYXRpb24tcmV2aWV3LWFwcGxlLXR2LXBsdXMtd2h5LWl0cy1nb29kL9IBRmh0dHBzOi8vY29sbGlkZXIuY29tL2ZvdW5kYXRpb24tcmV2aWV3LWFwcGxlLXR2LXBsdXMtd2h5LWl0cy1nb29kL2FtcC8?oc=5\" target=\"_blank\"&gt;Foundation Review: Apple TV+ Asimov Show Delivers Heart, Hard Sci-Fi&lt;/a&gt;&amp;nbsp;&amp;nbsp;&lt;font color=\"#6f6f6f\"&gt;Collider.com&lt;/font&gt;&lt;/li&gt;&lt;li&gt;&lt;a href=\"https://news.google.com/__i/rss/rd/articles/CBMibmh0dHBzOi8vd3d3LnRoZXdyYXAuY29tL2ZvdW5kYXRpb24tcmV2aWV3LWFwcGxlLXR2LWZpbmFsbHktYnJpbmdzLWlzYWFjLWFzaW1vdnMtc2NpLWZpLXNhZ2EtdG8tc3VtcHR1b3VzLWxpZmUv0gFyaHR0cHM6Ly93d3cudGhld3JhcC5jb20vZm91bmRhdGlvbi1yZXZpZXctYXBwbGUtdHYtZmluYWxseS1icmluZ3MtaXNhYWMtYXNpbW92cy1zY2ktZmktc2FnYS10by1zdW1wdHVvdXMtbGlmZS9hbXAv?oc=5\" target=\"_blank\"&gt;‘Foundation’ Review: Apple TV+ Finally Brings Isaac Asimov’s Sci-Fi Saga to Sumptuous Life&lt;/a&gt;&amp;nbsp;&amp;nbsp;&lt;font color=\"#6f6f6f\"&gt;TheWrap&lt;/font&gt;&lt;/li&gt;&lt;li&gt;&lt;a href=\"https://news.google.com/__i/rss/rd/articles/CBMiQGh0dHBzOi8vd3d3LmludmVyc2UuY29tL2VudGVydGFpbm1lbnQvZm91bmRhdGlvbi1yZXZpZXctYXBwbGUtdHbSAURodHRwczovL3d3dy5pbnZlcnNlLmNvbS9lbnRlcnRhaW5tZW50L2ZvdW5kYXRpb24tcmV2aWV3LWFwcGxlLXR2L2FtcA?oc=5\" target=\"_blank\"&gt;'Foundation' review: A staggering achievement of sci-fi television&lt;/a&gt;&amp;nbsp;&amp;nbsp;&lt;font color=\"#6f6f6f\"&gt;Inverse&lt;/font&gt;&lt;/li&gt;&lt;li&gt;&lt;a href=\"https://news.google.com/__i/rss/rd/articles/CBMibGh0dHBzOi8vOXRvNW1hYy5jb20vMjAyMS8wOS8yMy9hcHBsZS1sYXVuY2hlcy1mb3VuZGF0aW9uLXRoZS1vZmZpY2lhbC1wb2RjYXN0LWFoZWFkLW9mLXNlcmllcy1yZWxlYXNlLW9uLXR2L9IBcGh0dHBzOi8vOXRvNW1hYy5jb20vMjAyMS8wOS8yMy9hcHBsZS1sYXVuY2hlcy1mb3VuZGF0aW9uLXRoZS1vZmZpY2lhbC1wb2RjYXN0LWFoZWFkLW9mLXNlcmllcy1yZWxlYXNlLW9uLXR2L2FtcC8?oc=5\" target=\"_blank\"&gt;Apple launches ‘Foundation: The Official Podcast’ ahead of series release on TV+&lt;/a&gt;&amp;nbsp;&amp;nbsp;&lt;font color=\"#6f6f6f\"&gt;9to5Mac&lt;/font&gt;&lt;/li&gt;&lt;li&gt;&lt;strong&gt;&lt;a href=\"https://news.google.com/stories/CAAqOQgKIjNDQklTSURvSmMzUnZjbmt0TXpZd1NoTUtFUWp6b3NQeGs0QU1FUVpvcVlyNDhVb0dLQUFQAQ?oc=5\" target=\"_blank\"&gt;View Full Coverage on Google News&lt;/a&gt;&lt;/strong&gt;&lt;/li&gt;&lt;/ol&gt;</description><source url=\"https://www.polygon.com\">Polygon</source></item>, <item><title>Carole Baskin Slams ‘Tiger King 2’ After Netflix Releases Sequel Teaser - Hollywood Reporter</title><link>https://news.google.com/__i/rss/rd/articles/CBMiU2h0dHBzOi8vd3d3LmhvbGx5d29vZHJlcG9ydGVyLmNvbS90di90di1uZXdzL3RpZ2VyLWtpbmctMi1jYXJvbGUtYmFza2luLTEyMzUwMTk1MDgv0gFXaHR0cHM6Ly93d3cuaG9sbHl3b29kcmVwb3J0ZXIuY29tL3R2L3R2LW5ld3MvdGlnZXIta2luZy0yLWNhcm9sZS1iYXNraW4tMTIzNTAxOTUwOC9hbXAv?oc=5</link><guid isPermaLink=\"false\">52781898222116</guid><pubDate>Thu, 23 Sep 2021 18:46:42 GMT</pubDate><description>&lt;ol&gt;&lt;li&gt;&lt;a href=\"https://news.google.com/__i/rss/rd/articles/CBMiU2h0dHBzOi8vd3d3LmhvbGx5d29vZHJlcG9ydGVyLmNvbS90di90di1uZXdzL3RpZ2VyLWtpbmctMi1jYXJvbGUtYmFza2luLTEyMzUwMTk1MDgv0gFXaHR0cHM6Ly93d3cuaG9sbHl3b29kcmVwb3J0ZXIuY29tL3R2L3R2LW5ld3MvdGlnZXIta2luZy0yLWNhcm9sZS1iYXNraW4tMTIzNTAxOTUwOC9hbXAv?oc=5\" target=\"_blank\"&gt;Carole Baskin Slams ‘Tiger King 2’ After Netflix Releases Sequel Teaser&lt;/a&gt;&amp;nbsp;&amp;nbsp;&lt;font color=\"#6f6f6f\"&gt;Hollywood Reporter&lt;/font&gt;&lt;/li&gt;&lt;li&gt;&lt;a href=\"https://news.google.com/__i/rss/rd/articles/CBMiRGh0dHBzOi8vd3d3LmNubi5jb20vMjAyMS8wOS8yMy9lbnRlcnRhaW5tZW50L3RpZ2VyLWtpbmctMi9pbmRleC5odG1s0gFIaHR0cHM6Ly9hbXAuY25uLmNvbS9jbm4vMjAyMS8wOS8yMy9lbnRlcnRhaW5tZW50L3RpZ2VyLWtpbmctMi9pbmRleC5odG1s?oc=5\" target=\"_blank\"&gt;'Tiger King 2' is coming to Netflix&lt;/a&gt;&amp;nbsp;&amp;nbsp;&lt;font color=\"#6f6f6f\"&gt;CNN&lt;/font&gt;&lt;/li&gt;&lt;li&gt;&lt;a href=\"https://news.google.com/__i/rss/rd/articles/CBMiTmh0dHBzOi8vd3d3LnlhaG9vLmNvbS9lbnRlcnRhaW5tZW50L3RpZ2VyLWtpbmctc2Vhc29uLTItbmV0ZmxpeC0xMzU5NTAxNjYuaHRtbNIBVmh0dHBzOi8vd3d3LnlhaG9vLmNvbS9hbXBodG1sL2VudGVydGFpbm1lbnQvdGlnZXIta2luZy1zZWFzb24tMi1uZXRmbGl4LTEzNTk1MDE2Ni5odG1s?oc=5\" target=\"_blank\"&gt;Tiger King Season 2: Netflix Teases Premiere Date, Drops First Look&lt;/a&gt;&amp;nbsp;&amp;nbsp;&lt;font color=\"#6f6f6f\"&gt;Yahoo Entertainment&lt;/font&gt;&lt;/li&gt;&lt;li&gt;&lt;a href=\"https://news.google.com/__i/rss/rd/articles/CBMiZGh0dHBzOi8vd3d3LnRoZXZlcmdlLmNvbS8yMDIxLzkvMjMvMjI2ODk2MDEvdGlnZXIta2luZy1zZWFzb24tMi1uZXRmbGl4LWFubm91bmNlbWVudC0yMDIxLWpvZS1leG90aWPSAXFodHRwczovL3d3dy50aGV2ZXJnZS5jb20vcGxhdGZvcm0vYW1wLzIwMjEvOS8yMy8yMjY4OTYwMS90aWdlci1raW5nLXNlYXNvbi0yLW5ldGZsaXgtYW5ub3VuY2VtZW50LTIwMjEtam9lLWV4b3RpYw?oc=5\" target=\"_blank\"&gt;Tiger King is returning for a second season on Netflix later this year&lt;/a&gt;&amp;nbsp;&amp;nbsp;&lt;font color=\"#6f6f6f\"&gt;The Verge&lt;/font&gt;&lt;/li&gt;&lt;li&gt;&lt;a href=\"https://news.google.com/__i/rss/rd/articles/CBMiPWh0dHBzOi8vd3d3LnBvbHlnb24uY29tLzIyNjg5NTkxL3RpZ2VyLWtpbmctMi1uZXRmbGl4LXJlbGVhc2XSAUpodHRwczovL3d3dy5wb2x5Z29uLmNvbS9wbGF0Zm9ybS9hbXAvMjI2ODk1OTEvdGlnZXIta2luZy0yLW5ldGZsaXgtcmVsZWFzZQ?oc=5\" target=\"_blank\"&gt;Tiger King 2 releasing on Netflix in 2021 in wave of true-crime shows&lt;/a&gt;&amp;nbsp;&amp;nbsp;&lt;font color=\"#6f6f6f\"&gt;Polygon&lt;/font&gt;&lt;/li&gt;&lt;li&gt;&lt;strong&gt;&lt;a href=\"https://news.google.com/stories/CAAqOQgKIjNDQklTSURvSmMzUnZjbmt0TXpZd1NoTUtFUWlrbEszeWs0QU1FVmZaakRHOVd1N1lLQUFQAQ?oc=5\" target=\"_blank\"&gt;View Full Coverage on Google News&lt;/a&gt;&lt;/strong&gt;&lt;/li&gt;&lt;/ol&gt;</description><source url=\"https://www.hollywoodreporter.com\">Hollywood Reporter</source></item>, <item><title>Texans vs. Panthers Prop Picks: Bet On A Terrace Marshall Breakout On Thursday Night Football? - The Action Network</title><link>https://news.google.com/__i/rss/rd/articles/CBMifGh0dHBzOi8vd3d3LmFjdGlvbm5ldHdvcmsuY29tL25mbC9wYW50aGVycy12cy10ZXhhbnMtcHJvcHMtdG8tYmV0LXRlcnJhY2UtbWFyc2hhbGwtY291bGQtYnJlYWtvdXQtb24tdGh1cnNkYXktbmlnaHQtZm9vdGJhbGzSAYABaHR0cHM6Ly93d3cuYWN0aW9ubmV0d29yay5jb20vbmZsL3BhbnRoZXJzLXZzLXRleGFucy1wcm9wcy10by1iZXQtdGVycmFjZS1tYXJzaGFsbC1jb3VsZC1icmVha291dC1vbi10aHVyc2RheS1uaWdodC1mb290YmFsbC9hbXA?oc=5</link><guid isPermaLink=\"false\">52781892629824</guid><pubDate>Thu, 23 Sep 2021 21:55:00 GMT</pubDate><description>&lt;ol&gt;&lt;li&gt;&lt;a href=\"https://news.google.com/__i/rss/rd/articles/CBMifGh0dHBzOi8vd3d3LmFjdGlvbm5ldHdvcmsuY29tL25mbC9wYW50aGVycy12cy10ZXhhbnMtcHJvcHMtdG8tYmV0LXRlcnJhY2UtbWFyc2hhbGwtY291bGQtYnJlYWtvdXQtb24tdGh1cnNkYXktbmlnaHQtZm9vdGJhbGzSAYABaHR0cHM6Ly93d3cuYWN0aW9ubmV0d29yay5jb20vbmZsL3BhbnRoZXJzLXZzLXRleGFucy1wcm9wcy10by1iZXQtdGVycmFjZS1tYXJzaGFsbC1jb3VsZC1icmVha291dC1vbi10aHVyc2RheS1uaWdodC1mb290YmFsbC9hbXA?oc=5\" target=\"_blank\"&gt;Texans vs. Panthers Prop Picks: Bet On A Terrace Marshall Breakout On Thursday Night Football?&lt;/a&gt;&amp;nbsp;&amp;nbsp;&lt;font color=\"#6f6f6f\"&gt;The Action Network&lt;/font&gt;&lt;/li&gt;&lt;li&gt;&lt;a href=\"https://news.google.com/__i/rss/rd/articles/CBMiggFodHRwczovL255cG9zdC5jb20vMjAyMS8wOS8yMy9maXJzdC10aW1lLWdldHRpbmctbGFpZC1pbi1tb250aHMtb2xpdmlhLWN1bHBvLWNvdWxkbnQtcmVzaXN0LXBvc3RpbmctY2hyaXN0aWFuLW1jY2FmZnJleS1oaWdobGlnaHQv0gGGAWh0dHBzOi8vbnlwb3N0LmNvbS8yMDIxLzA5LzIzL2ZpcnN0LXRpbWUtZ2V0dGluZy1sYWlkLWluLW1vbnRocy1vbGl2aWEtY3VscG8tY291bGRudC1yZXNpc3QtcG9zdGluZy1jaHJpc3RpYW4tbWNjYWZmcmV5LWhpZ2hsaWdodC9hbXAv?oc=5\" target=\"_blank\"&gt;‘First time getting laid in months’: Olivia Culpo couldn’t resist posting Christian McCaffrey highlight&lt;/a&gt;&amp;nbsp;&amp;nbsp;&lt;font color=\"#6f6f6f\"&gt;New York Post &lt;/font&gt;&lt;/li&gt;&lt;li&gt;&lt;a href=\"https://news.google.com/__i/rss/rd/articles/CBMiK2h0dHBzOi8vd3d3LnlvdXR1YmUuY29tL3dhdGNoP3Y9MEJIUklyRm9veDTSAQA?oc=5\" target=\"_blank\"&gt;\"Panthers are for Real\" - Steve Smith Sr. Previews Carolina vs Houston Texans | The Rich Eisen Show&lt;/a&gt;&amp;nbsp;&amp;nbsp;&lt;font color=\"#6f6f6f\"&gt;The Rich Eisen Show&lt;/font&gt;&lt;/li&gt;&lt;li&gt;&lt;a href=\"https://news.google.com/__i/rss/rd/articles/CBMiaGh0dHBzOi8vd3d3LmNsaWNrMmhvdXN0b24uY29tL25ld3MvbG9jYWwvMjAyMS8wOS8yMy90aGUtdGV4YW5zLWFyZS1vbi0yLXRvbmlnaHQtYW5kLWtwcmNzLXRlYW0taXMtdGhlcmUv0gF3aHR0cHM6Ly93d3cuY2xpY2syaG91c3Rvbi5jb20vbmV3cy9sb2NhbC8yMDIxLzA5LzIzL3RoZS10ZXhhbnMtYXJlLW9uLTItdG9uaWdodC1hbmQta3ByY3MtdGVhbS1pcy10aGVyZS8_b3V0cHV0VHlwZT1hbXA?oc=5\" target=\"_blank\"&gt;The Texans are on 2 tonight and KPRC’s team is there!&lt;/a&gt;&amp;nbsp;&amp;nbsp;&lt;font color=\"#6f6f6f\"&gt;KPRC Click2Houston&lt;/font&gt;&lt;/li&gt;&lt;li&gt;&lt;a href=\"https://news.google.com/__i/rss/rd/articles/CBMiVGh0dHBzOi8vd3d3Lm1pYW1paGVyYWxkLmNvbS9zcG9ydHMvc3B0LWNvbHVtbnMtYmxvZ3MvZ3JlZy1jb3RlL2FydGljbGUyNTQzODUxMDQuaHRtbNIBVGh0dHBzOi8vYW1wLm1pYW1paGVyYWxkLmNvbS9zcG9ydHMvc3B0LWNvbHVtbnMtYmxvZ3MvZ3JlZy1jb3RlL2FydGljbGUyNTQzODUxMDQuaHRtbA?oc=5\" target=\"_blank\"&gt;NFL Thursday night football: Cats devour rookie QB! Our pick for Panthers at Texans | Opinion&lt;/a&gt;&amp;nbsp;&amp;nbsp;&lt;font color=\"#6f6f6f\"&gt;Miami Herald&lt;/font&gt;&lt;/li&gt;&lt;li&gt;&lt;strong&gt;&lt;a href=\"https://news.google.com/stories/CAAqOQgKIjNDQklTSURvSmMzUnZjbmt0TXpZd1NoTUtFUWpBNnRmdms0QU1FUVFVQm5hWWdWRGRLQUFQAQ?oc=5\" target=\"_blank\"&gt;View Full Coverage on Google News&lt;/a&gt;&lt;/strong&gt;&lt;/li&gt;&lt;/ol&gt;</description><source url=\"https://www.actionnetwork.com\">The Action Network</source></item>, <item><title>NFL Week 3 picks, odds: Eagles upset Cowboys, Bucs topple Rams, Dolphins surprise Raiders - CBS Sports</title><link>https://news.google.com/__i/rss/rd/articles/CBMieWh0dHBzOi8vd3d3LmNic3Nwb3J0cy5jb20vbmZsL25ld3MvbmZsLXdlZWstMy1waWNrcy1vZGRzLWVhZ2xlcy11cHNldC1jb3dib3lzLWJ1Y3MtdG9wcGxlLXJhbXMtZG9scGhpbnMtc3VycHJpc2UtcmFpZGVycy_SAX1odHRwczovL3d3dy5jYnNzcG9ydHMuY29tL25mbC9uZXdzL25mbC13ZWVrLTMtcGlja3Mtb2Rkcy1lYWdsZXMtdXBzZXQtY293Ym95cy1idWNzLXRvcHBsZS1yYW1zLWRvbHBoaW5zLXN1cnByaXNlLXJhaWRlcnMvYW1wLw?oc=5</link><guid isPermaLink=\"false\">52781896883325</guid><pubDate>Thu, 23 Sep 2021 19:55:00 GMT</pubDate><description>&lt;ol&gt;&lt;li&gt;&lt;a href=\"https://news.google.com/__i/rss/rd/articles/CBMieWh0dHBzOi8vd3d3LmNic3Nwb3J0cy5jb20vbmZsL25ld3MvbmZsLXdlZWstMy1waWNrcy1vZGRzLWVhZ2xlcy11cHNldC1jb3dib3lzLWJ1Y3MtdG9wcGxlLXJhbXMtZG9scGhpbnMtc3VycHJpc2UtcmFpZGVycy_SAX1odHRwczovL3d3dy5jYnNzcG9ydHMuY29tL25mbC9uZXdzL25mbC13ZWVrLTMtcGlja3Mtb2Rkcy1lYWdsZXMtdXBzZXQtY293Ym95cy1idWNzLXRvcHBsZS1yYW1zLWRvbHBoaW5zLXN1cnByaXNlLXJhaWRlcnMvYW1wLw?oc=5\" target=\"_blank\"&gt;NFL Week 3 picks, odds: Eagles upset Cowboys, Bucs topple Rams, Dolphins surprise Raiders&lt;/a&gt;&amp;nbsp;&amp;nbsp;&lt;font color=\"#6f6f6f\"&gt;CBS Sports&lt;/font&gt;&lt;/li&gt;&lt;li&gt;&lt;a href=\"https://news.google.com/__i/rss/rd/articles/CBMiOmh0dHBzOi8vd3d3Lm5mbC5jb20vbmV3cy93ZWVrLTMtbmZsLWdhbWUtcGlja3MtMjAyMS1zZWFzb27SATpodHRwczovL3d3dy5uZmwuY29tL19hbXAvd2Vlay0zLW5mbC1nYW1lLXBpY2tzLTIwMjEtc2Vhc29u?oc=5\" target=\"_blank\"&gt;Week 3 NFL game picks: Buccaneers top Rams; Eagles knock off Cowboys&lt;/a&gt;&amp;nbsp;&amp;nbsp;&lt;font color=\"#6f6f6f\"&gt;NFL.com&lt;/font&gt;&lt;/li&gt;&lt;li&gt;&lt;a href=\"https://news.google.com/__i/rss/rd/articles/CBMiVGh0dHBzOi8vd3d3Lm1pYW1paGVyYWxkLmNvbS9zcG9ydHMvc3B0LWNvbHVtbnMtYmxvZ3MvZ3JlZy1jb3RlL2FydGljbGUyNTQzODUyNDQuaHRtbNIBAA?oc=5\" target=\"_blank\"&gt;NFL Week 3: Our picks for Dolphins-Raiders, Bucs-Rams, Upset of the Week and all the rest | Opinion&lt;/a&gt;&amp;nbsp;&amp;nbsp;&lt;font color=\"#6f6f6f\"&gt;Miami Herald&lt;/font&gt;&lt;/li&gt;&lt;li&gt;&lt;a href=\"https://news.google.com/__i/rss/rd/articles/CBMiK2h0dHBzOi8vd3d3LnlvdXR1YmUuY29tL3dhdGNoP3Y9VV9JRVF3OUR0VnfSAQA?oc=5\" target=\"_blank\"&gt;Thursday September 23rd CBSN Denver Daily Sports Line&lt;/a&gt;&amp;nbsp;&amp;nbsp;&lt;font color=\"#6f6f6f\"&gt;CBS Denver&lt;/font&gt;&lt;/li&gt;&lt;li&gt;&lt;a href=\"https://news.google.com/__i/rss/rd/articles/CBMidWh0dHBzOi8vd3d3Lndzb2N0di5jb20vbmV3cy9sb2NhbC9wcmltZXRpbWUtY2hhbm5lbC05LXBhbnRoZXJzLW9mZi0yLTAtc3RhcnQtdmlzaXQtdGV4YW5zL01ONUo2M1JKU0JHNEJISk1CTFMzN1oyS1VJL9IBhAFodHRwczovL3d3dy53c29jdHYuY29tL25ld3MvbG9jYWwvcHJpbWV0aW1lLWNoYW5uZWwtOS1wYW50aGVycy1vZmYtMi0wLXN0YXJ0LXZpc2l0LXRleGFucy9NTjVKNjNSSlNCRzRCSEpNQkxTMzdaMktVSS8_b3V0cHV0VHlwZT1hbXA?oc=5\" target=\"_blank\"&gt;Primetime on Channel 9: Panthers, off to 2-0 start, visit Texans&lt;/a&gt;&amp;nbsp;&amp;nbsp;&lt;font color=\"#6f6f6f\"&gt;WSOC Charlotte&lt;/font&gt;&lt;/li&gt;&lt;li&gt;&lt;strong&gt;&lt;a href=\"https://news.google.com/stories/CAAqOQgKIjNDQklTSURvSmMzUnZjbmt0TXpZd1NoTUtFUWo5dU52eGs0QU1FWlBZN1ZERnBHWk5LQUFQAQ?oc=5\" target=\"_blank\"&gt;View Full Coverage on Google News&lt;/a&gt;&lt;/strong&gt;&lt;/li&gt;&lt;/ol&gt;</description><source url=\"https://www.cbssports.com\">CBS Sports</source></item>, <item><title>Justin Thomas, Jordan Spieth to open Ryder Cup vs. Jon Rahm, Sergio Garcia - ESPN</title><link>https://news.google.com/__i/rss/rd/articles/CBMicmh0dHBzOi8vd3d3LmVzcG4uY29tL2dvbGYvc3RvcnkvXy9pZC8zMjI2NTI0Ni9qdXN0aW4tdGhvbWFzLWpvcmRhbi1zcGlldGgtb3Blbi1yeWRlci1jdXAtdnMtam9uLXJhaG0tc2VyZ2lvLWdhcmNpYdIBf2h0dHBzOi8vd3d3LmVzcG4uY29tL2dvbGYvc3RvcnkvXy9pZC8zMjI2NTI0Ni9qdXN0aW4tdGhvbWFzLWpvcmRhbi1zcGlldGgtb3Blbi1yeWRlci1jdXAtdnMtam9uLXJhaG0tc2VyZ2lvLWdhcmNpYT9wbGF0Zm9ybT1hbXA?oc=5</link><guid isPermaLink=\"false\">52781898725392</guid><pubDate>Thu, 23 Sep 2021 22:34:14 GMT</pubDate><description>&lt;ol&gt;&lt;li&gt;&lt;a href=\"https://news.google.com/__i/rss/rd/articles/CBMicmh0dHBzOi8vd3d3LmVzcG4uY29tL2dvbGYvc3RvcnkvXy9pZC8zMjI2NTI0Ni9qdXN0aW4tdGhvbWFzLWpvcmRhbi1zcGlldGgtb3Blbi1yeWRlci1jdXAtdnMtam9uLXJhaG0tc2VyZ2lvLWdhcmNpYdIBf2h0dHBzOi8vd3d3LmVzcG4uY29tL2dvbGYvc3RvcnkvXy9pZC8zMjI2NTI0Ni9qdXN0aW4tdGhvbWFzLWpvcmRhbi1zcGlldGgtb3Blbi1yeWRlci1jdXAtdnMtam9uLXJhaG0tc2VyZ2lvLWdhcmNpYT9wbGF0Zm9ybT1hbXA?oc=5\" target=\"_blank\"&gt;Justin Thomas, Jordan Spieth to open Ryder Cup vs. Jon Rahm, Sergio Garcia&lt;/a&gt;&amp;nbsp;&amp;nbsp;&lt;font color=\"#6f6f6f\"&gt;ESPN&lt;/font&gt;&lt;/li&gt;&lt;li&gt;&lt;a href=\"https://news.google.com/__i/rss/rd/articles/CBMibmh0dHBzOi8vc3BvcnRzLnlhaG9vLmNvbS9zZXJnaW8tZ2FyY2lhcy13aWZlLXdhbnRzLWVtYmFycmFzc2luZy11cy1mYW5zLXRvLWJlLW5pY2UtYXQtcnlkZXItY3VwLTIyNTU1OTI1NS5odG1s0gF2aHR0cHM6Ly9zcG9ydHMueWFob28uY29tL2FtcGh0bWwvc2VyZ2lvLWdhcmNpYXMtd2lmZS13YW50cy1lbWJhcnJhc3NpbmctdXMtZmFucy10by1iZS1uaWNlLWF0LXJ5ZGVyLWN1cC0yMjU1NTkyNTUuaHRtbA?oc=5\" target=\"_blank\"&gt;Sergio Garcia's wife wants 'embarrassing' U.S. fans to be nice at Ryder Cup&lt;/a&gt;&amp;nbsp;&amp;nbsp;&lt;font color=\"#6f6f6f\"&gt;Yahoo Sports&lt;/font&gt;&lt;/li&gt;&lt;li&gt;&lt;a href=\"https://news.google.com/__i/rss/rd/articles/CBMiK2h0dHBzOi8vd3d3LnlvdXR1YmUuY29tL3dhdGNoP3Y9OHl0STJveW9rWU3SAQA?oc=5\" target=\"_blank\"&gt;Ryder Cup veteran Lee Westwood now the 'cornerstone' of Team Europe | Golf Channel&lt;/a&gt;&amp;nbsp;&amp;nbsp;&lt;font color=\"#6f6f6f\"&gt;Golf Channel&lt;/font&gt;&lt;/li&gt;&lt;li&gt;&lt;a href=\"https://news.google.com/__i/rss/rd/articles/CBMicmh0dHBzOi8vd3d3LmVzcG4uY29tL2dvbGYvc3RvcnkvXy9pZC8zMjI2NDAzNy90b255LWZpbmF1LXNheXMtcnlkZXItY3VwLWRpZmZlcmVudC13aG9sZS1uZXctdXMtdGVhbS1uby1zY2FyLXRpc3N1ZdIBf2h0dHBzOi8vd3d3LmVzcG4uY29tL2dvbGYvc3RvcnkvXy9pZC8zMjI2NDAzNy90b255LWZpbmF1LXNheXMtcnlkZXItY3VwLWRpZmZlcmVudC13aG9sZS1uZXctdXMtdGVhbS1uby1zY2FyLXRpc3N1ZT9wbGF0Zm9ybT1hbXA?oc=5\" target=\"_blank\"&gt;Tony Finau says this Ryder Cup will be different with 'whole new' U.S. team with 'no scar tissue'&lt;/a&gt;&amp;nbsp;&amp;nbsp;&lt;font color=\"#6f6f6f\"&gt;ESPN&lt;/font&gt;&lt;/li&gt;&lt;li&gt;&lt;a href=\"https://news.google.com/__i/rss/rd/articles/CBMiYmh0dHBzOi8vd3d3LnRoZWhpbmR1LmNvbS9zcG9ydC9vdGhlci1zcG9ydHMvdXNhLW9uLWEtbWlzc2lvbi10by1yZWNsYWltLXRyb3BoeS9hcnRpY2xlMzY2Mzk3MTEuZWNl0gFnaHR0cHM6Ly93d3cudGhlaGluZHUuY29tL3Nwb3J0L290aGVyLXNwb3J0cy91c2Etb24tYS1taXNzaW9uLXRvLXJlY2xhaW0tdHJvcGh5L2FydGljbGUzNjYzOTcxMS5lY2UvYW1wLw?oc=5\" target=\"_blank\"&gt;U.S.A. on a mission to reclaim trophy&lt;/a&gt;&amp;nbsp;&amp;nbsp;&lt;font color=\"#6f6f6f\"&gt;The Hindu&lt;/font&gt;&lt;/li&gt;&lt;li&gt;&lt;strong&gt;&lt;a href=\"https://news.google.com/stories/CAAqOQgKIjNDQklTSURvSmMzUnZjbmt0TXpZd1NoTUtFUWlROE12eWs0QU1FVWEzRGs4aTl0dUdLQUFQAQ?oc=5\" target=\"_blank\"&gt;View Full Coverage on Google News&lt;/a&gt;&lt;/strong&gt;&lt;/li&gt;&lt;/ol&gt;</description><source url=\"https://www.espn.com\">ESPN</source></item>, <item><title>Timberwolves' toxic office environment, interoffice relationship led to Gersson Rosas' firing - USA TODAY</title><link>https://news.google.com/__i/rss/rd/articles/CBMiiwFodHRwczovL3d3dy51c2F0b2RheS5jb20vc3Rvcnkvc3BvcnRzL25iYS90d29sdmVzLzIwMjEvMDkvMjMvdHdvbHZlcy1maXJlZC1nZXJzc29uLXJvc2FzLXRveGljLWN1bHR1cmUtaW50ZXJvZmZpY2UtcmVsYXRpb25zaGlwLzU4Mjg0ODUwMDEv0gEnaHR0cHM6Ly9hbXAudXNhdG9kYXkuY29tL2FtcC81ODI4NDg1MDAx?oc=5</link><guid isPermaLink=\"false\">52781897009215</guid><pubDate>Thu, 23 Sep 2021 18:00:00 GMT</pubDate><description>&lt;ol&gt;&lt;li&gt;&lt;a href=\"https://news.google.com/__i/rss/rd/articles/CBMiiwFodHRwczovL3d3dy51c2F0b2RheS5jb20vc3Rvcnkvc3BvcnRzL25iYS90d29sdmVzLzIwMjEvMDkvMjMvdHdvbHZlcy1maXJlZC1nZXJzc29uLXJvc2FzLXRveGljLWN1bHR1cmUtaW50ZXJvZmZpY2UtcmVsYXRpb25zaGlwLzU4Mjg0ODUwMDEv0gEnaHR0cHM6Ly9hbXAudXNhdG9kYXkuY29tL2FtcC81ODI4NDg1MDAx?oc=5\" target=\"_blank\"&gt;Timberwolves' toxic office environment, interoffice relationship led to Gersson Rosas' firing&lt;/a&gt;&amp;nbsp;&amp;nbsp;&lt;font color=\"#6f6f6f\"&gt;USA TODAY&lt;/font&gt;&lt;/li&gt;&lt;li&gt;&lt;a href=\"https://news.google.com/__i/rss/rd/articles/CBMipwFodHRwczovL3d3dy5ncmFuZGZvcmtzaGVyYWxkLmNvbS9zcG9ydHMvYmFza2V0YmFsbC83MjA4Mjc1LUphY2UtRnJlZGVyaWNrLURlY2lzaW9uLW9uLXRoZS1UaW1iZXJ3b2x2ZXMlRTIlODAlOTktbmV4dC1iYXNrZXRiYWxsLWJvc3MtbXVzdC1iZS1tYWRlLWJ5LUxvcmUtYW5kLVJvZHJpZ3VletIBAA?oc=5\" target=\"_blank\"&gt;Jace Frederick: Decision on the Timberwolves' next basketball boss must be made by Lore and Rodriguez&lt;/a&gt;&amp;nbsp;&amp;nbsp;&lt;font color=\"#6f6f6f\"&gt;Grand Forks Herald&lt;/font&gt;&lt;/li&gt;&lt;li&gt;&lt;a href=\"https://news.google.com/__i/rss/rd/articles/CBMiK2h0dHBzOi8vd3d3LnlvdXR1YmUuY29tL3dhdGNoP3Y9bW0wWjFLVEdsYnfSAQA?oc=5\" target=\"_blank\"&gt;The Timberwolves part ways with general manager Gersson Rosas The Jump reacts&lt;/a&gt;&amp;nbsp;&amp;nbsp;&lt;font color=\"#6f6f6f\"&gt;ESPN&lt;/font&gt;&lt;/li&gt;&lt;li&gt;&lt;a href=\"https://news.google.com/__i/rss/rd/articles/CBMic2h0dHBzOi8vZHVua2luZ3dpdGh3b2x2ZXMuY29tLzIwMjEvMDkvMjMvbWlubmVzb3RhLXRpbWJlcndvbHZlcy1yb3Nhcy1maXJpbmctc2hvdWxkLW5vdC1pbXBhY3QtYmVuLXNpbW1vbnMtcHVyc3VpdC_SAXdodHRwczovL2R1bmtpbmd3aXRod29sdmVzLmNvbS8yMDIxLzA5LzIzL21pbm5lc290YS10aW1iZXJ3b2x2ZXMtcm9zYXMtZmlyaW5nLXNob3VsZC1ub3QtaW1wYWN0LWJlbi1zaW1tb25zLXB1cnN1aXQvYW1wLw?oc=5\" target=\"_blank\"&gt;Minnesota Timberwolves: Rosas firing should not impact Ben Simmons pursuit&lt;/a&gt;&amp;nbsp;&amp;nbsp;&lt;font color=\"#6f6f6f\"&gt;Dunking with Wolves&lt;/font&gt;&lt;/li&gt;&lt;li&gt;&lt;a href=\"https://news.google.com/__i/rss/rd/articles/CBMiaGh0dHBzOi8vd3d3LnRoZXJpbmdlci5jb20vbmJhLzIwMjEvOS8yMy8yMjY5MDA2Ni90aW1iZXJ3b2x2ZXMtZ2Vyc3Nvbi1yb3Nhcy1kaXNtaXNzZWQta2FybC1hbnRob255LXRvd25z0gF1aHR0cHM6Ly93d3cudGhlcmluZ2VyLmNvbS9wbGF0Zm9ybS9hbXAvbmJhLzIwMjEvOS8yMy8yMjY5MDA2Ni90aW1iZXJ3b2x2ZXMtZ2Vyc3Nvbi1yb3Nhcy1kaXNtaXNzZWQta2FybC1hbnRob255LXRvd25z?oc=5\" target=\"_blank\"&gt;The Timberwolves’ GM Upheaval Could Be a Step Toward Stability&lt;/a&gt;&amp;nbsp;&amp;nbsp;&lt;font color=\"#6f6f6f\"&gt;The Ringer&lt;/font&gt;&lt;/li&gt;&lt;li&gt;&lt;strong&gt;&lt;a href=\"https://news.google.com/stories/CAAqOQgKIjNDQklTSURvSmMzUnZjbmt0TXpZd1NoTUtFUWlfa09QeGs0QU1FYnhFMnY5U0hkOVRLQUFQAQ?oc=5\" target=\"_blank\"&gt;View Full Coverage on Google News&lt;/a&gt;&lt;/strong&gt;&lt;/li&gt;&lt;/ol&gt;</description><source url=\"https://www.usatoday.com\">USA TODAY</source></item>, <item><title>A New NASA Telescope Will Scour Distant Solar Systems For Signs Of Life - NPR</title><link>https://news.google.com/__i/rss/rd/articles/CBMiRWh0dHBzOi8vd3d3Lm5wci5vcmcvMjAyMS8wOS8yMy8xMDM5OTE1MTQ1L25hc2EtbGlmZS1wbGFuZXRzLXRlbGVzY29wZdIBAA?oc=5</link><guid isPermaLink=\"false\">CAIiEEGocvYY7SFmjih49QaGOPkqFwgEKg4IACoGCAow9vBNMK3UCDCpvJYH</guid><pubDate>Thu, 23 Sep 2021 19:31:00 GMT</pubDate><description>&lt;a href=\"https://news.google.com/__i/rss/rd/articles/CBMiRWh0dHBzOi8vd3d3Lm5wci5vcmcvMjAyMS8wOS8yMy8xMDM5OTE1MTQ1L25hc2EtbGlmZS1wbGFuZXRzLXRlbGVzY29wZdIBAA?oc=5\" target=\"_blank\"&gt;A New NASA Telescope Will Scour Distant Solar Systems For Signs Of Life&lt;/a&gt;&amp;nbsp;&amp;nbsp;&lt;font color=\"#6f6f6f\"&gt;NPR&lt;/font&gt;</description><source url=\"https://www.npr.org\">NPR</source></item>, <item><title>NASA's InSight lander detects 90-minute Mars quake, its first big ones - Business Insider</title><link>https://news.google.com/__i/rss/rd/articles/CBMiUmh0dHBzOi8vd3d3LmJ1c2luZXNzaW5zaWRlci5jb20vbmFzYS1pbnNpZ2h0LWxhbmRlci1kZXRlY3RzLWJpZy1tYXJzLXF1YWtlcy0yMDIxLTnSAVZodHRwczovL3d3dy5idXNpbmVzc2luc2lkZXIuY29tL25hc2EtaW5zaWdodC1sYW5kZXItZGV0ZWN0cy1iaWctbWFycy1xdWFrZXMtMjAyMS05P2FtcA?oc=5</link><guid isPermaLink=\"false\">52781898272517</guid><pubDate>Thu, 23 Sep 2021 22:42:24 GMT</pubDate><description>&lt;ol&gt;&lt;li&gt;&lt;a href=\"https://news.google.com/__i/rss/rd/articles/CBMiUmh0dHBzOi8vd3d3LmJ1c2luZXNzaW5zaWRlci5jb20vbmFzYS1pbnNpZ2h0LWxhbmRlci1kZXRlY3RzLWJpZy1tYXJzLXF1YWtlcy0yMDIxLTnSAVZodHRwczovL3d3dy5idXNpbmVzc2luc2lkZXIuY29tL25hc2EtaW5zaWdodC1sYW5kZXItZGV0ZWN0cy1iaWctbWFycy1xdWFrZXMtMjAyMS05P2FtcA?oc=5\" target=\"_blank\"&gt;NASA's InSight lander detects 90-minute Mars quake, its first big ones&lt;/a&gt;&amp;nbsp;&amp;nbsp;&lt;font color=\"#6f6f6f\"&gt;Business Insider&lt;/font&gt;&lt;/li&gt;&lt;li&gt;&lt;a href=\"https://news.google.com/__i/rss/rd/articles/CBMiQmh0dHBzOi8vd3d3LnNwYWNlLmNvbS9uYXNhLWluc2lnaHQtbGFuZGVyLXRocmVlLWJpZ2dlc3QtbWFyc3F1YWtlc9IBRmh0dHBzOi8vd3d3LnNwYWNlLmNvbS9hbXAvbmFzYS1pbnNpZ2h0LWxhbmRlci10aHJlZS1iaWdnZXN0LW1hcnNxdWFrZXM?oc=5\" target=\"_blank\"&gt;NASA's InSight Mars lander detects 3 biggest marsquakes to date&lt;/a&gt;&amp;nbsp;&amp;nbsp;&lt;font color=\"#6f6f6f\"&gt;Space.com&lt;/font&gt;&lt;/li&gt;&lt;li&gt;&lt;a href=\"https://news.google.com/__i/rss/rd/articles/CBMiWmh0dHBzOi8vd3d3LnNjaWVuY2VhbGVydC5jb20vdGhyZWUtbWFqb3ItcmVjb3JkLWJyZWFraW5nLXF1YWtlcy1oYXZlLWJlZW4tZGV0ZWN0ZWQtb24tbWFyc9IBXmh0dHBzOi8vd3d3LnNjaWVuY2VhbGVydC5jb20vdGhyZWUtbWFqb3ItcmVjb3JkLWJyZWFraW5nLXF1YWtlcy1oYXZlLWJlZW4tZGV0ZWN0ZWQtb24tbWFycy9hbXA?oc=5\" target=\"_blank\"&gt;Three Record-Breaking Quakes Have Been Detected on Mars, And They're Fascinating&lt;/a&gt;&amp;nbsp;&amp;nbsp;&lt;font color=\"#6f6f6f\"&gt;ScienceAlert&lt;/font&gt;&lt;/li&gt;&lt;li&gt;&lt;a href=\"https://news.google.com/__i/rss/rd/articles/CBMiK2h0dHBzOi8vd3d3LnlvdXR1YmUuY29tL3dhdGNoP3Y9ekFVektUSXNNTlXSAQA?oc=5\" target=\"_blank\"&gt;Mars Report: Update on NASA's Perseverance Rover SHERLOC Instrument (September 23rd, 2021)&lt;/a&gt;&amp;nbsp;&amp;nbsp;&lt;font color=\"#6f6f6f\"&gt;NASA Jet Propulsion Laboratory&lt;/font&gt;&lt;/li&gt;&lt;li&gt;&lt;a href=\"https://news.google.com/__i/rss/rd/articles/CBMiUGh0dHBzOi8vc2NpdGVjaGRhaWx5LmNvbS9uYXNhcy1pbnNpZ2h0LW1hcnMtbGFuZGVyLWRldGVjdHMtdGhyZWUtYmlnLW1hcnNxdWFrZXMv0gFUaHR0cHM6Ly9zY2l0ZWNoZGFpbHkuY29tL25hc2FzLWluc2lnaHQtbWFycy1sYW5kZXItZGV0ZWN0cy10aHJlZS1iaWctbWFyc3F1YWtlcy9hbXAv?oc=5\" target=\"_blank\"&gt;NASA’s InSight Mars Lander Detects Three Big Marsquakes&lt;/a&gt;&amp;nbsp;&amp;nbsp;&lt;font color=\"#6f6f6f\"&gt;SciTechDaily&lt;/font&gt;&lt;/li&gt;&lt;li&gt;&lt;strong&gt;&lt;a href=\"https://news.google.com/stories/CAAqOQgKIjNDQklTSURvSmMzUnZjbmt0TXpZd1NoTUtFUWlGbnJEeWs0QU1FZlJFNUc1Z0NkMWVLQUFQAQ?oc=5\" target=\"_blank\"&gt;View Full Coverage on Google News&lt;/a&gt;&lt;/strong&gt;&lt;/li&gt;&lt;/ol&gt;</description><source url=\"https://www.businessinsider.com\">Business Insider</source></item>, <item><title>These 3 Seattle scientists study the coronavirus. Now they’re getting millions to chase their ‘wildest scientific ideas’ - The Seattle Times</title><link>https://news.google.com/__i/rss/rd/articles/CBMinwFodHRwczovL3d3dy5zZWF0dGxldGltZXMuY29tL3NlYXR0bGUtbmV3cy90aGVzZS0zLXNlYXR0bGUtc2NpZW50aXN0cy1zdHVkeS10aGUtY29yb25hdmlydXMtbm93LXRoZXlyZS1nZXR0aW5nLW1pbGxpb25zLXRvLWNoYXNlLXRoZWlyLXdpbGRlc3Qtc2NpZW50aWZpYy1pZGVhcy_SAQA?oc=5</link><guid isPermaLink=\"false\">52781897957475</guid><pubDate>Thu, 23 Sep 2021 13:00:00 GMT</pubDate><description>&lt;ol&gt;&lt;li&gt;&lt;a href=\"https://news.google.com/__i/rss/rd/articles/CBMinwFodHRwczovL3d3dy5zZWF0dGxldGltZXMuY29tL3NlYXR0bGUtbmV3cy90aGVzZS0zLXNlYXR0bGUtc2NpZW50aXN0cy1zdHVkeS10aGUtY29yb25hdmlydXMtbm93LXRoZXlyZS1nZXR0aW5nLW1pbGxpb25zLXRvLWNoYXNlLXRoZWlyLXdpbGRlc3Qtc2NpZW50aWZpYy1pZGVhcy_SAQA?oc=5\" target=\"_blank\"&gt;These 3 Seattle scientists study the coronavirus. Now they’re getting millions to chase their ‘wildest scientific ideas’&lt;/a&gt;&amp;nbsp;&amp;nbsp;&lt;font color=\"#6f6f6f\"&gt;The Seattle Times&lt;/font&gt;&lt;/li&gt;&lt;li&gt;&lt;a href=\"https://news.google.com/__i/rss/rd/articles/CBMiR2h0dHBzOi8vd3d3LmhobWkub3JnL25ld3MvaGhtaS1pbnZlc3RzLTMwMC1taWxsaW9uLTMzLW5ldy1pbnZlc3RpZ2F0b3Jz0gEA?oc=5\" target=\"_blank\"&gt;HHMI Invests $300 Million in 33 New Investigators&lt;/a&gt;&amp;nbsp;&amp;nbsp;&lt;font color=\"#6f6f6f\"&gt;Howard Hughes Medical Institute&lt;/font&gt;&lt;/li&gt;&lt;li&gt;&lt;a href=\"https://news.google.com/__i/rss/rd/articles/CBMiZ2h0dHBzOi8vd3d3LmJvc3Rvbmdsb2JlLmNvbS8yMDIxLzA5LzIzL2J1c2luZXNzL3NldmVuLWxvY2FsLXNjaWVudGlzdHMtcmVjZWl2aW5nLTltLWVhY2gtZnVuZC1yZXNlYXJjaC_SAXZodHRwczovL3d3dy5ib3N0b25nbG9iZS5jb20vMjAyMS8wOS8yMy9idXNpbmVzcy9zZXZlbi1sb2NhbC1zY2llbnRpc3RzLXJlY2VpdmluZy05bS1lYWNoLWZ1bmQtcmVzZWFyY2gvP291dHB1dFR5cGU9YW1w?oc=5\" target=\"_blank\"&gt;Seven local scientists receiving $9m each to fund research&lt;/a&gt;&amp;nbsp;&amp;nbsp;&lt;font color=\"#6f6f6f\"&gt;BetaBoston&lt;/font&gt;&lt;/li&gt;&lt;li&gt;&lt;a href=\"https://news.google.com/__i/rss/rd/articles/CBMiSmh0dHBzOi8vd3d3LmNhbHRlY2guZWR1L2Fib3V0L25ld3MvbWlraGFpbC1zaGFwaXJvLW5hbWVkLWhobWktaW52ZXN0aWdhdG9y0gEA?oc=5\" target=\"_blank\"&gt;Mikhail Shapiro Named HHMI Investigator&lt;/a&gt;&amp;nbsp;&amp;nbsp;&lt;font color=\"#6f6f6f\"&gt;Caltech&lt;/font&gt;&lt;/li&gt;&lt;li&gt;&lt;a href=\"https://news.google.com/__i/rss/rd/articles/CBMicWh0dHBzOi8vbmV3cy52aXJnaW5pYS5lZHUvY29udGVudC91dmEtc2Nob29sLW1lZGljaW5lLXNjaWVudGlzdC1hd2FyZGVkLTktbWlsbGlvbi1ob3dhcmQtaHVnaGVzLW1lZGljYWwtaW5zdGl0dXRl0gEA?oc=5\" target=\"_blank\"&gt;UVA School of Medicine Scientist Awarded $9 Million From Howard Hughes Medical Institute&lt;/a&gt;&amp;nbsp;&amp;nbsp;&lt;font color=\"#6f6f6f\"&gt;UVA Today&lt;/font&gt;&lt;/li&gt;&lt;li&gt;&lt;strong&gt;&lt;a href=\"https://news.google.com/stories/CAAqOQgKIjNDQklTSURvSmMzUnZjbmt0TXpZd1NoTUtFUWpqZ0ozeWs0QU1FY05UQUdBQjI4UWNLQUFQAQ?oc=5\" target=\"_blank\"&gt;View Full Coverage on Google News&lt;/a&gt;&lt;/strong&gt;&lt;/li&gt;&lt;/ol&gt;</description><source url=\"https://www.seattletimes.com\">The Seattle Times</source></item>, <item><title>Carbon dioxide reactor makes Martian fuel - Phys.org</title><link>https://news.google.com/__i/rss/rd/articles/CBMiRmh0dHBzOi8vcGh5cy5vcmcvbmV3cy8yMDIxLTA5LWNhcmJvbi1kaW94aWRlLXJlYWN0b3ItbWFydGlhbi1mdWVsLmh0bWzSAUVodHRwczovL3BoeXMub3JnL25ld3MvMjAyMS0wOS1jYXJib24tZGlveGlkZS1yZWFjdG9yLW1hcnRpYW4tZnVlbC5hbXA?oc=5</link><guid isPermaLink=\"false\">CAIiEI8C_2TEjy0mOM9rZcWET90qFwgEKg8IACoHCAowpbDpAzCm_hwwj9kp</guid><pubDate>Thu, 23 Sep 2021 17:04:19 GMT</pubDate><description>&lt;a href=\"https://news.google.com/__i/rss/rd/articles/CBMiRmh0dHBzOi8vcGh5cy5vcmcvbmV3cy8yMDIxLTA5LWNhcmJvbi1kaW94aWRlLXJlYWN0b3ItbWFydGlhbi1mdWVsLmh0bWzSAUVodHRwczovL3BoeXMub3JnL25ld3MvMjAyMS0wOS1jYXJib24tZGlveGlkZS1yZWFjdG9yLW1hcnRpYW4tZnVlbC5hbXA?oc=5\" target=\"_blank\"&gt;Carbon dioxide reactor makes Martian fuel&lt;/a&gt;&amp;nbsp;&amp;nbsp;&lt;font color=\"#6f6f6f\"&gt;Phys.org&lt;/font&gt;</description><source url=\"https://phys.org\">Phys.org</source></item>, <item><title>Man punches nurse in the face multiple times after his wife is vaccinated for Covid - CNN</title><link>https://news.google.com/__i/rss/rd/articles/CBMiWmh0dHBzOi8vd3d3LmNubi5jb20vMjAyMS8wOS8yMy9hbWVyaWNhcy9jb3ZpZC12YWNjaW5lLWFzc2F1bHQtbnVyc2UtY2FuYWRhLXRybmQvaW5kZXguaHRtbNIBXmh0dHBzOi8vYW1wLmNubi5jb20vY25uLzIwMjEvMDkvMjMvYW1lcmljYXMvY292aWQtdmFjY2luZS1hc3NhdWx0LW51cnNlLWNhbmFkYS10cm5kL2luZGV4Lmh0bWw?oc=5</link><guid isPermaLink=\"false\">52781898826652</guid><pubDate>Thu, 23 Sep 2021 20:18:00 GMT</pubDate><description>&lt;ol&gt;&lt;li&gt;&lt;a href=\"https://news.google.com/__i/rss/rd/articles/CBMiWmh0dHBzOi8vd3d3LmNubi5jb20vMjAyMS8wOS8yMy9hbWVyaWNhcy9jb3ZpZC12YWNjaW5lLWFzc2F1bHQtbnVyc2UtY2FuYWRhLXRybmQvaW5kZXguaHRtbNIBXmh0dHBzOi8vYW1wLmNubi5jb20vY25uLzIwMjEvMDkvMjMvYW1lcmljYXMvY292aWQtdmFjY2luZS1hc3NhdWx0LW51cnNlLWNhbmFkYS10cm5kL2luZGV4Lmh0bWw?oc=5\" target=\"_blank\"&gt;Man punches nurse in the face multiple times after his wife is vaccinated for Covid&lt;/a&gt;&amp;nbsp;&amp;nbsp;&lt;font color=\"#6f6f6f\"&gt;CNN&lt;/font&gt;&lt;/li&gt;&lt;li&gt;&lt;a href=\"https://news.google.com/__i/rss/rd/articles/CBMiK2h0dHBzOi8vd3d3LnlvdXR1YmUuY29tL3dhdGNoP3Y9V1U4endOaDJZU3PSAQA?oc=5\" target=\"_blank\"&gt;Booster guidance for NH health car providers should be clearer in coming days, officials say&lt;/a&gt;&amp;nbsp;&amp;nbsp;&lt;font color=\"#6f6f6f\"&gt;WMUR-TV&lt;/font&gt;&lt;/li&gt;&lt;li&gt;&lt;a href=\"https://news.google.com/__i/rss/rd/articles/CBMiY2h0dHBzOi8vd2hkaC5jb20vbmV3cy9wb2xpY2UtbWFuLXB1bmNoZWQtbnVyc2UtaW4tZmFjZS1mb3ItdmFjY2luYXRpbmctd2lmZS13aXRob3V0LWhpcy1wZXJtaXNzaW9uL9IBZ2h0dHBzOi8vd2hkaC5jb20vbmV3cy9wb2xpY2UtbWFuLXB1bmNoZWQtbnVyc2UtaW4tZmFjZS1mb3ItdmFjY2luYXRpbmctd2lmZS13aXRob3V0LWhpcy1wZXJtaXNzaW9uL2FtcC8?oc=5\" target=\"_blank\"&gt;Police: Man punched nurse in face for vaccinating wife without his permission&lt;/a&gt;&amp;nbsp;&amp;nbsp;&lt;font color=\"#6f6f6f\"&gt;Boston News, Weather, Sports | WHDH 7News&lt;/font&gt;&lt;/li&gt;&lt;li&gt;&lt;a href=\"https://news.google.com/__i/rss/rd/articles/CBMib2h0dHBzOi8vd3d3LmZveG5ld3MuY29tL3dvcmxkL2NvdmlkLTE5LW1hbi1hY2N1c2VkLW9mLXJlcGVhdGVkbHktcHVuY2hpbmctbnVyc2UtaW4tZmFjZS1mb3ItZ2l2aW5nLXdpZmUtdmFjY2luZdIBc2h0dHBzOi8vd3d3LmZveG5ld3MuY29tL3dvcmxkL2NvdmlkLTE5LW1hbi1hY2N1c2VkLW9mLXJlcGVhdGVkbHktcHVuY2hpbmctbnVyc2UtaW4tZmFjZS1mb3ItZ2l2aW5nLXdpZmUtdmFjY2luZS5hbXA?oc=5\" target=\"_blank\"&gt;COVID-19: Man accused of repeatedly punching nurse in face for giving wife vaccine&lt;/a&gt;&amp;nbsp;&amp;nbsp;&lt;font color=\"#6f6f6f\"&gt;Fox News&lt;/font&gt;&lt;/li&gt;&lt;li&gt;&lt;a href=\"https://news.google.com/__i/rss/rd/articles/CBMiS2h0dHBzOi8vd3d3LnlhaG9vLmNvbS9uZXdzL3ZlcmRpY3QtcHJlZ25hbnQtd29tZW4tcGFzcy1jb3ZpZC0yMjU0MTkyODAuaHRtbNIBVGh0dHBzOi8vbmV3cy55YWhvby5jb20vYW1waHRtbC9uZXdzL3ZlcmRpY3QtcHJlZ25hbnQtd29tZW4tcGFzcy1jb3ZpZC0yMjU0MTkyODAuaHRtbA?oc=5\" target=\"_blank\"&gt;The verdict is in: Pregnant women pass COVID-fighting antibodies to their unborn children&lt;/a&gt;&amp;nbsp;&amp;nbsp;&lt;font color=\"#6f6f6f\"&gt;Yahoo! Voices&lt;/font&gt;&lt;/li&gt;&lt;li&gt;&lt;strong&gt;&lt;a href=\"https://news.google.com/stories/CAAqOQgKIjNDQklTSURvSmMzUnZjbmt0TXpZd1NoTUtFUWljaDlMeWs0QU1FYllvU3AtbmpvSnFLQUFQAQ?oc=5\" target=\"_blank\"&gt;View Full Coverage on Google News&lt;/a&gt;&lt;/strong&gt;&lt;/li&gt;&lt;/ol&gt;</description><source url=\"https://www.cnn.com\">CNN</source></item>, <item><title>Nearly 1600 new COVID-19 cases reported in Utah Thursday, 19 deaths - KSL.com</title><link>https://news.google.com/__i/rss/rd/articles/CBMiZ2h0dHBzOi8vd3d3LmtzbC5jb20vYXJ0aWNsZS81MDI0Nzk0My9uZWFybHktMTYwMC1uZXctY292aWQtMTktY2FzZXMtcmVwb3J0ZWQtaW4tdXRhaC10aHVyc2RheS0xOS1kZWF0aHPSAQA?oc=5</link><guid isPermaLink=\"false\">52781894001029</guid><pubDate>Thu, 23 Sep 2021 19:54:14 GMT</pubDate><description>&lt;ol&gt;&lt;li&gt;&lt;a href=\"https://news.google.com/__i/rss/rd/articles/CBMiZ2h0dHBzOi8vd3d3LmtzbC5jb20vYXJ0aWNsZS81MDI0Nzk0My9uZWFybHktMTYwMC1uZXctY292aWQtMTktY2FzZXMtcmVwb3J0ZWQtaW4tdXRhaC10aHVyc2RheS0xOS1kZWF0aHPSAQA?oc=5\" target=\"_blank\"&gt;Nearly 1600 new COVID-19 cases reported in Utah Thursday, 19 deaths&lt;/a&gt;&amp;nbsp;&amp;nbsp;&lt;font color=\"#6f6f6f\"&gt;KSL.com&lt;/font&gt;&lt;/li&gt;&lt;li&gt;&lt;a href=\"https://news.google.com/__i/rss/rd/articles/CBMiK2h0dHBzOi8vd3d3LnlvdXR1YmUuY29tL3dhdGNoP3Y9TGI3RGdBUjRQMEHSAQA?oc=5\" target=\"_blank\"&gt;Daughters say misinformation contributed to their mom's COVID-19 death in Kitsap County&lt;/a&gt;&amp;nbsp;&amp;nbsp;&lt;font color=\"#6f6f6f\"&gt;KING 5&lt;/font&gt;&lt;/li&gt;&lt;li&gt;&lt;a href=\"https://news.google.com/__i/rss/rd/articles/CBMicWh0dHBzOi8vd3d3LndiYXkuY29tLzIwMjEvMDkvMjMvY292aWQtMTktd2lzY29uc2luLTMwNzUtbmV3LWNhc2VzLTE5LWRlYXRocy1ob3NwaXRhbGl6YXRpb25zLWZveC12YWxsZXktaW5jcmVhc2Uv0gEA?oc=5\" target=\"_blank\"&gt;COVID-19 in Wisconsin: 3,075 new cases; 19 deaths; hospitalizations in Fox Valley increase&lt;/a&gt;&amp;nbsp;&amp;nbsp;&lt;font color=\"#6f6f6f\"&gt;WBAY&lt;/font&gt;&lt;/li&gt;&lt;li&gt;&lt;a href=\"https://news.google.com/__i/rss/rd/articles/CBMic2h0dHBzOi8vd3d3LmRlc2VyZXQuY29tL29waW5pb24vMjAyMS85LzIzLzIyNjg4ODE0L3V0YWgtbGF3bWFrZXJzLWNvdmlkLTE5LWVuZC10by1tYXNrLW1hbmRhdGVzLWxvb2tzLWZvb2xpc2gtdG9kYXnSAYABaHR0cHM6Ly93d3cuZGVzZXJldC5jb20vcGxhdGZvcm0vYW1wL29waW5pb24vMjAyMS85LzIzLzIyNjg4ODE0L3V0YWgtbGF3bWFrZXJzLWNvdmlkLTE5LWVuZC10by1tYXNrLW1hbmRhdGVzLWxvb2tzLWZvb2xpc2gtdG9kYXk?oc=5\" target=\"_blank\"&gt;With COVID-19 cases soaring, the Utah Legislature now looks foolish |Opinion&lt;/a&gt;&amp;nbsp;&amp;nbsp;&lt;font color=\"#6f6f6f\"&gt;Deseret News&lt;/font&gt;&lt;/li&gt;&lt;li&gt;&lt;a href=\"https://news.google.com/__i/rss/rd/articles/CBMiK2h0dHBzOi8vd3d3LnlvdXR1YmUuY29tL3dhdGNoP3Y9cHFoWE5VbmJQajTSAQA?oc=5\" target=\"_blank\"&gt;City Launches New COVID-19 Vaccination Campaign, Health Professionals Boosting Rates Will Take Time&lt;/a&gt;&amp;nbsp;&amp;nbsp;&lt;font color=\"#6f6f6f\"&gt;CBS Chicago&lt;/font&gt;&lt;/li&gt;&lt;li&gt;&lt;strong&gt;&lt;a href=\"https://news.google.com/stories/CAAqOQgKIjNDQklTSURvSmMzUnZjbmt0TXpZd1NoTUtFUWlGdzZ2d2s0QU1FZXVsZEdMbll0bjFLQUFQAQ?oc=5\" target=\"_blank\"&gt;View Full Coverage on Google News&lt;/a&gt;&lt;/strong&gt;&lt;/li&gt;&lt;/ol&gt;</description><source url=\"https://www.ksl.com\">KSL.com</source></item>, <item><title>4 major Minnesota hospitals reveal how many COVID-19 patients are fully vaccinated, unvaccinated - Bring Me The News</title><link>https://news.google.com/__i/rss/rd/articles/CBMiiQFodHRwczovL2JyaW5nbWV0aGVuZXdzLmNvbS9taW5uZXNvdGEtbmV3cy8zLW1ham9yLW1pbm5lc290YS1ob3NwaXRhbHMtcmV2ZWFsLWhvdy1tYW55LWNvdmlkLTE5LXBhdGllbnRzLWFyZS1mdWxseS12YWNjaW5hdGVkLXVudmFjY2luYXRlZNIBjgFodHRwczovL2JyaW5nbWV0aGVuZXdzLmNvbS8uYW1wL21pbm5lc290YS1uZXdzLzMtbWFqb3ItbWlubmVzb3RhLWhvc3BpdGFscy1yZXZlYWwtaG93LW1hbnktY292aWQtMTktcGF0aWVudHMtYXJlLWZ1bGx5LXZhY2NpbmF0ZWQtdW52YWNjaW5hdGVk?oc=5</link><guid isPermaLink=\"false\">52781898628906</guid><pubDate>Thu, 23 Sep 2021 18:42:20 GMT</pubDate><description>&lt;ol&gt;&lt;li&gt;&lt;a href=\"https://news.google.com/__i/rss/rd/articles/CBMiiQFodHRwczovL2JyaW5nbWV0aGVuZXdzLmNvbS9taW5uZXNvdGEtbmV3cy8zLW1ham9yLW1pbm5lc290YS1ob3NwaXRhbHMtcmV2ZWFsLWhvdy1tYW55LWNvdmlkLTE5LXBhdGllbnRzLWFyZS1mdWxseS12YWNjaW5hdGVkLXVudmFjY2luYXRlZNIBjgFodHRwczovL2JyaW5nbWV0aGVuZXdzLmNvbS8uYW1wL21pbm5lc290YS1uZXdzLzMtbWFqb3ItbWlubmVzb3RhLWhvc3BpdGFscy1yZXZlYWwtaG93LW1hbnktY292aWQtMTktcGF0aWVudHMtYXJlLWZ1bGx5LXZhY2NpbmF0ZWQtdW52YWNjaW5hdGVk?oc=5\" target=\"_blank\"&gt;4 major Minnesota hospitals reveal how many COVID-19 patients are fully vaccinated, unvaccinated&lt;/a&gt;&amp;nbsp;&amp;nbsp;&lt;font color=\"#6f6f6f\"&gt;Bring Me The News&lt;/font&gt;&lt;/li&gt;&lt;li&gt;&lt;a href=\"https://news.google.com/__i/rss/rd/articles/CBMiV2h0dHBzOi8vd3d3Lndvb2R0di5jb20vaGVhbHRoL2Nvcm9uYXZpcnVzL21pY2hpZ2FuLWNvcm9uYXZpcnVzLWNhc2VzLXN1cnBhc3MtMS1taWxsaW9uL9IBW2h0dHBzOi8vd3d3Lndvb2R0di5jb20vaGVhbHRoL2Nvcm9uYXZpcnVzL21pY2hpZ2FuLWNvcm9uYXZpcnVzLWNhc2VzLXN1cnBhc3MtMS1taWxsaW9uL2FtcC8?oc=5\" target=\"_blank\"&gt;Michigan coronavirus cases surpass 1 million&lt;/a&gt;&amp;nbsp;&amp;nbsp;&lt;font color=\"#6f6f6f\"&gt;WOODTV.com&lt;/font&gt;&lt;/li&gt;&lt;li&gt;&lt;a href=\"https://news.google.com/__i/rss/rd/articles/CBMi0AFodHRwczovL3RpbWVzb2ZpbmRpYS5pbmRpYXRpbWVzLmNvbS9saWZlLXN0eWxlL2hlYWx0aC1maXRuZXNzL2hlYWx0aC1uZXdzL2Nvcm9uYXZpcnVzLWJyZWFrdGhyb3VnaC1pbmZlY3Rpb25zLXJlYXNvbnMtd2hpY2gtbWFrZS1pdC1lYXNpZXItZm9yLXNvbWVvbmUtdG8tZ2V0LWNvdmlkLTE5LWFmdGVyLXZhY2NpbmF0aW9uL3Bob3Rvc3RvcnkvODY0Mjc0OTkuY21z0gHNAWh0dHBzOi8vbS50aW1lc29maW5kaWEuY29tL2xpZmUtc3R5bGUvaGVhbHRoLWZpdG5lc3MvaGVhbHRoLW5ld3MvY29yb25hdmlydXMtYnJlYWt0aHJvdWdoLWluZmVjdGlvbnMtcmVhc29ucy13aGljaC1tYWtlLWl0LWVhc2llci1mb3Itc29tZW9uZS10by1nZXQtY292aWQtMTktYWZ0ZXItdmFjY2luYXRpb24vYW1wX2V0cGhvdG9zdG9yeS84NjQyNzQ5OS5jbXM?oc=5\" target=\"_blank\"&gt;Coronavirus breakthrough infections: Factors which make it easier for someone to get COVID-19 after vaccination&lt;/a&gt;&amp;nbsp;&amp;nbsp;&lt;font color=\"#6f6f6f\"&gt;Times of India&lt;/font&gt;&lt;/li&gt;&lt;li&gt;&lt;a href=\"https://news.google.com/__i/rss/rd/articles/CBMib2h0dHBzOi8vd3d3LmFiYzEyLmNvbS8yMDIxLzA5LzIyL21pY2hpZ2FuLXJlcG9ydHMtYnJlYWtpbmctdGhyZXNob2xkLW92ZXItb25lLW1pbGxpb24tY29uZmlybWVkLWNhc2VzLWNvdmlkLTE5L9IBAA?oc=5\" target=\"_blank\"&gt;Michigan reports breaking threshold of over one million confirmed cases of COVID-19&lt;/a&gt;&amp;nbsp;&amp;nbsp;&lt;font color=\"#6f6f6f\"&gt;ABC 12 News&lt;/font&gt;&lt;/li&gt;&lt;li&gt;&lt;a href=\"https://news.google.com/__i/rss/rd/articles/CBMi0AFodHRwczovL3d3dy5wcm5ld3N3aXJlLmNvbS9uZXdzLXJlbGVhc2VzL2Nsb3ZlcnMtY292aWQtMTktdmFjY2luZS1jYW5kaWRhdGUtZGVtb25zdHJhdGVzLTc5LWVmZmljYWN5LWFnYWluc3QtZGVsdGEtaW4tZ2xvYmFsLXBoYXNlLTIzLXNwZWN0cmEtdHJpYWwtZG9taW5hdGVkLWJ5LXZhcmlhbnRzLW9mLWNvbmNlcm4tYW5kLWludGVyZXN0LTMwMTM4MjYyOC5odG1s0gEA?oc=5\" target=\"_blank\"&gt;Clover's COVID-19 Vaccine Candidate Demonstrates 79% Efficacy Against Delta in Global Phase 2/3 SPECTRA Trial Dominated by Variants of Concern and Interest&lt;/a&gt;&amp;nbsp;&amp;nbsp;&lt;font color=\"#6f6f6f\"&gt;PRNewswire&lt;/font&gt;&lt;/li&gt;&lt;li&gt;&lt;strong&gt;&lt;a href=\"https://news.google.com/stories/CAAqOQgKIjNDQklTSURvSmMzUnZjbmt0TXpZd1NoTUtFUWlxX3NYeWs0QU1FZWFMTWVJUlZHeXhLQUFQAQ?oc=5\" target=\"_blank\"&gt;View Full Coverage on Google News&lt;/a&gt;&lt;/strong&gt;&lt;/li&gt;&lt;/ol&gt;</description><source url=\"https://bringmethenews.com\">Bring Me The News</source></item>, <item><title>Is the R.1 variant in the Bay Area? What to know about the highly mutated COVID strain - San Francisco Chronicle</title><link>https://news.google.com/__i/rss/rd/articles/CBMiZ2h0dHBzOi8vd3d3LnNmY2hyb25pY2xlLmNvbS9oZWFsdGgvYXJ0aWNsZS9Jcy10aGUtUi0xLXZhcmlhbnQtaW4tdGhlLUJheS1BcmVhLVdoYXQtdG8ta25vdy0xNjQ4MzE4NS5waHDSAQA?oc=5</link><guid isPermaLink=\"false\">52781898642808</guid><pubDate>Thu, 23 Sep 2021 23:03:32 GMT</pubDate><description>&lt;ol&gt;&lt;li&gt;&lt;a href=\"https://news.google.com/__i/rss/rd/articles/CBMiZ2h0dHBzOi8vd3d3LnNmY2hyb25pY2xlLmNvbS9oZWFsdGgvYXJ0aWNsZS9Jcy10aGUtUi0xLXZhcmlhbnQtaW4tdGhlLUJheS1BcmVhLVdoYXQtdG8ta25vdy0xNjQ4MzE4NS5waHDSAQA?oc=5\" target=\"_blank\"&gt;Is the R.1 variant in the Bay Area? What to know about the highly mutated COVID strain&lt;/a&gt;&amp;nbsp;&amp;nbsp;&lt;font color=\"#6f6f6f\"&gt;San Francisco Chronicle&lt;/font&gt;&lt;/li&gt;&lt;li&gt;&lt;a href=\"https://news.google.com/__i/rss/rd/articles/CBMiUWh0dHBzOi8vd3d3LmhlYWx0aC5jb20vY29uZGl0aW9uL2luZmVjdGlvdXMtZGlzZWFzZXMvY29yb25hdmlydXMvcjEtY292aWQtdmFyaWFudNIBAA?oc=5\" target=\"_blank\"&gt;What Is the R.1 COVID-19 Variant? Here's What We Know So Far&lt;/a&gt;&amp;nbsp;&amp;nbsp;&lt;font color=\"#6f6f6f\"&gt;Health.com&lt;/font&gt;&lt;/li&gt;&lt;li&gt;&lt;a href=\"https://news.google.com/__i/rss/rd/articles/CBMiUWh0dHBzOi8vd3d3LmZveG5ld3MuY29tL2hlYWx0aC9jb3ZpZC12YXJpYW50LXNvbWV0aGluZy1yZWFsbHktdG8td2F0Y2gtcmVzZWFyY2hlctIBVWh0dHBzOi8vd3d3LmZveG5ld3MuY29tL2hlYWx0aC9jb3ZpZC12YXJpYW50LXNvbWV0aGluZy1yZWFsbHktdG8td2F0Y2gtcmVzZWFyY2hlci5hbXA?oc=5\" target=\"_blank\"&gt;COVID-19 variant R.1 is ‘something really to watch,' researcher says&lt;/a&gt;&amp;nbsp;&amp;nbsp;&lt;font color=\"#6f6f6f\"&gt;Fox News&lt;/font&gt;&lt;/li&gt;&lt;li&gt;&lt;a href=\"https://news.google.com/__i/rss/rd/articles/CBMiZ2h0dHBzOi8vd3d3Lm5ld3N3ZWVrLmNvbS9yMS1jb3ZpZC0xOS12YXJpYW50LW51bWJlci1jYXNlcy1wcmV2YWxlbnQtbWFyeWxhbmQtaGVhbHRoLWNvcm9uYXZpcnVzLTE2MzE5NDDSAW1odHRwczovL3d3dy5uZXdzd2Vlay5jb20vcjEtY292aWQtMTktdmFyaWFudC1udW1iZXItY2FzZXMtcHJldmFsZW50LW1hcnlsYW5kLWhlYWx0aC1jb3JvbmF2aXJ1cy0xNjMxOTQwP2FtcD0x?oc=5\" target=\"_blank\"&gt;Maryland State With Most Cases of Dangerously Mutated R.1 Variant&lt;/a&gt;&amp;nbsp;&amp;nbsp;&lt;font color=\"#6f6f6f\"&gt;Newsweek&lt;/font&gt;&lt;/li&gt;&lt;li&gt;&lt;a href=\"https://news.google.com/__i/rss/rd/articles/CBMiRWh0dHBzOi8vd3d3LnByZXZlbnRpb24uY29tL2hlYWx0aC9hMzc3MDQ5MTUvd2hhdC1pcy1yMS1jb3ZpZC12YXJpYW50L9IBR2h0dHBzOi8vd3d3LnByZXZlbnRpb24uY29tL2hlYWx0aC9hbXAzNzcwNDkxNS93aGF0LWlzLXIxLWNvdmlkLXZhcmlhbnQv?oc=5\" target=\"_blank\"&gt;What Is the R.1 COVID Variant? Experts Share What It Could Mean for the U.S.&lt;/a&gt;&amp;nbsp;&amp;nbsp;&lt;font color=\"#6f6f6f\"&gt;Prevention.com&lt;/font&gt;&lt;/li&gt;&lt;li&gt;&lt;strong&gt;&lt;a href=\"https://news.google.com/stories/CAAqOQgKIjNDQklTSURvSmMzUnZjbmt0TXpZd1NoTUtFUWo0NnNieWs0QU1FZFNFbUR6Q1JnMWdLQUFQAQ?oc=5\" target=\"_blank\"&gt;View Full Coverage on Google News&lt;/a&gt;&lt;/strong&gt;&lt;/li&gt;&lt;/ol&gt;</description><source url=\"https://www.sfchronicle.com\">San Francisco Chronicle</source></item>]\n",
            "Federal arrest warrant issued for Brian Laundrie in Gabby Petito investigation - NBC News\n",
            "https://news.google.com/__i/rss/rd/articles/CBMifWh0dHBzOi8vd3d3Lm5iY25ld3MuY29tL25ld3MvdXMtbmV3cy9mZWRlcmFsLWFycmVzdC13YXJyYW50LWlzc3VlZC1icmlhbi1sYXVuZHJpZS1yZWxhdGVkLWdhYmJ5LXBldGl0by1pbnZlc3RpZ2F0aW9uLW4xMjc5OTg20gEsaHR0cHM6Ly93d3cubmJjbmV3cy5jb20vbmV3cy9hbXAvbmNuYTEyNzk5ODY?oc=5\n",
            "Thu, 23 Sep 2021 23:59:00 GMT\n",
            "------------------------------------------------------------\n",
            "January 6 committee issues first subpoenas for witness testimony to four Trump loyalists - CNN\n",
            "https://news.google.com/__i/rss/rd/articles/CBMiVmh0dHBzOi8vd3d3LmNubi5jb20vMjAyMS8wOS8yMy9wb2xpdGljcy9qYW51YXJ5LTYtc3VicG9lbmFzLXRydW1wLWxveWFsaXN0cy9pbmRleC5odG1s0gFaaHR0cHM6Ly9hbXAuY25uLmNvbS9jbm4vMjAyMS8wOS8yMy9wb2xpdGljcy9qYW51YXJ5LTYtc3VicG9lbmFzLXRydW1wLWxveWFsaXN0cy9pbmRleC5odG1s?oc=5\n",
            "Fri, 24 Sep 2021 00:57:00 GMT\n",
            "------------------------------------------------------------\n",
            "Collierville, TN Kroger shooting kills 2, including shooter, injures 12 more - WREG NewsChannel 3\n",
            "https://news.google.com/__i/rss/rd/articles/CBMiRWh0dHBzOi8vd3d3LndyZWcuY29tL25ld3MvbG9jYWwvYWN0aXZlLXNob290ZXItb24tYnloYWxpYS1hbmQtcG9wbGFyL9IBSWh0dHBzOi8vd3d3LndyZWcuY29tL25ld3MvbG9jYWwvYWN0aXZlLXNob290ZXItb24tYnloYWxpYS1hbmQtcG9wbGFyL2FtcC8?oc=5\n",
            "Thu, 23 Sep 2021 18:59:08 GMT\n",
            "------------------------------------------------------------\n",
            "U.S. Border Patrol will no longer use horses in Del Rio, Texas, after outrage over treatment of Haitian migrants - CNBC\n",
            "https://news.google.com/__i/rss/rd/articles/CBMidmh0dHBzOi8vd3d3LmNuYmMuY29tLzIwMjEvMDkvMjMvYm9yZGVyLXBhdHJvbC13b250LXVzZS1ob3JzZXMtaW4tZGVsLXJpby1hZnRlci1vdXRyYWdlLW92ZXItdHJlYXRtZW50LW9mLWhhaXRpYW5zLmh0bWzSAXpodHRwczovL3d3dy5jbmJjLmNvbS9hbXAvMjAyMS8wOS8yMy9ib3JkZXItcGF0cm9sLXdvbnQtdXNlLWhvcnNlcy1pbi1kZWwtcmlvLWFmdGVyLW91dHJhZ2Utb3Zlci10cmVhdG1lbnQtb2YtaGFpdGlhbnMuaHRtbA?oc=5\n",
            "Thu, 23 Sep 2021 23:04:57 GMT\n",
            "------------------------------------------------------------\n",
            "Jelani Day: Body found in Illinois River was missing Alabama A&M grad - AL.com\n",
            "https://news.google.com/__i/rss/rd/articles/CBMiaWh0dHBzOi8vd3d3LmFsLmNvbS9uZXdzLzIwMjEvMDkvamVsYW5pLWRheXMtYm9keS1mb3VuZC1pbi1yaXZlci1hbGFiYW1hLWFtLWdyYWQtdmFuaXNoZWQtaW4taWxsaW5vaXMuaHRtbNIBeGh0dHBzOi8vd3d3LmFsLmNvbS9uZXdzLzIwMjEvMDkvamVsYW5pLWRheXMtYm9keS1mb3VuZC1pbi1yaXZlci1hbGFiYW1hLWFtLWdyYWQtdmFuaXNoZWQtaW4taWxsaW5vaXMuaHRtbD9vdXRwdXRUeXBlPWFtcA?oc=5\n",
            "Thu, 23 Sep 2021 21:04:20 GMT\n",
            "------------------------------------------------------------\n",
            "Search for missing geologist in Arizona continues 3 months after disappearance from desert job site - Fox News\n",
            "https://news.google.com/__i/rss/rd/articles/CBMiO2h0dHBzOi8vd3d3LmZveG5ld3MuY29tL3VzL21pc3NpbmctZ2VvbG9naXN0LWFyaXpvbmEtc2VhcmNo0gE_aHR0cHM6Ly93d3cuZm94bmV3cy5jb20vdXMvbWlzc2luZy1nZW9sb2dpc3QtYXJpem9uYS1zZWFyY2guYW1w?oc=5\n",
            "Thu, 23 Sep 2021 18:13:53 GMT\n",
            "------------------------------------------------------------\n",
            "Oldest human footprints in North America found in New Mexico - Associated Press\n",
            "https://news.google.com/__i/rss/rd/articles/CBMiM2h0dHBzOi8vYXBuZXdzLmNvbS85N2NiNGIyZWEwZjQ5OWQ2ZWE1ZmJmZWJhYjI0MzQxM9IBAA?oc=5\n",
            "Thu, 23 Sep 2021 22:53:32 GMT\n",
            "------------------------------------------------------------\n",
            "White House moving to release information on Trump to congressional investigators - CNN\n",
            "https://news.google.com/__i/rss/rd/articles/CBMiZGh0dHBzOi8vd3d3LmNubi5jb20vMjAyMS8wOS8yMy9wb2xpdGljcy93aGl0ZS1ob3VzZS10cnVtcC1pbmZvcm1hdGlvbi1qYW51YXJ5LTYtY29tbWl0dGVlL2luZGV4Lmh0bWzSAWhodHRwczovL2FtcC5jbm4uY29tL2Nubi8yMDIxLzA5LzIzL3BvbGl0aWNzL3doaXRlLWhvdXNlLXRydW1wLWluZm9ybWF0aW9uLWphbnVhcnktNi1jb21taXR0ZWUvaW5kZXguaHRtbA?oc=5\n",
            "Fri, 24 Sep 2021 00:16:00 GMT\n",
            "------------------------------------------------------------\n",
            "AOC roasted for shedding 'crocodile tears' after crying over Israel Iron Dome House vote - Fox News\n",
            "https://news.google.com/__i/rss/rd/articles/CBMiTmh0dHBzOi8vd3d3LmZveG5ld3MuY29tL21lZGlhL2FsZXhhbmRyaWEtb2Nhc2lvLWNvcnRlei1jcnlpbmctaXNyYWVsLWlyb24tZG9tZdIBUmh0dHBzOi8vd3d3LmZveG5ld3MuY29tL21lZGlhL2FsZXhhbmRyaWEtb2Nhc2lvLWNvcnRlei1jcnlpbmctaXNyYWVsLWlyb24tZG9tZS5hbXA?oc=5\n",
            "Thu, 23 Sep 2021 21:52:14 GMT\n",
            "------------------------------------------------------------\n",
            "Nancy Pelosi, Mick Jagger and the $3.5 trillion social spending bill - Fox News\n",
            "https://news.google.com/__i/rss/rd/articles/CBMiaWh0dHBzOi8vd3d3LmZveG5ld3MuY29tL3BvbGl0aWNzL2hpdGNoaGlrZXJzLWd1aWRlLW5hbmN5LXBlbG9zaS1taWNrLWphZ2dlci10cmlsbGlvbi1zb2NpYWwtc3BlbmRpbmctYmlsbNIBbWh0dHBzOi8vd3d3LmZveG5ld3MuY29tL3BvbGl0aWNzL2hpdGNoaGlrZXJzLWd1aWRlLW5hbmN5LXBlbG9zaS1taWNrLWphZ2dlci10cmlsbGlvbi1zb2NpYWwtc3BlbmRpbmctYmlsbC5hbXA?oc=5\n",
            "Thu, 23 Sep 2021 23:36:31 GMT\n",
            "------------------------------------------------------------\n",
            "Catalan Separatist Leader, Carles Puigdemont, Arrested in Italy - The New York Times\n",
            "https://news.google.com/__i/rss/rd/articles/CBMiXmh0dHBzOi8vd3d3Lm55dGltZXMuY29tLzIwMjEvMDkvMjMvd29ybGQvZXVyb3BlL3B1aWdkZW1vbnQtYXJyZXN0ZWQtY2F0YWxvbmlhLXNwYWluLWl0YWx5Lmh0bWzSAWJodHRwczovL3d3dy5ueXRpbWVzLmNvbS8yMDIxLzA5LzIzL3dvcmxkL2V1cm9wZS9wdWlnZGVtb250LWFycmVzdGVkLWNhdGFsb25pYS1zcGFpbi1pdGFseS5hbXAuaHRtbA?oc=5\n",
            "Thu, 23 Sep 2021 23:25:20 GMT\n",
            "------------------------------------------------------------\n",
            "Afghans dying at border as tensions intensify between Taliban, Pakistan - New York Post \n",
            "https://news.google.com/__i/rss/rd/articles/CBMiVGh0dHBzOi8vbnlwb3N0LmNvbS8yMDIxLzA5LzIzL2FmZ2hhbnMtZHlpbmctYXQtYm9yZGVyLWFtaWQtdGFsaWJhbi1wYWtpc3Rhbi10ZW5zaW9uL9IBWGh0dHBzOi8vbnlwb3N0LmNvbS8yMDIxLzA5LzIzL2FmZ2hhbnMtZHlpbmctYXQtYm9yZGVyLWFtaWQtdGFsaWJhbi1wYWtpc3Rhbi10ZW5zaW9uL2FtcC8?oc=5\n",
            "Thu, 23 Sep 2021 15:41:00 GMT\n",
            "------------------------------------------------------------\n",
            "US-China policy: Biden is bringing together Japan, Australia and India to stare down China - CNN\n",
            "https://news.google.com/__i/rss/rd/articles/CBMiW2h0dHBzOi8vd3d3LmNubi5jb20vMjAyMS8wOS8yMy9hc2lhL3VzLWNoaW5hLWluZGlhLWF1c3RyYWxpYS1qYXBhbi1xdWFkLWludGwtaG5rL2luZGV4Lmh0bWzSAV9odHRwczovL2FtcC5jbm4uY29tL2Nubi8yMDIxLzA5LzIzL2FzaWEvdXMtY2hpbmEtaW5kaWEtYXVzdHJhbGlhLWphcGFuLXF1YWQtaW50bC1obmsvaW5kZXguaHRtbA?oc=5\n",
            "Fri, 24 Sep 2021 00:08:00 GMT\n",
            "------------------------------------------------------------\n",
            "China sends jets and bombers near Taiwan as Beijing opposes island’s trade deal bid - The Guardian\n",
            "https://news.google.com/__i/rss/rd/articles/CBMigAFodHRwczovL3d3dy50aGVndWFyZGlhbi5jb20vd29ybGQvMjAyMS9zZXAvMjQvY2hpbmEtc2VuZHMtamV0cy1hbmQtYm9tYmVycy1uZWFyLXRhaXdhbi1hcy1iZWlqaW5nLW9wcG9zZXMtaXNsYW5kcy10cmFkZS1kZWFsLWJpZNIBgAFodHRwczovL2FtcC50aGVndWFyZGlhbi5jb20vd29ybGQvMjAyMS9zZXAvMjQvY2hpbmEtc2VuZHMtamV0cy1hbmQtYm9tYmVycy1uZWFyLXRhaXdhbi1hcy1iZWlqaW5nLW9wcG9zZXMtaXNsYW5kcy10cmFkZS1kZWFsLWJpZA?oc=5\n",
            "Fri, 24 Sep 2021 00:02:00 GMT\n",
            "------------------------------------------------------------\n",
            "CDC recommends Pfizer booster shots - Fox News\n",
            "https://news.google.com/__i/rss/rd/articles/CBMiPmh0dHBzOi8vd3d3LmZveG5ld3MuY29tL3VzL2NkYy1yZWNvbW1lbmRzLXBmaXplci1ib29zdGVyLXNob3Rz0gFCaHR0cHM6Ly93d3cuZm94bmV3cy5jb20vdXMvY2RjLXJlY29tbWVuZHMtcGZpemVyLWJvb3N0ZXItc2hvdHMuYW1w?oc=5\n",
            "Thu, 23 Sep 2021 22:53:57 GMT\n",
            "------------------------------------------------------------\n",
            "Japan's Nikkei 225 jumps 2% as investors seek clarity on Evergrande situation - CNBC\n",
            "https://news.google.com/__i/rss/rd/articles/CBMiV2h0dHBzOi8vd3d3LmNuYmMuY29tLzIwMjEvMDkvMjQvYXNpYS1tYXJrZXRzLWNoaW5hLWV2ZXJncmFuZGUtZ3JvdXAtY3VycmVuY2llcy1vaWwuaHRtbNIBW2h0dHBzOi8vd3d3LmNuYmMuY29tL2FtcC8yMDIxLzA5LzI0L2FzaWEtbWFya2V0cy1jaGluYS1ldmVyZ3JhbmRlLWdyb3VwLWN1cnJlbmNpZXMtb2lsLmh0bWw?oc=5\n",
            "Thu, 23 Sep 2021 23:41:12 GMT\n",
            "------------------------------------------------------------\n",
            "Stock market news live updates: Stock futures steady after S&P 500's best day since July - Yahoo Finance\n",
            "https://news.google.com/__i/rss/rd/articles/CBMiXmh0dHBzOi8vZmluYW5jZS55YWhvby5jb20vbmV3cy9zdG9jay1tYXJrZXQtbmV3cy1saXZlLXVwZGF0ZXMtc2VwdGVtYmVyLTI0LTIwMjEtMjI0MDUyNTU0Lmh0bWzSAWZodHRwczovL2ZpbmFuY2UueWFob28uY29tL2FtcGh0bWwvbmV3cy9zdG9jay1tYXJrZXQtbmV3cy1saXZlLXVwZGF0ZXMtc2VwdGVtYmVyLTI0LTIwMjEtMjI0MDUyNTU0Lmh0bWw?oc=5\n",
            "Thu, 23 Sep 2021 22:40:52 GMT\n",
            "------------------------------------------------------------\n",
            "Boppy Baby Pillow Recalled After Deaths Of 8 Infants - NPR\n",
            "https://news.google.com/__i/rss/rd/articles/CBMidmh0dHBzOi8vd3d3Lm5wci5vcmcvMjAyMS8wOS8yMy8xMDQwMjAzMTUwL2JvcHB5LXJlY2FsbC1pbmZhbnQtYmFieS1kZWF0aHMtc3VmZm9jYXRpb24tcmlzay1zbGVlcD9mdD1ucHJtbCZmPTEwNDAyMDMxNTDSAQA?oc=5\n",
            "Thu, 23 Sep 2021 20:34:01 GMT\n",
            "------------------------------------------------------------\n",
            "Nintendo Direct September 2021: the biggest announcements and trailers - The Verge\n",
            "https://news.google.com/__i/rss/rd/articles/CBMiYWh0dHBzOi8vd3d3LnRoZXZlcmdlLmNvbS8yMDIxLzkvMjMvMjI2ODk0NjIvbmludGVuZG8tZGlyZWN0LXNlcHRlbWJlci0yMDIxLXRyYWlsZXJzLWFubm91bmNlbWVudHPSAW5odHRwczovL3d3dy50aGV2ZXJnZS5jb20vcGxhdGZvcm0vYW1wLzIwMjEvOS8yMy8yMjY4OTQ2Mi9uaW50ZW5kby1kaXJlY3Qtc2VwdGVtYmVyLTIwMjEtdHJhaWxlcnMtYW5ub3VuY2VtZW50cw?oc=5\n",
            "Thu, 23 Sep 2021 22:57:59 GMT\n",
            "------------------------------------------------------------\n",
            "Xbox Series X and PS5 restocks confirmed today - here's when and where - Gamesradar\n",
            "https://news.google.com/__i/rss/rd/articles/CBMiX2h0dHBzOi8vd3d3LmdhbWVzcmFkYXIuY29tL3hib3gtc2VyaWVzLXgtYW5kLXBzNS1yZXN0b2Nrcy1jb25maXJtZWQtdG9kYXktaGVyZXMtd2hlbi1hbmQtd2hlcmUv0gFjaHR0cHM6Ly93d3cuZ2FtZXNyYWRhci5jb20vYW1wL3hib3gtc2VyaWVzLXgtYW5kLXBzNS1yZXN0b2Nrcy1jb25maXJtZWQtdG9kYXktaGVyZXMtd2hlbi1hbmQtd2hlcmUv?oc=5\n",
            "Thu, 23 Sep 2021 19:55:45 GMT\n",
            "------------------------------------------------------------\n",
            "First iPhone 13 pre-orders now arriving to customers around the world - 9to5Mac\n",
            "https://news.google.com/__i/rss/rd/articles/CBMiQWh0dHBzOi8vOXRvNW1hYy5jb20vMjAyMS8wOS8yMy9pcGhvbmUtMTMtcHJlLW9yZGVycy1ub3ctYXJyaXZpbmcv0gFFaHR0cHM6Ly85dG81bWFjLmNvbS8yMDIxLzA5LzIzL2lwaG9uZS0xMy1wcmUtb3JkZXJzLW5vdy1hcnJpdmluZy9hbXAv?oc=5\n",
            "Thu, 23 Sep 2021 21:45:00 GMT\n",
            "------------------------------------------------------------\n",
            "Smallest-Ever Human-Made Flying Structure Is A Winged Microchip, Scientists Say - NPR\n",
            "https://news.google.com/__i/rss/rd/articles/CBMiWWh0dHBzOi8vd3d3Lm5wci5vcmcvMjAyMS8wOS8yMy8xMDQwMDM1NDMwL2ZseWluZy1taWNyb2NoaXAtc2FuZC1ncmFpbi1ub3J0aHdlc3Rlcm4td2luZ2Vk0gEA?oc=5\n",
            "Thu, 23 Sep 2021 15:32:34 GMT\n",
            "------------------------------------------------------------\n",
            "Harry hits bar at $1,300-a-night NYC hotel for second night in a row but Meghan nowhere to be seen - Daily Mail\n",
            "https://news.google.com/__i/rss/rd/articles/CBMieGh0dHBzOi8vd3d3LmRhaWx5bWFpbC5jby51ay9uZXdzL2FydGljbGUtMTAwMjMwNTUvSGFycnktaGl0cy1iYXItMS0zMDAtbmlnaHQtTllDLWhvdGVsLXNlY29uZC1uaWdodC1yb3ctTWVnaGFuLXNlZW4uaHRtbNIBfGh0dHBzOi8vd3d3LmRhaWx5bWFpbC5jby51ay9uZXdzL2FydGljbGUtMTAwMjMwNTUvYW1wL0hhcnJ5LWhpdHMtYmFyLTEtMzAwLW5pZ2h0LU5ZQy1ob3RlbC1zZWNvbmQtbmlnaHQtcm93LU1lZ2hhbi1zZWVuLmh0bWw?oc=5\n",
            "Thu, 23 Sep 2021 23:28:38 GMT\n",
            "------------------------------------------------------------\n",
            "Willie Garson's cause of death confirmed - Fox News\n",
            "https://news.google.com/__i/rss/rd/articles/CBMiTGh0dHBzOi8vd3d3LmZveG5ld3MuY29tL2VudGVydGFpbm1lbnQvd2lsbGllLWdhcnNvbi1jYXVzZS1vZi1kZWF0aC1jb25maXJtZWTSAVBodHRwczovL3d3dy5mb3huZXdzLmNvbS9lbnRlcnRhaW5tZW50L3dpbGxpZS1nYXJzb24tY2F1c2Utb2YtZGVhdGgtY29uZmlybWVkLmFtcA?oc=5\n",
            "Thu, 23 Sep 2021 21:24:53 GMT\n",
            "------------------------------------------------------------\n",
            "Foundation: Dark Knight writer David Goyer explains 4 key things to know - Polygon\n",
            "https://news.google.com/__i/rss/rd/articles/CBMiXWh0dHBzOi8vd3d3LnBvbHlnb24uY29tLzIyNjg5NzM1L2ZvdW5kYXRpb24tYXBwbGUtdHYtZXBpc29kZXMtOC1zZWFzb25zLWRhdmlkLWdveWVyLWludGVydmlld9IBamh0dHBzOi8vd3d3LnBvbHlnb24uY29tL3BsYXRmb3JtL2FtcC8yMjY4OTczNS9mb3VuZGF0aW9uLWFwcGxlLXR2LWVwaXNvZGVzLTgtc2Vhc29ucy1kYXZpZC1nb3llci1pbnRlcnZpZXc?oc=5\n",
            "Thu, 23 Sep 2021 19:00:00 GMT\n",
            "------------------------------------------------------------\n",
            "Carole Baskin Slams ‘Tiger King 2’ After Netflix Releases Sequel Teaser - Hollywood Reporter\n",
            "https://news.google.com/__i/rss/rd/articles/CBMiU2h0dHBzOi8vd3d3LmhvbGx5d29vZHJlcG9ydGVyLmNvbS90di90di1uZXdzL3RpZ2VyLWtpbmctMi1jYXJvbGUtYmFza2luLTEyMzUwMTk1MDgv0gFXaHR0cHM6Ly93d3cuaG9sbHl3b29kcmVwb3J0ZXIuY29tL3R2L3R2LW5ld3MvdGlnZXIta2luZy0yLWNhcm9sZS1iYXNraW4tMTIzNTAxOTUwOC9hbXAv?oc=5\n",
            "Thu, 23 Sep 2021 18:46:42 GMT\n",
            "------------------------------------------------------------\n",
            "Texans vs. Panthers Prop Picks: Bet On A Terrace Marshall Breakout On Thursday Night Football? - The Action Network\n",
            "https://news.google.com/__i/rss/rd/articles/CBMifGh0dHBzOi8vd3d3LmFjdGlvbm5ldHdvcmsuY29tL25mbC9wYW50aGVycy12cy10ZXhhbnMtcHJvcHMtdG8tYmV0LXRlcnJhY2UtbWFyc2hhbGwtY291bGQtYnJlYWtvdXQtb24tdGh1cnNkYXktbmlnaHQtZm9vdGJhbGzSAYABaHR0cHM6Ly93d3cuYWN0aW9ubmV0d29yay5jb20vbmZsL3BhbnRoZXJzLXZzLXRleGFucy1wcm9wcy10by1iZXQtdGVycmFjZS1tYXJzaGFsbC1jb3VsZC1icmVha291dC1vbi10aHVyc2RheS1uaWdodC1mb290YmFsbC9hbXA?oc=5\n",
            "Thu, 23 Sep 2021 21:55:00 GMT\n",
            "------------------------------------------------------------\n",
            "NFL Week 3 picks, odds: Eagles upset Cowboys, Bucs topple Rams, Dolphins surprise Raiders - CBS Sports\n",
            "https://news.google.com/__i/rss/rd/articles/CBMieWh0dHBzOi8vd3d3LmNic3Nwb3J0cy5jb20vbmZsL25ld3MvbmZsLXdlZWstMy1waWNrcy1vZGRzLWVhZ2xlcy11cHNldC1jb3dib3lzLWJ1Y3MtdG9wcGxlLXJhbXMtZG9scGhpbnMtc3VycHJpc2UtcmFpZGVycy_SAX1odHRwczovL3d3dy5jYnNzcG9ydHMuY29tL25mbC9uZXdzL25mbC13ZWVrLTMtcGlja3Mtb2Rkcy1lYWdsZXMtdXBzZXQtY293Ym95cy1idWNzLXRvcHBsZS1yYW1zLWRvbHBoaW5zLXN1cnByaXNlLXJhaWRlcnMvYW1wLw?oc=5\n",
            "Thu, 23 Sep 2021 19:55:00 GMT\n",
            "------------------------------------------------------------\n",
            "Justin Thomas, Jordan Spieth to open Ryder Cup vs. Jon Rahm, Sergio Garcia - ESPN\n",
            "https://news.google.com/__i/rss/rd/articles/CBMicmh0dHBzOi8vd3d3LmVzcG4uY29tL2dvbGYvc3RvcnkvXy9pZC8zMjI2NTI0Ni9qdXN0aW4tdGhvbWFzLWpvcmRhbi1zcGlldGgtb3Blbi1yeWRlci1jdXAtdnMtam9uLXJhaG0tc2VyZ2lvLWdhcmNpYdIBf2h0dHBzOi8vd3d3LmVzcG4uY29tL2dvbGYvc3RvcnkvXy9pZC8zMjI2NTI0Ni9qdXN0aW4tdGhvbWFzLWpvcmRhbi1zcGlldGgtb3Blbi1yeWRlci1jdXAtdnMtam9uLXJhaG0tc2VyZ2lvLWdhcmNpYT9wbGF0Zm9ybT1hbXA?oc=5\n",
            "Thu, 23 Sep 2021 22:34:14 GMT\n",
            "------------------------------------------------------------\n",
            "Timberwolves' toxic office environment, interoffice relationship led to Gersson Rosas' firing - USA TODAY\n",
            "https://news.google.com/__i/rss/rd/articles/CBMiiwFodHRwczovL3d3dy51c2F0b2RheS5jb20vc3Rvcnkvc3BvcnRzL25iYS90d29sdmVzLzIwMjEvMDkvMjMvdHdvbHZlcy1maXJlZC1nZXJzc29uLXJvc2FzLXRveGljLWN1bHR1cmUtaW50ZXJvZmZpY2UtcmVsYXRpb25zaGlwLzU4Mjg0ODUwMDEv0gEnaHR0cHM6Ly9hbXAudXNhdG9kYXkuY29tL2FtcC81ODI4NDg1MDAx?oc=5\n",
            "Thu, 23 Sep 2021 18:00:00 GMT\n",
            "------------------------------------------------------------\n",
            "A New NASA Telescope Will Scour Distant Solar Systems For Signs Of Life - NPR\n",
            "https://news.google.com/__i/rss/rd/articles/CBMiRWh0dHBzOi8vd3d3Lm5wci5vcmcvMjAyMS8wOS8yMy8xMDM5OTE1MTQ1L25hc2EtbGlmZS1wbGFuZXRzLXRlbGVzY29wZdIBAA?oc=5\n",
            "Thu, 23 Sep 2021 19:31:00 GMT\n",
            "------------------------------------------------------------\n",
            "NASA's InSight lander detects 90-minute Mars quake, its first big ones - Business Insider\n",
            "https://news.google.com/__i/rss/rd/articles/CBMiUmh0dHBzOi8vd3d3LmJ1c2luZXNzaW5zaWRlci5jb20vbmFzYS1pbnNpZ2h0LWxhbmRlci1kZXRlY3RzLWJpZy1tYXJzLXF1YWtlcy0yMDIxLTnSAVZodHRwczovL3d3dy5idXNpbmVzc2luc2lkZXIuY29tL25hc2EtaW5zaWdodC1sYW5kZXItZGV0ZWN0cy1iaWctbWFycy1xdWFrZXMtMjAyMS05P2FtcA?oc=5\n",
            "Thu, 23 Sep 2021 22:42:24 GMT\n",
            "------------------------------------------------------------\n",
            "These 3 Seattle scientists study the coronavirus. Now they’re getting millions to chase their ‘wildest scientific ideas’ - The Seattle Times\n",
            "https://news.google.com/__i/rss/rd/articles/CBMinwFodHRwczovL3d3dy5zZWF0dGxldGltZXMuY29tL3NlYXR0bGUtbmV3cy90aGVzZS0zLXNlYXR0bGUtc2NpZW50aXN0cy1zdHVkeS10aGUtY29yb25hdmlydXMtbm93LXRoZXlyZS1nZXR0aW5nLW1pbGxpb25zLXRvLWNoYXNlLXRoZWlyLXdpbGRlc3Qtc2NpZW50aWZpYy1pZGVhcy_SAQA?oc=5\n",
            "Thu, 23 Sep 2021 13:00:00 GMT\n",
            "------------------------------------------------------------\n",
            "Carbon dioxide reactor makes Martian fuel - Phys.org\n",
            "https://news.google.com/__i/rss/rd/articles/CBMiRmh0dHBzOi8vcGh5cy5vcmcvbmV3cy8yMDIxLTA5LWNhcmJvbi1kaW94aWRlLXJlYWN0b3ItbWFydGlhbi1mdWVsLmh0bWzSAUVodHRwczovL3BoeXMub3JnL25ld3MvMjAyMS0wOS1jYXJib24tZGlveGlkZS1yZWFjdG9yLW1hcnRpYW4tZnVlbC5hbXA?oc=5\n",
            "Thu, 23 Sep 2021 17:04:19 GMT\n",
            "------------------------------------------------------------\n",
            "Man punches nurse in the face multiple times after his wife is vaccinated for Covid - CNN\n",
            "https://news.google.com/__i/rss/rd/articles/CBMiWmh0dHBzOi8vd3d3LmNubi5jb20vMjAyMS8wOS8yMy9hbWVyaWNhcy9jb3ZpZC12YWNjaW5lLWFzc2F1bHQtbnVyc2UtY2FuYWRhLXRybmQvaW5kZXguaHRtbNIBXmh0dHBzOi8vYW1wLmNubi5jb20vY25uLzIwMjEvMDkvMjMvYW1lcmljYXMvY292aWQtdmFjY2luZS1hc3NhdWx0LW51cnNlLWNhbmFkYS10cm5kL2luZGV4Lmh0bWw?oc=5\n",
            "Thu, 23 Sep 2021 20:18:00 GMT\n",
            "------------------------------------------------------------\n",
            "Nearly 1600 new COVID-19 cases reported in Utah Thursday, 19 deaths - KSL.com\n",
            "https://news.google.com/__i/rss/rd/articles/CBMiZ2h0dHBzOi8vd3d3LmtzbC5jb20vYXJ0aWNsZS81MDI0Nzk0My9uZWFybHktMTYwMC1uZXctY292aWQtMTktY2FzZXMtcmVwb3J0ZWQtaW4tdXRhaC10aHVyc2RheS0xOS1kZWF0aHPSAQA?oc=5\n",
            "Thu, 23 Sep 2021 19:54:14 GMT\n",
            "------------------------------------------------------------\n",
            "4 major Minnesota hospitals reveal how many COVID-19 patients are fully vaccinated, unvaccinated - Bring Me The News\n",
            "https://news.google.com/__i/rss/rd/articles/CBMiiQFodHRwczovL2JyaW5nbWV0aGVuZXdzLmNvbS9taW5uZXNvdGEtbmV3cy8zLW1ham9yLW1pbm5lc290YS1ob3NwaXRhbHMtcmV2ZWFsLWhvdy1tYW55LWNvdmlkLTE5LXBhdGllbnRzLWFyZS1mdWxseS12YWNjaW5hdGVkLXVudmFjY2luYXRlZNIBjgFodHRwczovL2JyaW5nbWV0aGVuZXdzLmNvbS8uYW1wL21pbm5lc290YS1uZXdzLzMtbWFqb3ItbWlubmVzb3RhLWhvc3BpdGFscy1yZXZlYWwtaG93LW1hbnktY292aWQtMTktcGF0aWVudHMtYXJlLWZ1bGx5LXZhY2NpbmF0ZWQtdW52YWNjaW5hdGVk?oc=5\n",
            "Thu, 23 Sep 2021 18:42:20 GMT\n",
            "------------------------------------------------------------\n",
            "Is the R.1 variant in the Bay Area? What to know about the highly mutated COVID strain - San Francisco Chronicle\n",
            "https://news.google.com/__i/rss/rd/articles/CBMiZ2h0dHBzOi8vd3d3LnNmY2hyb25pY2xlLmNvbS9oZWFsdGgvYXJ0aWNsZS9Jcy10aGUtUi0xLXZhcmlhbnQtaW4tdGhlLUJheS1BcmVhLVdoYXQtdG8ta25vdy0xNjQ4MzE4NS5waHDSAQA?oc=5\n",
            "Thu, 23 Sep 2021 23:03:32 GMT\n",
            "------------------------------------------------------------\n"
          ]
        }
      ]
    },
    {
      "cell_type": "code",
      "metadata": {
        "colab": {
          "base_uri": "https://localhost:8080/"
        },
        "id": "tnArEWZXd-nF",
        "outputId": "37a5d0ba-32d3-490b-89bd-d6c50c3cd7e1"
      },
      "source": [
        "#0- Cai dat\n",
        "!pip install pymysql\n",
        "!pip install mysql-connector-python\n",
        "\n",
        "#Thong tin ve He quan tri CSDL\n",
        "import sqlalchemy\n",
        "print(sqlalchemy.__version__)\n"
      ],
      "execution_count": 31,
      "outputs": [
        {
          "output_type": "stream",
          "name": "stdout",
          "text": [
            "Collecting pymysql\n",
            "  Downloading PyMySQL-1.0.2-py3-none-any.whl (43 kB)\n",
            "\u001b[?25l\r\u001b[K     |███████▌                        | 10 kB 26.5 MB/s eta 0:00:01\r\u001b[K     |███████████████                 | 20 kB 28.1 MB/s eta 0:00:01\r\u001b[K     |██████████████████████▍         | 30 kB 31.7 MB/s eta 0:00:01\r\u001b[K     |██████████████████████████████  | 40 kB 35.6 MB/s eta 0:00:01\r\u001b[K     |████████████████████████████████| 43 kB 1.9 MB/s \n",
            "\u001b[?25hInstalling collected packages: pymysql\n",
            "Successfully installed pymysql-1.0.2\n",
            "Collecting mysql-connector-python\n",
            "  Downloading mysql_connector_python-8.0.26-cp37-cp37m-manylinux1_x86_64.whl (30.9 MB)\n",
            "\u001b[K     |████████████████████████████████| 30.9 MB 83 kB/s \n",
            "\u001b[?25hRequirement already satisfied: protobuf>=3.0.0 in /usr/local/lib/python3.7/dist-packages (from mysql-connector-python) (3.17.3)\n",
            "Requirement already satisfied: six>=1.9 in /usr/local/lib/python3.7/dist-packages (from protobuf>=3.0.0->mysql-connector-python) (1.15.0)\n",
            "Installing collected packages: mysql-connector-python\n",
            "Successfully installed mysql-connector-python-8.0.26\n",
            "1.4.23\n"
          ]
        }
      ]
    },
    {
      "cell_type": "code",
      "metadata": {
        "colab": {
          "base_uri": "https://localhost:8080/"
        },
        "id": "b0iixAVBe-Ht",
        "outputId": "f3ce3436-0aca-417e-bbd7-d9b7ee52037c"
      },
      "source": [
        "#1- Ket noi\n",
        "from sqlalchemy import create_engine\n",
        "engine = create_engine('sqlite:///:memory:', echo=True)\n",
        "\n",
        "#2-Define and Create Tables\n",
        "from sqlalchemy import Table, Column, Integer, String, MetaData, ForeignKey\n",
        "metadata = MetaData()\n",
        "users = Table('users', metadata,\n",
        "    Column('id', Integer, primary_key=True),\n",
        "    Column('name', String),\n",
        "    Column('fullname', String),\n",
        ")\n",
        "addresses = Table('addresses', metadata,\n",
        "  Column('id', Integer, primary_key=True),\n",
        "  Column('user_id', None, ForeignKey('users.id')),\n",
        "  Column('email_address', String, nullable=False))\n",
        "metadata.create_all(engine)"
      ],
      "execution_count": 41,
      "outputs": [
        {
          "output_type": "stream",
          "name": "stdout",
          "text": [
            "2021-09-24 02:00:05,134 INFO sqlalchemy.engine.Engine BEGIN (implicit)\n",
            "2021-09-24 02:00:05,138 INFO sqlalchemy.engine.Engine PRAGMA main.table_info(\"users\")\n",
            "2021-09-24 02:00:05,141 INFO sqlalchemy.engine.Engine [raw sql] ()\n",
            "2021-09-24 02:00:05,144 INFO sqlalchemy.engine.Engine PRAGMA temp.table_info(\"users\")\n",
            "2021-09-24 02:00:05,147 INFO sqlalchemy.engine.Engine [raw sql] ()\n",
            "2021-09-24 02:00:05,150 INFO sqlalchemy.engine.Engine PRAGMA main.table_info(\"addresses\")\n",
            "2021-09-24 02:00:05,153 INFO sqlalchemy.engine.Engine [raw sql] ()\n",
            "2021-09-24 02:00:05,154 INFO sqlalchemy.engine.Engine PRAGMA temp.table_info(\"addresses\")\n",
            "2021-09-24 02:00:05,156 INFO sqlalchemy.engine.Engine [raw sql] ()\n",
            "2021-09-24 02:00:05,158 INFO sqlalchemy.engine.Engine \n",
            "CREATE TABLE users (\n",
            "\tid INTEGER NOT NULL, \n",
            "\tname VARCHAR, \n",
            "\tfullname VARCHAR, \n",
            "\tPRIMARY KEY (id)\n",
            ")\n",
            "\n",
            "\n",
            "2021-09-24 02:00:05,162 INFO sqlalchemy.engine.Engine [no key 0.00359s] ()\n",
            "2021-09-24 02:00:05,164 INFO sqlalchemy.engine.Engine \n",
            "CREATE TABLE addresses (\n",
            "\tid INTEGER NOT NULL, \n",
            "\tuser_id INTEGER, \n",
            "\temail_address VARCHAR NOT NULL, \n",
            "\tPRIMARY KEY (id), \n",
            "\tFOREIGN KEY(user_id) REFERENCES users (id)\n",
            ")\n",
            "\n",
            "\n",
            "2021-09-24 02:00:05,166 INFO sqlalchemy.engine.Engine [no key 0.00179s] ()\n",
            "2021-09-24 02:00:05,168 INFO sqlalchemy.engine.Engine COMMIT\n"
          ]
        }
      ]
    },
    {
      "cell_type": "code",
      "metadata": {
        "colab": {
          "base_uri": "https://localhost:8080/"
        },
        "id": "gQRhOg18fCxB",
        "outputId": "8246b719-fa43-433f-94cf-1f8fb0a0193c"
      },
      "source": [
        "#3- Insert Expressions\n",
        "ins = users.insert().values(name='jack', fullname='Jack Jones')\n",
        "print(str(ins))\n",
        "print(ins.compile().params)\n",
        "\n",
        "\n",
        "conn = engine.connect()\n",
        "result = conn.execute(ins)\n",
        "print(result)\n",
        "\n",
        "ins.bind = engine\n",
        "print(str(ins))\n",
        "print(result.inserted_primary_key)"
      ],
      "execution_count": 42,
      "outputs": [
        {
          "output_type": "stream",
          "name": "stdout",
          "text": [
            "INSERT INTO users (name, fullname) VALUES (:name, :fullname)\n",
            "{'name': 'jack', 'fullname': 'Jack Jones'}\n",
            "2021-09-24 02:00:07,923 INFO sqlalchemy.engine.Engine INSERT INTO users (name, fullname) VALUES (?, ?)\n",
            "2021-09-24 02:00:07,925 INFO sqlalchemy.engine.Engine [generated in 0.00168s] ('jack', 'Jack Jones')\n",
            "2021-09-24 02:00:07,929 INFO sqlalchemy.engine.Engine COMMIT\n",
            "<sqlalchemy.engine.cursor.LegacyCursorResult object at 0x7fdb863a3b90>\n",
            "INSERT INTO users (name, fullname) VALUES (?, ?)\n",
            "(1,)\n"
          ]
        }
      ]
    },
    {
      "cell_type": "code",
      "metadata": {
        "colab": {
          "base_uri": "https://localhost:8080/"
        },
        "id": "VZrDgVYug__S",
        "outputId": "3b347802-fb46-4d5b-8a60-03ea8acf141c"
      },
      "source": [
        "##4- Executing Multiple Statements\n",
        "ins = users.insert()\n",
        "conn.execute(ins, id=2, name='wendy', fullname='Wendy Williams')\n",
        "conn.execute(addresses.insert(), [\n",
        "{'user_id': 1, 'email_address' : 'jack@yahoo.com'},\n",
        "   {'user_id': 1, 'email_address' : 'jack@msn.com'},\n",
        "   {'user_id': 2, 'email_address' : 'www@www.org'},\n",
        "   {'user_id': 2, 'email_address' : 'wendy@aol.com'},\n",
        "])"
      ],
      "execution_count": 43,
      "outputs": [
        {
          "output_type": "stream",
          "name": "stdout",
          "text": [
            "2021-09-24 02:00:10,387 INFO sqlalchemy.engine.Engine INSERT INTO users (id, name, fullname) VALUES (?, ?, ?)\n",
            "2021-09-24 02:00:10,390 INFO sqlalchemy.engine.Engine [generated in 0.00296s] (2, 'wendy', 'Wendy Williams')\n",
            "2021-09-24 02:00:10,394 INFO sqlalchemy.engine.Engine COMMIT\n",
            "2021-09-24 02:00:10,397 INFO sqlalchemy.engine.Engine INSERT INTO addresses (user_id, email_address) VALUES (?, ?)\n",
            "2021-09-24 02:00:10,399 INFO sqlalchemy.engine.Engine [generated in 0.00190s] ((1, 'jack@yahoo.com'), (1, 'jack@msn.com'), (2, 'www@www.org'), (2, 'wendy@aol.com'))\n",
            "2021-09-24 02:00:10,401 INFO sqlalchemy.engine.Engine COMMIT\n"
          ]
        },
        {
          "output_type": "execute_result",
          "data": {
            "text/plain": [
              "<sqlalchemy.engine.cursor.LegacyCursorResult at 0x7fdb863be410>"
            ]
          },
          "metadata": {},
          "execution_count": 43
        }
      ]
    },
    {
      "cell_type": "code",
      "metadata": {
        "colab": {
          "base_uri": "https://localhost:8080/"
        },
        "id": "3MOQpvN0hy4w",
        "outputId": "eb049e93-caf9-4b29-9495-aca15c38b9ac"
      },
      "source": [
        "#5- Selecting\n",
        "from sqlalchemy.sql import select\n",
        "s = select([users])\n",
        "result = conn.execute(s)\n",
        "print(result)"
      ],
      "execution_count": 44,
      "outputs": [
        {
          "output_type": "stream",
          "name": "stdout",
          "text": [
            "2021-09-24 02:00:13,582 INFO sqlalchemy.engine.Engine SELECT users.id, users.name, users.fullname \n",
            "FROM users\n",
            "2021-09-24 02:00:13,586 INFO sqlalchemy.engine.Engine [generated in 0.00401s] ()\n",
            "<sqlalchemy.engine.cursor.LegacyCursorResult object at 0x7fdb86354690>\n"
          ]
        }
      ]
    },
    {
      "cell_type": "code",
      "metadata": {
        "colab": {
          "base_uri": "https://localhost:8080/"
        },
        "id": "GoTCa1E6iZKv",
        "outputId": "44e98a5c-04d7-45c0-c3f5-b69443729df4"
      },
      "source": [
        "result = conn.execute(s)\n",
        "row = result.fetchone()\n",
        "print(\"name:\", row['name'], \"; fullname:\", row['fullname'])\n",
        "\n",
        "row = result.fetchone()\n",
        "print(\"name:\", row[1], \"; fullname:\", row[2])"
      ],
      "execution_count": 45,
      "outputs": [
        {
          "output_type": "stream",
          "name": "stdout",
          "text": [
            "2021-09-24 02:01:54,485 INFO sqlalchemy.engine.Engine SELECT users.id, users.name, users.fullname \n",
            "FROM users\n",
            "2021-09-24 02:01:54,488 INFO sqlalchemy.engine.Engine [cached since 100.9s ago] ()\n",
            "name: jack ; fullname: Jack Jones\n",
            "name: wendy ; fullname: Wendy Williams\n"
          ]
        }
      ]
    },
    {
      "cell_type": "code",
      "metadata": {
        "colab": {
          "base_uri": "https://localhost:8080/"
        },
        "id": "y-JlXhT5ijSM",
        "outputId": "f719ad14-393b-4bfb-ab98-7592a0bd3942"
      },
      "source": [
        "for row in conn.execute(s):\n",
        "    print(\"name:\", row[users.c.name], \"; fullname:\", row[users.c.fullname])"
      ],
      "execution_count": 46,
      "outputs": [
        {
          "output_type": "stream",
          "name": "stdout",
          "text": [
            "2021-09-24 02:02:33,655 INFO sqlalchemy.engine.Engine SELECT users.id, users.name, users.fullname \n",
            "FROM users\n",
            "2021-09-24 02:02:33,658 INFO sqlalchemy.engine.Engine [cached since 140.1s ago] ()\n",
            "name: jack ; fullname: Jack Jones\n",
            "name: wendy ; fullname: Wendy Williams\n"
          ]
        }
      ]
    },
    {
      "cell_type": "code",
      "metadata": {
        "colab": {
          "base_uri": "https://localhost:8080/"
        },
        "id": "UEwt1Gekiyb_",
        "outputId": "ff772f4a-4fbe-42ea-9b00-e11f1ff1bf19"
      },
      "source": [
        "#6- Selecting Specific Columns\n",
        "s = select([users.c.name, users.c.fullname])\n",
        "result = conn.execute(s)\n",
        "for row in result:\n",
        "    print(row)\n",
        "for row in conn.execute(select([users, addresses])):\n",
        "    print(row)\n",
        "\n",
        "\n",
        "s = select([users, addresses]).where(users.c.id == addresses.c.user_id)\n",
        "for row in conn.execute(s):\n",
        "    print(row)"
      ],
      "execution_count": 48,
      "outputs": [
        {
          "output_type": "stream",
          "name": "stdout",
          "text": [
            "2021-09-24 02:04:03,017 INFO sqlalchemy.engine.Engine SELECT users.name, users.fullname \n",
            "FROM users\n",
            "2021-09-24 02:04:03,025 INFO sqlalchemy.engine.Engine [cached since 23.82s ago] ()\n",
            "('jack', 'Jack Jones')\n",
            "('wendy', 'Wendy Williams')\n",
            "2021-09-24 02:04:03,035 INFO sqlalchemy.engine.Engine SELECT users.id, users.name, users.fullname, addresses.id AS id_1, addresses.user_id, addresses.email_address \n",
            "FROM users, addresses\n",
            "2021-09-24 02:04:03,037 INFO sqlalchemy.engine.Engine [generated in 0.00242s] ()\n",
            "(1, 'jack', 'Jack Jones', 1, 1, 'jack@yahoo.com')\n",
            "(1, 'jack', 'Jack Jones', 2, 1, 'jack@msn.com')\n",
            "(1, 'jack', 'Jack Jones', 3, 2, 'www@www.org')\n",
            "(1, 'jack', 'Jack Jones', 4, 2, 'wendy@aol.com')\n",
            "(2, 'wendy', 'Wendy Williams', 1, 1, 'jack@yahoo.com')\n",
            "(2, 'wendy', 'Wendy Williams', 2, 1, 'jack@msn.com')\n",
            "(2, 'wendy', 'Wendy Williams', 3, 2, 'www@www.org')\n",
            "(2, 'wendy', 'Wendy Williams', 4, 2, 'wendy@aol.com')\n",
            "2021-09-24 02:04:03,045 INFO sqlalchemy.engine.Engine SELECT users.id, users.name, users.fullname, addresses.id AS id_1, addresses.user_id, addresses.email_address \n",
            "FROM users, addresses \n",
            "WHERE users.id = addresses.user_id\n",
            "2021-09-24 02:04:03,046 INFO sqlalchemy.engine.Engine [generated in 0.00151s] ()\n",
            "(1, 'jack', 'Jack Jones', 1, 1, 'jack@yahoo.com')\n",
            "(1, 'jack', 'Jack Jones', 2, 1, 'jack@msn.com')\n",
            "(2, 'wendy', 'Wendy Williams', 3, 2, 'www@www.org')\n",
            "(2, 'wendy', 'Wendy Williams', 4, 2, 'wendy@aol.com')\n"
          ]
        },
        {
          "output_type": "stream",
          "name": "stderr",
          "text": [
            "/usr/local/lib/python3.7/dist-packages/ipykernel_launcher.py:6: SAWarning: SELECT statement has a cartesian product between FROM element(s) \"users\" and FROM element \"addresses\".  Apply join condition(s) between each element to resolve.\n",
            "  \n"
          ]
        }
      ]
    },
    {
      "cell_type": "code",
      "metadata": {
        "colab": {
          "base_uri": "https://localhost:8080/"
        },
        "id": "PqHhOs4XjRcV",
        "outputId": "084d2af5-6839-41a2-9658-42a09939043d"
      },
      "source": [
        "#7- Operators\n",
        "users.c.id == addresses.c.user_id\n",
        "\n",
        "print(users.c.id == addresses.c.user_id)\n",
        "\n",
        "print(users.c.id == 7)\n",
        "\n",
        "(users.c.id == 7).compile().params\n",
        "\n",
        "print(users.c.id != 7)\n",
        "\n",
        "print(users.c.name == None)\n",
        "\n",
        "print('fred' > users.c.name)\n",
        "print(users.c.id + addresses.c.id)\n",
        "\n",
        "print(users.c.name + users.c.fullname)"
      ],
      "execution_count": 49,
      "outputs": [
        {
          "output_type": "stream",
          "name": "stdout",
          "text": [
            "users.id = addresses.user_id\n",
            "users.id = :id_1\n",
            "users.id != :id_1\n",
            "users.name IS NULL\n",
            "users.name < :name_1\n",
            "users.id + addresses.id\n",
            "users.name || users.fullname\n"
          ]
        }
      ]
    },
    {
      "cell_type": "code",
      "metadata": {
        "colab": {
          "base_uri": "https://localhost:8080/"
        },
        "id": "bq6_MnEFjVpb",
        "outputId": "1e567212-78a0-4313-919a-d3914f698567"
      },
      "source": [
        "from sqlalchemy.sql import and_, or_, not_\n",
        "print(and_(\n",
        "         users.c.name.like('j%'),\n",
        "         users.c.id == addresses.c.user_id,\n",
        "         or_(\n",
        "              addresses.c.email_address == 'wendy@aol.com',\n",
        "              addresses.c.email_address == 'jack@yahoo.com'\n",
        "         ),\n",
        "         not_(users.c.id > 5)\n",
        "       )\n",
        "  )\n",
        "print(users.c.name.like('j%') & (users.c.id == addresses.c.user_id) &\n",
        "     (\n",
        "       (addresses.c.email_address == 'wendy@aol.com') | \\\n",
        "       (addresses.c.email_address == 'jack@yahoo.com')\n",
        "     ) \\\n",
        "     & ~(users.c.id>5)\n",
        " )"
      ],
      "execution_count": 51,
      "outputs": [
        {
          "output_type": "stream",
          "name": "stdout",
          "text": [
            "users.name LIKE :name_1 AND users.id = addresses.user_id AND (addresses.email_address = :email_address_1 OR addresses.email_address = :email_address_2) AND users.id <= :id_1\n",
            "users.name LIKE :name_1 AND users.id = addresses.user_id AND (addresses.email_address = :email_address_1 OR addresses.email_address = :email_address_2) AND users.id <= :id_1\n"
          ]
        }
      ]
    },
    {
      "cell_type": "code",
      "metadata": {
        "colab": {
          "base_uri": "https://localhost:8080/"
        },
        "id": "bBuf81KBjrlE",
        "outputId": "74d1823e-9207-4dc5-80eb-b2d0278a7afd"
      },
      "source": [
        "s = select([(users.c.fullname +\n",
        "               \", \" + addresses.c.email_address).\n",
        "                label('title')]).\\\n",
        "        where(\n",
        "           and_(\n",
        "               users.c.id == addresses.c.user_id,\n",
        "               users.c.name.between('m', 'z'),\n",
        "               or_(\n",
        "                  addresses.c.email_address.like('%@aol.com'),\n",
        "                  addresses.c.email_address.like('%@msn.com')\n",
        "               )\n",
        "           )\n",
        "        )\n",
        "conn.execute(s).fetchall()"
      ],
      "execution_count": 52,
      "outputs": [
        {
          "output_type": "stream",
          "name": "stdout",
          "text": [
            "2021-09-24 02:07:29,911 INFO sqlalchemy.engine.Engine SELECT users.fullname || ? || addresses.email_address AS title \n",
            "FROM users, addresses \n",
            "WHERE users.id = addresses.user_id AND users.name BETWEEN ? AND ? AND (addresses.email_address LIKE ? OR addresses.email_address LIKE ?)\n",
            "2021-09-24 02:07:29,918 INFO sqlalchemy.engine.Engine [generated in 0.00151s] (', ', 'm', 'z', '%@aol.com', '%@msn.com')\n"
          ]
        },
        {
          "output_type": "execute_result",
          "data": {
            "text/plain": [
              "[('Wendy Williams, wendy@aol.com',)]"
            ]
          },
          "metadata": {},
          "execution_count": 52
        }
      ]
    },
    {
      "cell_type": "code",
      "metadata": {
        "colab": {
          "base_uri": "https://localhost:8080/"
        },
        "id": "QNcmGr3Bjw4w",
        "outputId": "3f80f4b7-70b8-4727-ebc5-d71c531744f6"
      },
      "source": [
        "s = select([(users.c.fullname +\n",
        "               \", \" + addresses.c.email_address).\n",
        "                label('title')]).\\\n",
        "        where(users.c.id == addresses.c.user_id).\\\n",
        "        where(users.c.name.between('m', 'z')).\\\n",
        "        where(\n",
        "               or_(\n",
        "                  addresses.c.email_address.like('%@aol.com'),\n",
        "                  addresses.c.email_address.like('%@msn.com')\n",
        "               )\n",
        "       )\n",
        "conn.execute(s).fetchall()"
      ],
      "execution_count": 55,
      "outputs": [
        {
          "output_type": "stream",
          "name": "stdout",
          "text": [
            "2021-09-24 02:08:31,634 INFO sqlalchemy.engine.Engine SELECT users.fullname || ? || addresses.email_address AS title \n",
            "FROM users, addresses \n",
            "WHERE users.id = addresses.user_id AND users.name BETWEEN ? AND ? AND (addresses.email_address LIKE ? OR addresses.email_address LIKE ?)\n",
            "2021-09-24 02:08:31,637 INFO sqlalchemy.engine.Engine [cached since 30.02s ago] (', ', 'm', 'z', '%@aol.com', '%@msn.com')\n"
          ]
        },
        {
          "output_type": "execute_result",
          "data": {
            "text/plain": [
              "[('Wendy Williams, wendy@aol.com',)]"
            ]
          },
          "metadata": {},
          "execution_count": 55
        }
      ]
    },
    {
      "cell_type": "code",
      "metadata": {
        "colab": {
          "base_uri": "https://localhost:8080/"
        },
        "id": "Mx-y4XeYkGPv",
        "outputId": "0e5dc086-3db6-4b52-cd1e-bac676d6553e"
      },
      "source": [
        "#8-Using Textual SQL\n",
        "from sqlalchemy.sql import text\n",
        "s = text(\n",
        "     \"SELECT users.fullname || ', ' || addresses.email_address AS title \"\n",
        "         \"FROM users, addresses \"\n",
        "         \"WHERE users.id = addresses.user_id \"\n",
        "         \"AND users.name BETWEEN :x AND :y \"\n",
        "         \"AND (addresses.email_address LIKE :e1 \"\n",
        "             \"OR addresses.email_address LIKE :e2)\")\n",
        "conn.execute(s, x='m', y='z', e1='%@aol.com', e2='%@msn.com').fetchall()"
      ],
      "execution_count": 56,
      "outputs": [
        {
          "output_type": "stream",
          "name": "stdout",
          "text": [
            "2021-09-24 02:09:31,340 INFO sqlalchemy.engine.Engine SELECT users.fullname || ', ' || addresses.email_address AS title FROM users, addresses WHERE users.id = addresses.user_id AND users.name BETWEEN ? AND ? AND (addresses.email_address LIKE ? OR addresses.email_address LIKE ?)\n",
            "2021-09-24 02:09:31,343 INFO sqlalchemy.engine.Engine [generated in 0.00303s] ('m', 'z', '%@aol.com', '%@msn.com')\n"
          ]
        },
        {
          "output_type": "execute_result",
          "data": {
            "text/plain": [
              "[('Wendy Williams, wendy@aol.com',)]"
            ]
          },
          "metadata": {},
          "execution_count": 56
        }
      ]
    },
    {
      "cell_type": "code",
      "metadata": {
        "colab": {
          "base_uri": "https://localhost:8080/"
        },
        "id": "QBGpoFeAkKOd",
        "outputId": "7a3dac08-4eb9-4779-bc04-a19b0742aa52"
      },
      "source": [
        "#Ordering or Grouping by a Label\n",
        "from sqlalchemy import func\n",
        "stmt = select([\n",
        "        addresses.c.user_id,\n",
        "        func.count(addresses.c.id).label('num_addresses')]).\\\n",
        "        group_by(\"user_id\").order_by(\"user_id\", \"num_addresses\")\n",
        "\n",
        "conn.execute(stmt).fetchall()"
      ],
      "execution_count": 57,
      "outputs": [
        {
          "output_type": "stream",
          "name": "stdout",
          "text": [
            "2021-09-24 02:09:48,227 INFO sqlalchemy.engine.Engine SELECT addresses.user_id, count(addresses.id) AS num_addresses \n",
            "FROM addresses GROUP BY addresses.user_id ORDER BY addresses.user_id, num_addresses\n",
            "2021-09-24 02:09:48,230 INFO sqlalchemy.engine.Engine [generated in 0.00259s] ()\n"
          ]
        },
        {
          "output_type": "execute_result",
          "data": {
            "text/plain": [
              "[(1, 2), (2, 2)]"
            ]
          },
          "metadata": {},
          "execution_count": 57
        }
      ]
    },
    {
      "cell_type": "code",
      "metadata": {
        "colab": {
          "base_uri": "https://localhost:8080/"
        },
        "id": "SRQOhkmkkOYa",
        "outputId": "f11583cd-692f-44f4-9e83-827b869fee60"
      },
      "source": [
        "from sqlalchemy import func, desc\n",
        "stmt = select([\n",
        "        addresses.c.user_id,\n",
        "        func.count(addresses.c.id).label('num_addresses')]).\\\n",
        "        group_by(\"user_id\").order_by(\"user_id\", desc(\"num_addresses\"))\n",
        "\n",
        "conn.execute(stmt).fetchall()"
      ],
      "execution_count": 58,
      "outputs": [
        {
          "output_type": "stream",
          "name": "stdout",
          "text": [
            "2021-09-24 02:09:58,754 INFO sqlalchemy.engine.Engine SELECT addresses.user_id, count(addresses.id) AS num_addresses \n",
            "FROM addresses GROUP BY addresses.user_id ORDER BY addresses.user_id, num_addresses DESC\n",
            "2021-09-24 02:09:58,757 INFO sqlalchemy.engine.Engine [generated in 0.00308s] ()\n"
          ]
        },
        {
          "output_type": "execute_result",
          "data": {
            "text/plain": [
              "[(1, 2), (2, 2)]"
            ]
          },
          "metadata": {},
          "execution_count": 58
        }
      ]
    },
    {
      "cell_type": "code",
      "metadata": {
        "colab": {
          "base_uri": "https://localhost:8080/"
        },
        "id": "vi3oibL3kfvm",
        "outputId": "17e0d4af-36f9-4867-892d-192546708750"
      },
      "source": [
        "u1a, u1b = users.alias(), users.alias()\n",
        "stmt = select([u1a, u1b]).\\\n",
        "            where(u1a.c.name > u1b.c.name).\\\n",
        "            order_by(u1a.c.name)  # using \"name\" here would be ambiguous\n",
        "\n",
        "conn.execute(stmt).fetchall()"
      ],
      "execution_count": 59,
      "outputs": [
        {
          "output_type": "stream",
          "name": "stdout",
          "text": [
            "2021-09-24 02:11:03,567 INFO sqlalchemy.engine.Engine SELECT users_1.id, users_1.name, users_1.fullname, users_2.id AS id_1, users_2.name AS name_1, users_2.fullname AS fullname_1 \n",
            "FROM users AS users_1, users AS users_2 \n",
            "WHERE users_1.name > users_2.name ORDER BY users_1.name\n",
            "2021-09-24 02:11:03,568 INFO sqlalchemy.engine.Engine [generated in 0.00158s] ()\n"
          ]
        },
        {
          "output_type": "execute_result",
          "data": {
            "text/plain": [
              "[(2, 'wendy', 'Wendy Williams', 1, 'jack', 'Jack Jones')]"
            ]
          },
          "metadata": {},
          "execution_count": 59
        }
      ]
    },
    {
      "cell_type": "code",
      "metadata": {
        "colab": {
          "base_uri": "https://localhost:8080/"
        },
        "id": "psE9Hponkyw4",
        "outputId": "1ba7a15c-ad64-4280-a72f-db968b68b88b"
      },
      "source": [
        "#Alias and sub\n",
        "a1 = addresses.alias()\n",
        "a2 = addresses.alias()\n",
        "s = select([users]).\\\n",
        "       where(and_(\n",
        "           users.c.id == a1.c.user_id,\n",
        "           users.c.id == a2.c.user_id,\n",
        "           a1.c.email_address == 'jack@msn.com',\n",
        "           a2.c.email_address == 'jack@yahoo.com'\n",
        "       ))\n",
        "conn.execute(s).fetchall()"
      ],
      "execution_count": 60,
      "outputs": [
        {
          "output_type": "stream",
          "name": "stdout",
          "text": [
            "2021-09-24 02:12:21,925 INFO sqlalchemy.engine.Engine SELECT users.id, users.name, users.fullname \n",
            "FROM users, addresses AS addresses_1, addresses AS addresses_2 \n",
            "WHERE users.id = addresses_1.user_id AND users.id = addresses_2.user_id AND addresses_1.email_address = ? AND addresses_2.email_address = ?\n",
            "2021-09-24 02:12:21,928 INFO sqlalchemy.engine.Engine [generated in 0.00369s] ('jack@msn.com', 'jack@yahoo.com')\n"
          ]
        },
        {
          "output_type": "execute_result",
          "data": {
            "text/plain": [
              "[(1, 'jack', 'Jack Jones')]"
            ]
          },
          "metadata": {},
          "execution_count": 60
        }
      ]
    },
    {
      "cell_type": "code",
      "metadata": {
        "colab": {
          "base_uri": "https://localhost:8080/"
        },
        "id": "Haeju3dYkzxk",
        "outputId": "9aad8ca8-2ff2-450e-9427-d575d330f7da"
      },
      "source": [
        "#update\n",
        "from sqlalchemy import bindparam\n",
        "stmt = users.update().\\\n",
        "             values(fullname=\"Fullname: \" + users.c.name)\n",
        "conn.execute(stmt)\n",
        "stmt = users.insert().\\\n",
        "         values(name=bindparam('_name') + \" .. name\")\n",
        "conn.execute(stmt, [\n",
        "       {'id':4, '_name':'name1'},\n",
        "       {'id':5, '_name':'name2'},\n",
        "       {'id':6, '_name':'name3'},\n",
        "    ])"
      ],
      "execution_count": 62,
      "outputs": [
        {
          "output_type": "stream",
          "name": "stdout",
          "text": [
            "2021-09-24 02:14:57,529 INFO sqlalchemy.engine.Engine UPDATE users SET fullname=(? || users.name)\n",
            "2021-09-24 02:14:57,533 INFO sqlalchemy.engine.Engine [cached since 141s ago] ('Fullname: ',)\n",
            "2021-09-24 02:14:57,535 INFO sqlalchemy.engine.Engine COMMIT\n",
            "2021-09-24 02:14:57,540 INFO sqlalchemy.engine.Engine INSERT INTO users (id, name) VALUES (?, (? || ?))\n",
            "2021-09-24 02:14:57,542 INFO sqlalchemy.engine.Engine [generated in 0.00217s] ((4, 'name1', ' .. name'), (5, 'name2', ' .. name'), (6, 'name3', ' .. name'))\n",
            "2021-09-24 02:14:57,544 INFO sqlalchemy.engine.Engine COMMIT\n"
          ]
        },
        {
          "output_type": "execute_result",
          "data": {
            "text/plain": [
              "<sqlalchemy.engine.cursor.LegacyCursorResult at 0x7fdb8632b710>"
            ]
          },
          "metadata": {},
          "execution_count": 62
        }
      ]
    },
    {
      "cell_type": "code",
      "metadata": {
        "colab": {
          "base_uri": "https://localhost:8080/"
        },
        "id": "Q88EIXy1lcSo",
        "outputId": "965e1c64-98e3-42f9-fc14-96a5f7e8b1ea"
      },
      "source": [
        "stmt = users.update().\\\n",
        "             where(users.c.name == 'jack').\\\n",
        "            values(name='ed')\n",
        "\n",
        "conn.execute(stmt)\n",
        "\n",
        "stmt = users.update().\\\n",
        "            where(users.c.name == bindparam('oldname')).\\\n",
        "            values(name=bindparam('newname'))\n",
        "conn.execute(stmt, [\n",
        "    {'oldname':'jack', 'newname':'ed'},\n",
        "    {'oldname':'wendy', 'newname':'mary'},\n",
        "    {'oldname':'jim', 'newname':'jake'},\n",
        "    ])"
      ],
      "execution_count": 63,
      "outputs": [
        {
          "output_type": "stream",
          "name": "stdout",
          "text": [
            "2021-09-24 02:15:11,707 INFO sqlalchemy.engine.Engine UPDATE users SET name=? WHERE users.name = ?\n",
            "2021-09-24 02:15:11,709 INFO sqlalchemy.engine.Engine [generated in 0.00255s] ('ed', 'jack')\n",
            "2021-09-24 02:15:11,711 INFO sqlalchemy.engine.Engine COMMIT\n",
            "2021-09-24 02:15:11,716 INFO sqlalchemy.engine.Engine UPDATE users SET name=? WHERE users.name = ?\n",
            "2021-09-24 02:15:11,719 INFO sqlalchemy.engine.Engine [generated in 0.00255s] (('ed', 'jack'), ('mary', 'wendy'), ('jake', 'jim'))\n",
            "2021-09-24 02:15:11,721 INFO sqlalchemy.engine.Engine COMMIT\n"
          ]
        },
        {
          "output_type": "execute_result",
          "data": {
            "text/plain": [
              "<sqlalchemy.engine.cursor.LegacyCursorResult at 0x7fdb8632fed0>"
            ]
          },
          "metadata": {},
          "execution_count": 63
        }
      ]
    },
    {
      "cell_type": "code",
      "metadata": {
        "colab": {
          "base_uri": "https://localhost:8080/"
        },
        "id": "HkKRAdNMldUS",
        "outputId": "581c6e45-f7f7-4ead-8170-ed4f4681f0ef"
      },
      "source": [
        "#Correlated Updates\n",
        "stmt = select([addresses.c.email_address]).\\\n",
        "             where(addresses.c.user_id == users.c.id).\\\n",
        "            limit(1)\n",
        "conn.execute(users.update().values(fullname=stmt))\n",
        "#Delete\n",
        "conn.execute(addresses.delete())\n",
        "\n",
        "conn.execute(users.delete().where(users.c.name > 'm'))"
      ],
      "execution_count": 64,
      "outputs": [
        {
          "output_type": "stream",
          "name": "stdout",
          "text": [
            "2021-09-24 02:15:26,486 INFO sqlalchemy.engine.Engine UPDATE users SET fullname=(SELECT addresses.email_address \n",
            "FROM addresses \n",
            "WHERE addresses.user_id = users.id\n",
            " LIMIT ? OFFSET ?)\n",
            "2021-09-24 02:15:26,491 INFO sqlalchemy.engine.Engine [generated in 0.00511s] (1, 0)\n",
            "2021-09-24 02:15:26,495 INFO sqlalchemy.engine.Engine COMMIT\n",
            "2021-09-24 02:15:26,499 INFO sqlalchemy.engine.Engine DELETE FROM addresses\n",
            "2021-09-24 02:15:26,501 INFO sqlalchemy.engine.Engine [generated in 0.00194s] ()\n",
            "2021-09-24 02:15:26,504 INFO sqlalchemy.engine.Engine COMMIT\n",
            "2021-09-24 02:15:26,508 INFO sqlalchemy.engine.Engine DELETE FROM users WHERE users.name > ?\n",
            "2021-09-24 02:15:26,510 INFO sqlalchemy.engine.Engine [generated in 0.00202s] ('m',)\n",
            "2021-09-24 02:15:26,511 INFO sqlalchemy.engine.Engine COMMIT\n"
          ]
        },
        {
          "output_type": "stream",
          "name": "stderr",
          "text": [
            "/usr/local/lib/python3.7/dist-packages/ipykernel_launcher.py:3: SAWarning: implicitly coercing SELECT object to scalar subquery; please use the .scalar_subquery() method to produce a scalar subquery.\n",
            "  This is separate from the ipykernel package so we can avoid doing imports until\n"
          ]
        },
        {
          "output_type": "execute_result",
          "data": {
            "text/plain": [
              "<sqlalchemy.engine.cursor.LegacyCursorResult at 0x7fdb8639b0d0>"
            ]
          },
          "metadata": {},
          "execution_count": 64
        }
      ]
    }
  ]
}