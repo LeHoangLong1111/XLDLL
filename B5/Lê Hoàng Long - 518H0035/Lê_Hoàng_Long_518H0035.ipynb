{
  "nbformat": 4,
  "nbformat_minor": 0,
  "metadata": {
    "colab": {
      "name": "Lê Hoàng Long - 518H0035.ipynb",
      "provenance": [],
      "collapsed_sections": []
    },
    "kernelspec": {
      "name": "python3",
      "display_name": "Python 3"
    },
    "language_info": {
      "name": "python"
    }
  },
  "cells": [
    {
      "cell_type": "code",
      "metadata": {
        "id": "q2C8ijQOf6ji"
      },
      "source": [
        "##1\n",
        "T1: I1, I2, I3\n",
        "T2: I2, I3, I4\n",
        "T3: I2, I4, I5\n",
        "T4: I1, I2, I4\n",
        "T5: I1, I2, I3, I5\n",
        "T6: I1, I2, I3, I4\n",
        "\n",
        "## FIRST SCAN\n",
        "I1: 4\n",
        "I2: 6\n",
        "I3: 4\n",
        "I4: 4\n",
        "I5: 2 (Supportthreshold=50%) => LOẠI\n",
        "\n",
        "## SECOND SCAN\n",
        "I1, I2: 4\n",
        "I1, I3: 3\n",
        "I1, I4: 2 (Supportthreshold=50%) => LOẠI\n",
        "I2, I3: 4\n",
        "I2, I4: 4\n",
        "I3, I4: 2 (Supportthreshold=50%) => LOẠI\n",
        "\n",
        "##3 THIRD SCAN:\n",
        "I1, I2, I3: 3\n",
        "I2, I3, I4: 2 (Supportthreshold=50%) => LOẠI\n",
        "\n",
        "## Xác suất Confidence của tập kết quả là:\n",
        "\n",
        "I1 => I2^I3 CONFIDENCE: 3/4 = 75%\n",
        "I2 => I1^I3 CONFIDENCE: 3/6 = 50%\n",
        "I3 => I2^I1 CONFIDENCE: 3/4 = 75%\n",
        "I2^I3 => I1 CONFIDENCE: 3/4 = 75%\n",
        "I1^I3 => I2 CONFIDENCE: 3/3 = 100%\n",
        "I2^I1 => I3 CONFIDENCE: 3/4 = 75%\n",
        "\n",
        "\n",
        "\n"
      ],
      "execution_count": null,
      "outputs": []
    },
    {
      "cell_type": "code",
      "metadata": {
        "id": "O-uBo9CNo4QK"
      },
      "source": [
        "##2:\n",
        "\n",
        "Apriori\n",
        "=======\n",
        "\n",
        "Minimum support: 0.95 (33042 instances)\n",
        "Minimum metric <confidence>: 0.9\n",
        "Number of cycles performed: 1\n",
        "\n",
        "Generated sets of large itemsets:\n",
        "\n",
        "Size of set of large itemsets L(1): 5\n",
        "\n",
        "Size of set of large itemsets L(2): 8\n",
        "\n",
        "Size of set of large itemsets L(3): 4\n",
        "\n",
        "Best rules found:\n",
        "\n",
        " 1. fraspm=n 33571 ==> dengl=n 33571    <conf:(1)> lift:(1.01) lev:(0.01) [462] conv:(462.34)\n",
        " 2. pa=n fraspm=n 33390 ==> dengl=n 33390    <conf:(1)> lift:(1.01) lev:(0.01) [459] conv:(459.84)\n",
        " 3. lb=n 33348 ==> dengl=n 33288    <conf:(1)> lift:(1.01) lev:(0.01) [399] conv:(7.53)\n",
        " 4. lb=n pa=n 33167 ==> dengl=n 33107    <conf:(1)> lift:(1.01) lev:(0.01) [396] conv:(7.49)\n",
        " 5. lb=n nu=n 33118 ==> dengl=n 33058    <conf:(1)> lift:(1.01) lev:(0.01) [396] conv:(7.48)\n",
        " 6. dengl=n 34302 ==> pa=n 34121    <conf:(0.99)> lift:(1) lev:(-0) [-2] conv:(0.98)\n",
        " 7. nu=n 33802 ==> pa=n 33621    <conf:(0.99)> lift:(1) lev:(-0) [-5] conv:(0.97)\n",
        " 8. dengl=n nu=n 33601 ==> pa=n 33420    <conf:(0.99)> lift:(1) lev:(-0) [-6] conv:(0.96)\n",
        " 9. fraspm=n 33571 ==> pa=n 33390    <conf:(0.99)> lift:(1) lev:(-0) [-6] conv:(0.96)\n",
        "10. dengl=n fraspm=n 33571 ==> pa=n 33390    <conf:(0.99)> lift:(1) lev:(-0) [-6] conv:(0.96)"
      ],
      "execution_count": null,
      "outputs": []
    },
    {
      "cell_type": "code",
      "metadata": {
        "colab": {
          "base_uri": "https://localhost:8080/"
        },
        "id": "Yt77mEyrsIR1",
        "outputId": "efbafc0e-3e75-4251-d29a-d8649be97731"
      },
      "source": [
        "##3\n",
        "!pip install apyori\n",
        "import numpy as np\n",
        "import matplotlib.pyplot as plt\n",
        "import pandas as pd\n",
        "from apyori import apriori\n"
      ],
      "execution_count": 2,
      "outputs": [
        {
          "output_type": "stream",
          "name": "stdout",
          "text": [
            "Collecting apyori\n",
            "  Downloading apyori-1.1.2.tar.gz (8.6 kB)\n",
            "Building wheels for collected packages: apyori\n",
            "  Building wheel for apyori (setup.py) ... \u001b[?25l\u001b[?25hdone\n",
            "  Created wheel for apyori: filename=apyori-1.1.2-py3-none-any.whl size=5974 sha256=5d6766c71af3506b1d09d2a3bec98f5c9c9258b270c9ba9abd05d7a91856c6ba\n",
            "  Stored in directory: /root/.cache/pip/wheels/cb/f6/e1/57973c631d27efd1a2f375bd6a83b2a616c4021f24aab84080\n",
            "Successfully built apyori\n",
            "Installing collected packages: apyori\n",
            "Successfully installed apyori-1.1.2\n"
          ]
        }
      ]
    },
    {
      "cell_type": "code",
      "metadata": {
        "colab": {
          "base_uri": "https://localhost:8080/"
        },
        "id": "kJMQkQylsxUe",
        "outputId": "fc48a496-b933-48ca-eacb-8f3a73e4ff6f"
      },
      "source": [
        "df = pd.read_csv('plants.csv', header=None, encoding='latin-1')\n",
        "print(df)"
      ],
      "execution_count": 4,
      "outputs": [
        {
          "output_type": "stream",
          "name": "stdout",
          "text": [
            "                                    0   1      2   3   4   ...  65  66  67  68  69\n",
            "0                                 name  co  dengl  ca  ga  ...  sk  sc  ky  or  sd\n",
            "1                               abelia   n      n   n   n  ...   n   n   n   n   n\n",
            "2                 abelia x grandiflora   n      n   n   n  ...   n   n   n   n   n\n",
            "3                          abelmoschus   n      n   n   n  ...   n   y   y   n   n\n",
            "4               abelmoschus esculentus   n      n   n   n  ...   n   y   y   n   n\n",
            "...                                ...  ..    ...  ..  ..  ...  ..  ..  ..  ..  ..\n",
            "34777  zuckia brandegeei var. plummeri   y      n   n   n  ...   n   n   n   n   n\n",
            "34778                      zygophlebia   n      n   n   n  ...   n   n   n   n   n\n",
            "34779           zygophlebia sectifrons   n      n   n   n  ...   n   n   n   n   n\n",
            "34780                      zygophyllum   y      n   y   n  ...   n   n   n   n   n\n",
            "34781               zygophyllum fabago   y      n   y   n  ...   n   n   n   n   n\n",
            "\n",
            "[34782 rows x 70 columns]\n"
          ]
        }
      ]
    },
    {
      "cell_type": "code",
      "metadata": {
        "colab": {
          "base_uri": "https://localhost:8080/"
        },
        "id": "90zSw2UgtHV2",
        "outputId": "351c3d41-03e8-494a-93f7-fe642090b670"
      },
      "source": [
        "head = []\n",
        "for i in range(0, 34782):\n",
        "  head.append([str(df.values[i,j]) for j in range(1, 70)])\n",
        "print(head[0])"
      ],
      "execution_count": 6,
      "outputs": [
        {
          "output_type": "stream",
          "name": "stdout",
          "text": [
            "['co', 'dengl', 'ca', 'ga', 'ct', 'pr', 'lb', 'tx', 'la', 'tn', 'pa', 'pe', 'mn', 'de', 'dc', 'hi', 'yt', 'me', 'md', 'ma', 'mb', 'ut', 'mo', 'fraspm', 'mi', 'nu', 'mt', 'qc', 'ms', 'va', 'ab', 'vi', 'ak', 'al', 'ar', 'vt', 'il', 'in', 'ia', 'az', 'id', 'nh', 'ks', 'nj', 'nm', 'nb', 'nc', 'nd', 'ne', 'nf', 'ny', 'ns', 'nt', 'ri', 'nv', 'wa', 'bc', 'wi', 'wv', 'fl', 'wy', 'on', 'ok', 'oh', 'sk', 'sc', 'ky', 'or', 'sd']\n"
          ]
        }
      ]
    },
    {
      "cell_type": "code",
      "metadata": {
        "colab": {
          "base_uri": "https://localhost:8080/"
        },
        "id": "POzw81tptsNg",
        "outputId": "b0e80c17-98f4-4e72-f4a6-3b51b02ac6f0"
      },
      "source": [
        "association_rules = apriori(head, min_support=0.95, min_confidence=0.9, min_lift=1, min_length=0)\n",
        "association_rules = list(association_rules)\n",
        "print(association_rules)\n",
        "print(len(association_rules))  #to check the Total Number of Rules mined\n",
        "print(association_rules[0])    #to print the first item the association_rules list to see the first rule"
      ],
      "execution_count": 7,
      "outputs": [
        {
          "output_type": "stream",
          "name": "stdout",
          "text": [
            "[RelationRecord(items=frozenset({'n'}), support=0.9999712494968662, ordered_statistics=[OrderedStatistic(items_base=frozenset(), items_add=frozenset({'n'}), confidence=0.9999712494968662, lift=1.0)]), RelationRecord(items=frozenset({'y'}), support=0.9985049738370422, ordered_statistics=[OrderedStatistic(items_base=frozenset(), items_add=frozenset({'y'}), confidence=0.9985049738370422, lift=1.0)]), RelationRecord(items=frozenset({'y', 'n'}), support=0.9985049738370422, ordered_statistics=[OrderedStatistic(items_base=frozenset(), items_add=frozenset({'y', 'n'}), confidence=0.9985049738370422, lift=1.0), OrderedStatistic(items_base=frozenset({'n'}), items_add=frozenset({'y'}), confidence=0.9985336821828009, lift=1.000028751329749), OrderedStatistic(items_base=frozenset({'y'}), items_add=frozenset({'n'}), confidence=1.0, lift=1.000028751329749)])]\n",
            "3\n",
            "RelationRecord(items=frozenset({'n'}), support=0.9999712494968662, ordered_statistics=[OrderedStatistic(items_base=frozenset(), items_add=frozenset({'n'}), confidence=0.9999712494968662, lift=1.0)])\n"
          ]
        }
      ]
    },
    {
      "cell_type": "code",
      "metadata": {
        "colab": {
          "base_uri": "https://localhost:8080/"
        },
        "id": "Oj0zuh1yuKPO",
        "outputId": "a346146c-1408-4f6f-962b-5a270d0324d7"
      },
      "source": [
        "for item in association_rules:\n",
        "    # first index of the inner list\n",
        "    # Contains base item and add item\n",
        "    pair = item[0] \n",
        "    items = [x for x in pair]\n",
        "    print(items)\n",
        "\n",
        "    #second index of the inner list\n",
        "    print(\"Support: \" + str(item[1]))\n",
        "\n",
        "    #third index of the list located at 0th of the third index of the inner list\n",
        "\n",
        "    print(\"Confidence: \" + str(item[2][0][2]))\n",
        "    print(\"Lift: \" + str(item[2][0][3]) + \"\\n\")"
      ],
      "execution_count": 13,
      "outputs": [
        {
          "output_type": "stream",
          "name": "stdout",
          "text": [
            "['n']\n",
            "Support: 0.9999712494968662\n",
            "Confidence: 0.9999712494968662\n",
            "Lift: 1.0\n",
            "\n",
            "['y']\n",
            "Support: 0.9985049738370422\n",
            "Confidence: 0.9985049738370422\n",
            "Lift: 1.0\n",
            "\n",
            "['y', 'n']\n",
            "Support: 0.9985049738370422\n",
            "Confidence: 0.9985049738370422\n",
            "Lift: 1.0\n",
            "\n"
          ]
        }
      ]
    }
  ]
}