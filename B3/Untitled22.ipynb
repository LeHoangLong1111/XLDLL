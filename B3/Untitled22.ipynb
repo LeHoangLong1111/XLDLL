{
  "nbformat": 4,
  "nbformat_minor": 0,
  "metadata": {
    "colab": {
      "name": "Untitled22.ipynb",
      "provenance": [],
      "collapsed_sections": []
    },
    "kernelspec": {
      "name": "python3",
      "display_name": "Python 3"
    },
    "language_info": {
      "name": "python"
    }
  },
  "cells": [
    {
      "cell_type": "code",
      "metadata": {
        "colab": {
          "base_uri": "https://localhost:8080/"
        },
        "id": "XCg9_fEENpCh",
        "outputId": "190d6e78-b5cd-4430-8801-15f84b559077"
      },
      "source": [
        "import os\n",
        "from collections import Counter\n",
        "\n",
        "# Folder Path in Colab\n",
        "path = \"/content/\"\n",
        "  \n",
        "# Change the directory\n",
        "os.chdir(path)\n",
        "\n",
        "# Read text File\n",
        "def read_text_file(file_path):\n",
        "  with open(file_path, 'r') as f:\n",
        "    data = f.read()\n",
        "  return data.split()\n",
        "\n",
        "\n",
        "words = []\n",
        "for file in os.listdir():\n",
        "  if file.endswith(\".txt\"):\n",
        "    file_path = f\"{path}/{file}\"\n",
        "    read_text_file(file_path)\n",
        "    global words\n",
        "    #Merge words of all file:\n",
        "    if words is None:\n",
        "      words = read_text_file(file_path)\n",
        "    else:\n",
        "      words.extend(read_text_file(file_path))\n",
        "words=sorted(words, key=str.lower)\n",
        "char = [chr(i) for i in range(ord('A'), ord('Z') + 1)]\n",
        "#Count numbers of specific words\n",
        "X = Counter(words)\n",
        "i = 0\n",
        "for x in X:\n",
        "    print (x, ':', X[x], char[i])\n",
        "    i+=1"
      ],
      "execution_count": 15,
      "outputs": [
        {
          "output_type": "stream",
          "name": "stdout",
          "text": [
            "a : 1 A\n",
            "day : 1 B\n",
            "Have : 1 C\n",
            "Hello : 2 D\n",
            "nice : 1 E\n",
            "World : 1 F\n"
          ]
        }
      ]
    },
    {
      "cell_type": "code",
      "metadata": {
        "id": "YBTJQeh-Zhgq"
      },
      "source": [
        "import json\n",
        "class MapReduce:\n",
        "    def __init__(self):\n",
        "        self.intermediate = {}\n",
        "        self.result = []\n",
        "    def emit_intermediate(self, key, value):\n",
        "        self.intermediate.setdefault(key, [])\n",
        "        self.intermediate[key].append(value)\n",
        "    def emit(self, value):\n",
        "        self.result.append(value) \n",
        "def execute(self, data, mapper, reducer):\n",
        "        for line in data:\n",
        "            record = json.loads(line)\n",
        "            mapper(record)\n",
        "        for key in self.intermediate:\n",
        "            reducer(key, self.intermediate[key])\n",
        "        #jenc = json.JSONEncoder(encoding='utf-8')\n",
        "        jenc = json.JSONEncoder()\n",
        "        for item in self.result:\n",
        "            print(jenc.encode(item))"
      ],
      "execution_count": 17,
      "outputs": []
    },
    {
      "cell_type": "code",
      "metadata": {
        "colab": {
          "base_uri": "https://localhost:8080/",
          "height": 133
        },
        "id": "pDDJ1wRYaLdm",
        "outputId": "756b1951-e7a6-4440-e648-19f971e4fbf5"
      },
      "source": [
        "import MapReduce\n",
        "mr = MapReduce.MapReduce()\n",
        "def mapper:\n",
        "def reducer:\n",
        "if __name__ == '__main__':\n",
        "  inputdata = open(\"/content/data.json\")\n",
        "  mr.execute(inputdata, mapper, reducer)"
      ],
      "execution_count": 19,
      "outputs": [
        {
          "output_type": "error",
          "ename": "SyntaxError",
          "evalue": "ignored",
          "traceback": [
            "\u001b[0;36m  File \u001b[0;32m\"<ipython-input-19-d4a207d2e720>\"\u001b[0;36m, line \u001b[0;32m3\u001b[0m\n\u001b[0;31m    def mapper:\u001b[0m\n\u001b[0m              ^\u001b[0m\n\u001b[0;31mSyntaxError\u001b[0m\u001b[0;31m:\u001b[0m invalid syntax\n"
          ]
        }
      ]
    }
  ]
}