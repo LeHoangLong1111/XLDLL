{
  "nbformat": 4,
  "nbformat_minor": 0,
  "metadata": {
    "colab": {
      "name": "Untitled47.ipynb",
      "provenance": []
    },
    "kernelspec": {
      "name": "python3",
      "display_name": "Python 3"
    },
    "language_info": {
      "name": "python"
    }
  },
  "cells": [
    {
      "cell_type": "code",
      "metadata": {
        "colab": {
          "base_uri": "https://localhost:8080/"
        },
        "id": "MAr8zDxhtSw0",
        "outputId": "7d289130-ed9e-419f-d549-964644319fd8"
      },
      "source": [
        "!pip install datasketch"
      ],
      "execution_count": 1,
      "outputs": [
        {
          "output_type": "stream",
          "name": "stdout",
          "text": [
            "Collecting datasketch\n",
            "  Downloading datasketch-1.5.3-py2.py3-none-any.whl (67 kB)\n",
            "\u001b[?25l\r\u001b[K     |████▉                           | 10 kB 28.1 MB/s eta 0:00:01\r\u001b[K     |█████████▊                      | 20 kB 24.3 MB/s eta 0:00:01\r\u001b[K     |██████████████▋                 | 30 kB 17.1 MB/s eta 0:00:01\r\u001b[K     |███████████████████▌            | 40 kB 14.9 MB/s eta 0:00:01\r\u001b[K     |████████████████████████▎       | 51 kB 7.1 MB/s eta 0:00:01\r\u001b[K     |█████████████████████████████▏  | 61 kB 7.0 MB/s eta 0:00:01\r\u001b[K     |████████████████████████████████| 67 kB 3.8 MB/s \n",
            "\u001b[?25hRequirement already satisfied: numpy>=1.11 in /usr/local/lib/python3.7/dist-packages (from datasketch) (1.19.5)\n",
            "Installing collected packages: datasketch\n",
            "Successfully installed datasketch-1.5.3\n"
          ]
        }
      ]
    },
    {
      "cell_type": "code",
      "metadata": {
        "id": "gMBK7NPTtkEf"
      },
      "source": [
        "from datasketch import MinHash, MinHashLSH\n",
        "\n",
        "set1 = set(['minhash', 'is', 'a', 'probabilistic', 'data', 'structure', 'for',\n",
        "            'estimating', 'the', 'similarity', 'between', 'datasets'])\n",
        "set2 = set(['minhash', 'is', 'a', 'probability', 'data', 'structure', 'for',\n",
        "            'estimating', 'the', 'similarity', 'between', 'documents'])\n",
        "set3 = set(['minhash', 'is', 'probability', 'data', 'structure', 'for',\n",
        "            'estimating', 'the', 'similarity', 'between', 'documents'])"
      ],
      "execution_count": 2,
      "outputs": []
    },
    {
      "cell_type": "code",
      "metadata": {
        "id": "_7KF2LoQtkm8"
      },
      "source": [
        "m1 = MinHash(num_perm=128)\n",
        "m2 = MinHash(num_perm=128)\n",
        "m3 = MinHash(num_perm=128)\n",
        "for d in set1:\n",
        "    m1.update(d.encode('utf8'))\n",
        "for d in set2:\n",
        "    m2.update(d.encode('utf8'))\n",
        "for d in set3:\n",
        "    m3.update(d.encode('utf8'))"
      ],
      "execution_count": 3,
      "outputs": []
    },
    {
      "cell_type": "code",
      "metadata": {
        "colab": {
          "base_uri": "https://localhost:8080/"
        },
        "id": "4p_RjILStsvB",
        "outputId": "e5cd3da3-fcaf-463e-d418-644929c98302"
      },
      "source": [
        "# Create LSH index\n",
        "lsh = MinHashLSH(threshold=0.5, num_perm=128)\n",
        "lsh.insert(\"m2\", m2)\n",
        "lsh.insert(\"m3\", m3)\n",
        "result = lsh.query(m1)\n",
        "print(\"Approximate neighbours with Jaccard similarity > 0.5\", result)"
      ],
      "execution_count": 4,
      "outputs": [
        {
          "output_type": "stream",
          "name": "stdout",
          "text": [
            "Approximate neighbours with Jaccard similarity > 0.5 ['m3', 'm2']\n"
          ]
        }
      ]
    },
    {
      "cell_type": "code",
      "metadata": {
        "colab": {
          "base_uri": "https://localhost:8080/"
        },
        "id": "gXIMuF9yuY2t",
        "outputId": "f4b4e008-4a59-4956-a57a-3709811a2f3b"
      },
      "source": [
        "'''\n",
        "Some examples for MinHash\n",
        "'''\n",
        "\n",
        "from hashlib import sha1\n",
        "from datasketch.minhash import MinHash\n",
        "\n",
        "data1 = ['minhash', 'is', 'a', 'probabilistic', 'data', 'structure', 'for',\n",
        "        'estimating', 'the', 'similarity', 'between', 'datasets']\n",
        "data2 = ['minhash', 'is', 'a', 'probability', 'data', 'structure', 'for',\n",
        "        'estimating', 'the', 'similarity', 'between', 'documents']\n",
        "\n",
        "def eg1():\n",
        "    m1 = MinHash()\n",
        "    m2 = MinHash()\n",
        "    for d in data1:\n",
        "        m1.update(d.encode('utf8'))\n",
        "    for d in data2:\n",
        "        m2.update(d.encode('utf8'))\n",
        "    print(\"Estimated Jaccard for data1 and data2 is\", m1.jaccard(m2))\n",
        "\n",
        "    s1 = set(data1)\n",
        "    s2 = set(data2)\n",
        "    actual_jaccard = float(len(s1.intersection(s2))) /\\\n",
        "            float(len(s1.union(s2)))\n",
        "    print(\"Actual Jaccard for data1 and data2 is\", actual_jaccard)\n",
        "\n",
        "if __name__ == \"__main__\":\n",
        "    eg1()\n",
        "\t\n"
      ],
      "execution_count": 5,
      "outputs": [
        {
          "output_type": "stream",
          "name": "stdout",
          "text": [
            "Estimated Jaccard for data1 and data2 is 0.7109375\n",
            "Actual Jaccard for data1 and data2 is 0.7142857142857143\n"
          ]
        }
      ]
    },
    {
      "cell_type": "code",
      "metadata": {
        "colab": {
          "base_uri": "https://localhost:8080/"
        },
        "id": "dmXYr2BLuaZS",
        "outputId": "5fba30bf-edda-4c43-dd39-99da1dd56f03"
      },
      "source": [
        "'''\n",
        "Some examples for LSH\n",
        "'''\n",
        "\n",
        "from hashlib import sha1\n",
        "import numpy as np\n",
        "from datasketch.minhash import MinHash\n",
        "from datasketch.weighted_minhash import WeightedMinHashGenerator\n",
        "from datasketch.lsh import MinHashLSH\n",
        "\n",
        "set1 = set(['minhash', 'is', 'a', 'probabilistic', 'data', 'structure', 'for',\n",
        "            'estimating', 'the', 'similarity', 'between', 'datasets'])\n",
        "set2 = set(['minhash', 'is', 'a', 'probability', 'data', 'structure', 'for',\n",
        "            'estimating', 'the', 'similarity', 'between', 'documents'])\n",
        "set3 = set(['minhash', 'is', 'probability', 'data', 'structure', 'for',\n",
        "            'estimating', 'the', 'similarity', 'between', 'documents'])\n",
        "\n",
        "v1 = np.random.uniform(1, 10, 10)\n",
        "v2 = np.random.uniform(1, 10, 10)\n",
        "v3 = np.random.uniform(1, 10, 10)\n",
        "\n",
        "def eg1():\n",
        "    m1 = MinHash(num_perm=128)\n",
        "    m2 = MinHash(num_perm=128)\n",
        "    m3 = MinHash(num_perm=128)\n",
        "    for d in set1:\n",
        "        m1.update(d.encode('utf8'))\n",
        "    for d in set2:\n",
        "        m2.update(d.encode('utf8'))\n",
        "    for d in set3:\n",
        "        m3.update(d.encode('utf8'))\n",
        "\n",
        "    # Create LSH index\n",
        "    lsh = MinHashLSH(threshold=0.5, num_perm=128)\n",
        "    lsh.insert(\"m2\", m2)\n",
        "    lsh.insert(\"m3\", m3)\n",
        "    result = lsh.query(m1)\n",
        "    print(\"Approximate neighbours with Jaccard similarity > 0.5\", result)\n",
        "\n",
        "def eg2():\n",
        "    mg = WeightedMinHashGenerator(10, 5)\n",
        "    m1 = mg.minhash(v1)\n",
        "    m2 = mg.minhash(v2)\n",
        "    m3 = mg.minhash(v3)\n",
        "    print(\"Estimated Jaccard m1, m2\", m1.jaccard(m2))\n",
        "    print(\"Estimated Jaccard m1, m3\", m1.jaccard(m3))\n",
        "    # Create LSH index\n",
        "    lsh = MinHashLSH(threshold=0.1, num_perm=5)\n",
        "    lsh.insert(\"m2\", m2)\n",
        "    lsh.insert(\"m3\", m3)\n",
        "    result = lsh.query(m1)\n",
        "    print(\"Approximate neighbours with weighted Jaccard similarity > 0.1\", result)\n",
        "\n",
        "if __name__ == \"__main__\":\n",
        "    eg1()\n",
        "    eg2()"
      ],
      "execution_count": 6,
      "outputs": [
        {
          "output_type": "stream",
          "name": "stdout",
          "text": [
            "Approximate neighbours with Jaccard similarity > 0.5 ['m3', 'm2']\n",
            "Estimated Jaccard m1, m2 0.2\n",
            "Estimated Jaccard m1, m3 0.2\n",
            "Approximate neighbours with weighted Jaccard similarity > 0.1 ['m3', 'm2']\n"
          ]
        }
      ]
    }
  ]
}