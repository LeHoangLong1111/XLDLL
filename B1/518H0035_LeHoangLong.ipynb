{
  "nbformat": 4,
  "nbformat_minor": 0,
  "metadata": {
    "colab": {
      "name": "518H0035_LeHoangLong.ipynb",
      "provenance": [],
      "collapsed_sections": []
    },
    "kernelspec": {
      "name": "python3",
      "display_name": "Python 3"
    },
    "language_info": {
      "name": "python"
    }
  },
  "cells": [
    {
      "cell_type": "code",
      "metadata": {
        "id": "zFXOhW2Dim-W",
        "colab": {
          "base_uri": "https://localhost:8080/"
        },
        "outputId": "d3897f8f-42ef-4eb6-ab82-a7e1de3d9f3f"
      },
      "source": [
        "##1 Vào 1 đường dẫn đến tập các file text (chỉ vào thư mục, tên file và số lượng file không biết), in ra các từ và số lượng \n",
        "##các từ trong tất cả các file đó, giả sử các từ cách nhau bởi khoảng trắng.\n",
        "import os\n",
        "from collections import Counter\n",
        "\n",
        "# Folder Path in Colab\n",
        "path = \"/content/exercise1\"\n",
        "# Change the directory\n",
        "os.chdir(path)\n",
        "# Read text File\n",
        "def read_text_file(file_path):\n",
        "  with open(file_path, 'r') as f:\n",
        "    data = f.read()\n",
        "  return data.split()\n",
        "\n",
        "words = []\n",
        "for file in os.listdir():\n",
        "  if file.endswith(\".txt\"):\n",
        "    file_path = f\"{path}/{file}\"\n",
        "    read_text_file(file_path)\n",
        "    global words\n",
        "    #Merge words of all file:\n",
        "    if words is None:\n",
        "      words = read_text_file(file_path)\n",
        "    else:\n",
        "      words.extend(read_text_file(file_path))\n",
        "#Count numbers of specific words\n",
        "result = Counter(words)\n",
        "for r in result:\n",
        "        print (r, ':', result[r])"
      ],
      "execution_count": null,
      "outputs": [
        {
          "output_type": "stream",
          "name": "stdout",
          "text": [
            "World : 3\n",
            "I : 1\n",
            "am : 1\n",
            "Hello : 4\n"
          ]
        }
      ]
    },
    {
      "cell_type": "code",
      "metadata": {
        "colab": {
          "base_uri": "https://localhost:8080/"
        },
        "id": "BzHPSsNtpDWi",
        "outputId": "a18ab1a1-0a78-46e3-9315-40746886ea06"
      },
      "source": [
        "##2\n",
        "x = {'key1' : 1, 'key2' : '3', 'key3' : '2'}\n",
        "y={'key1' : 1, 'key2' : '2'}\n",
        "\n",
        "for key, val in x.items():\n",
        "  for key2, val2 in y.items():\n",
        "    if(key==key2 and val==val2):\n",
        "      print(key + \":\" + str(val))"
      ],
      "execution_count": null,
      "outputs": [
        {
          "output_type": "stream",
          "name": "stdout",
          "text": [
            "key1:1\n"
          ]
        }
      ]
    },
    {
      "cell_type": "code",
      "metadata": {
        "colab": {
          "base_uri": "https://localhost:8080/"
        },
        "id": "fYZbLHAk2kfL",
        "outputId": "3d5b7760-ca6f-4d72-aea7-e6a103fd700e"
      },
      "source": [
        "##3\n",
        "import json \n",
        "      \n",
        "dictionary ={\n",
        "  'students': [\n",
        "               {'firstName': 'Nikki', 'lastName': 'Roysden'}, \n",
        "               {'firstName': 'Mervin', 'lastName':'Friedland'}, \n",
        "               {'firstName': 'Aron ', 'lastName': 'Wilkins'}\n",
        "  ], \n",
        "  'teachers': [\n",
        "               {'firstName': 'Amberly','lastName': 'Calico'}, \n",
        "               {'firstName': 'Regine', 'lastName': 'Agtarap'}\n",
        "  ]\n",
        "}\n",
        "      \n",
        "json_object = json.dumps(dictionary, indent = 4) \n",
        "print(json_object)\n",
        "\n",
        "with open(\"cau3.json\", \"w\") as outfile:\n",
        "    json.dump(dictionary, outfile)"
      ],
      "execution_count": null,
      "outputs": [
        {
          "output_type": "stream",
          "name": "stdout",
          "text": [
            "{\n",
            "    \"students\": [\n",
            "        {\n",
            "            \"firstName\": \"Nikki\",\n",
            "            \"lastName\": \"Roysden\"\n",
            "        },\n",
            "        {\n",
            "            \"firstName\": \"Mervin\",\n",
            "            \"lastName\": \"Friedland\"\n",
            "        },\n",
            "        {\n",
            "            \"firstName\": \"Aron \",\n",
            "            \"lastName\": \"Wilkins\"\n",
            "        }\n",
            "    ],\n",
            "    \"teachers\": [\n",
            "        {\n",
            "            \"firstName\": \"Amberly\",\n",
            "            \"lastName\": \"Calico\"\n",
            "        },\n",
            "        {\n",
            "            \"firstName\": \"Regine\",\n",
            "            \"lastName\": \"Agtarap\"\n",
            "        }\n",
            "    ]\n",
            "}\n"
          ]
        }
      ]
    },
    {
      "cell_type": "code",
      "metadata": {
        "id": "MQqOyi-S3BNh"
      },
      "source": [
        "##4\n",
        "import numpy as np\n"
      ],
      "execution_count": 1,
      "outputs": []
    },
    {
      "cell_type": "code",
      "metadata": {
        "colab": {
          "base_uri": "https://localhost:8080/"
        },
        "id": "Sq7JjB3Z5D5-",
        "outputId": "13f006f4-2d4c-4b2d-b095-1b45d1362ac0"
      },
      "source": [
        "#the multiplication of two given matrixes.\n",
        "m1 = np.array([[1,2,3],[4,5,6]])\n",
        "m2 = np.array([[1,3],[2,4],[7,8]])\n",
        "m3 = np.dot(m1,m2) \n",
        "print(m3) "
      ],
      "execution_count": null,
      "outputs": [
        {
          "output_type": "stream",
          "name": "stdout",
          "text": [
            "[[26 35]\n",
            " [56 80]]\n"
          ]
        }
      ]
    },
    {
      "cell_type": "code",
      "metadata": {
        "colab": {
          "base_uri": "https://localhost:8080/"
        },
        "id": "_DGmWzsJ5j-q",
        "outputId": "31191837-43b8-483c-f9cc-ebd3968fa5ab"
      },
      "source": [
        "#the outer product of two given vectors\n",
        "m1 = np.array([[1, 5], [7, 9]])\n",
        "m2 = np.array([[5, 3], [6, 8]])\n",
        "result = np.outer(m1, m2)\n",
        "print(result)"
      ],
      "execution_count": null,
      "outputs": [
        {
          "output_type": "stream",
          "name": "stdout",
          "text": [
            "[[ 5  3  6  8]\n",
            " [25 15 30 40]\n",
            " [35 21 42 56]\n",
            " [45 27 54 72]]\n"
          ]
        }
      ]
    },
    {
      "cell_type": "code",
      "metadata": {
        "colab": {
          "base_uri": "https://localhost:8080/"
        },
        "id": "jIiKAFun67PB",
        "outputId": "f631c8e7-1d3a-4018-cf8b-a9dc64d8f96a"
      },
      "source": [
        "#the cross product of two given vectors\n",
        "m1 = np.array([[1, 5], [7, 9]])\n",
        "m2 = np.array([[5, 3], [6, 8]])\n",
        "result = np.cross(m1, m2)\n",
        "print(result)"
      ],
      "execution_count": null,
      "outputs": [
        {
          "output_type": "stream",
          "name": "stdout",
          "text": [
            "[-22   2]\n"
          ]
        }
      ]
    },
    {
      "cell_type": "code",
      "metadata": {
        "colab": {
          "base_uri": "https://localhost:8080/"
        },
        "id": "aTUz9oQz9XmB",
        "outputId": "755a99ff-1d9d-4453-b9e6-fbccf54dba0d"
      },
      "source": [
        "#the determinant of a given square array\n",
        "from numpy import linalg\n",
        "\n",
        "matrix = np.array([[1, 2, 5], [15, 3, 9], [8, 7, 3]])\n",
        "print(np.linalg.det(matrix))"
      ],
      "execution_count": null,
      "outputs": [
        {
          "output_type": "stream",
          "name": "stdout",
          "text": [
            "405.0000000000002\n"
          ]
        }
      ]
    },
    {
      "cell_type": "code",
      "metadata": {
        "colab": {
          "base_uri": "https://localhost:8080/"
        },
        "id": "meVsaiTB-Vc5",
        "outputId": "0c7ab57c-f4d3-4ec5-c4ed-681336ccee2f"
      },
      "source": [
        "#the determinant of an array\n",
        "matrix = np.array([[3,5],[15,6]])\n",
        "result =  np.linalg.det(matrix)\n",
        "print(result)"
      ],
      "execution_count": 4,
      "outputs": [
        {
          "output_type": "stream",
          "name": "stdout",
          "text": [
            "-57.00000000000001\n"
          ]
        }
      ]
    },
    {
      "cell_type": "code",
      "metadata": {
        "colab": {
          "base_uri": "https://localhost:8080/"
        },
        "id": "rf31EQS2DcVa",
        "outputId": "9b63bc95-da3b-46f4-87e5-42b99af001bb"
      },
      "source": [
        "#the inner product of vectors for 1-D arrays (without complex conjugation) and in higher dimension\n",
        "\n",
        "a1 = np.array([1,5,6,3])\n",
        "a2 = np.array([3,5,7,9])\n",
        "\n",
        "result = np.inner(a1, a2)\n",
        "print(result)"
      ],
      "execution_count": null,
      "outputs": [
        {
          "output_type": "stream",
          "name": "stdout",
          "text": [
            "97\n"
          ]
        }
      ]
    },
    {
      "cell_type": "code",
      "metadata": {
        "colab": {
          "base_uri": "https://localhost:8080/"
        },
        "id": "yFFvGGOEV3Y3",
        "outputId": "80adaa77-ef9a-4c84-b4ca-5ced2b8ed26b"
      },
      "source": [
        "##5) Xây dựng cấu trúc Stack theo cú pháp sau:\n",
        "class Stack:\n",
        "  def __init__(self):\n",
        "    self.st=[]\n",
        "  def push(self, el):\n",
        "    self.st.append(el)\n",
        "  def pop(self):\n",
        "    return self.st.pop()\n",
        "  def isEmpty(self):\n",
        "    return self.st == []\n",
        "  def size(self):\n",
        "    return len(self.st)\n",
        "  def top(self):\n",
        "    return self.st[-1]\n",
        "\n",
        "if __name__ == '__main__':\n",
        "  st = Stack()\n",
        "  st.push(5)\n",
        "  st.push(7)\n",
        "  st.push(9)\n",
        "  print(st.pop())\n",
        "  print(st.top())"
      ],
      "execution_count": null,
      "outputs": [
        {
          "output_type": "stream",
          "name": "stdout",
          "text": [
            "9\n",
            "7\n"
          ]
        }
      ]
    },
    {
      "cell_type": "code",
      "metadata": {
        "colab": {
          "base_uri": "https://localhost:8080/"
        },
        "id": "Jwcwk1hhZSzW",
        "outputId": "24c878c2-1ec1-4184-996b-4f9591bfd170"
      },
      "source": [
        "##sử dụng Stack để nhập vào 1 số ở dạng thập phân, in ra số đó ở hệ nhị phân tương ứng.\n",
        "dec=int(input('Nhap so can chuyen doi: '))\n",
        "print('Decimal num: ', dec)\n",
        "result=''\n",
        "\n",
        "st1= Stack()\n",
        "while dec>0:\n",
        "  flag=dec%2\n",
        "  st1.push(flag)\n",
        "  dec=dec//2\n",
        "while st1.isEmpty() == False:\n",
        "  result = result + str(st1.top())\n",
        "  st1.pop()\n",
        "\n",
        "print('Binary num: ', result)"
      ],
      "execution_count": null,
      "outputs": [
        {
          "output_type": "stream",
          "name": "stdout",
          "text": [
            "Nhap so can chuyen doi: 10\n",
            "Decimal num:  10\n",
            "Binary num:  1010\n"
          ]
        }
      ]
    },
    {
      "cell_type": "code",
      "metadata": {
        "colab": {
          "base_uri": "https://localhost:8080/"
        },
        "id": "x_3LYz0dembs",
        "outputId": "86817c11-a778-433c-e6d8-214a1df399dd"
      },
      "source": [
        "##6: Viết các hàm để tính các số phép toán + - * / với các số nguyên lớn\n",
        "def Add(bigIntA,bigIntB):\n",
        "  return bigIntA + bigIntB\n",
        "def Sub(bigIntA, bigIntB):\n",
        "  return bigIntA - bigIntB\n",
        "def Mul(bigIntA, bigIntB):\n",
        "  return bigIntA * bigIntB\n",
        "def Div(bigIntA, bigIntB):\n",
        "  return bigIntA // bigIntB\n",
        "if __name__ == '__main__':\n",
        "  a= int(1000**100)\n",
        "  b= int(2**100)\n",
        "  print('Add: ', Add(a,b))\n",
        "  print('Sub: ', Sub(a,b))\n",
        "  print('Mul: ', Mul(a,b))\n",
        "  print('Div: ', Div(a,b))"
      ],
      "execution_count": null,
      "outputs": [
        {
          "output_type": "stream",
          "name": "stdout",
          "text": [
            "Add:  1000000000000000000000000000000000000000000000000000000000000000000000000000000000000000000000000000000000000000000000000000000000000000000000000000000000000000000000000000000000000000000000000000000000000000000000000000000000000000000000000000000000000000000000000000001267650600228229401496703205376\n",
            "Sub:  999999999999999999999999999999999999999999999999999999999999999999999999999999999999999999999999999999999999999999999999999999999999999999999999999999999999999999999999999999999999999999999999999999999999999999999999999999999999999999999999999999999999999999999999999998732349399771770598503296794624\n",
            "Mul:  1267650600228229401496703205376000000000000000000000000000000000000000000000000000000000000000000000000000000000000000000000000000000000000000000000000000000000000000000000000000000000000000000000000000000000000000000000000000000000000000000000000000000000000000000000000000000000000000000000000000000000000000000000000000000000000\n",
            "Div:  788860905221011805411728565282786229673206435109023004770278930664062500000000000000000000000000000000000000000000000000000000000000000000000000000000000000000000000000000000000000000000000000000000000000000000000000000000000000000000000000000000000000000000000000000000\n"
          ]
        }
      ]
    }
  ]
}