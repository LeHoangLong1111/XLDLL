{
  "nbformat": 4,
  "nbformat_minor": 0,
  "metadata": {
    "colab": {
      "name": "Untitled18.ipynb",
      "provenance": [],
      "collapsed_sections": []
    },
    "kernelspec": {
      "name": "python3",
      "display_name": "Python 3"
    },
    "language_info": {
      "name": "python"
    }
  },
  "cells": [
    {
      "cell_type": "code",
      "metadata": {
        "colab": {
          "base_uri": "https://localhost:8080/"
        },
        "id": "T2XUNkcmZgad",
        "outputId": "16a1f60b-c6d1-44ec-e3fd-7e2c11fa6b44"
      },
      "source": [
        "##1\n",
        "from collections import Counter\n",
        "voted=['Hung','Ha','Mai','Mai','Lan','Hoang','Hung','Mai', 'Mai','Thai','Bao','Mai']\n",
        "count=Counter(voted)\n",
        "print(count)"
      ],
      "execution_count": 15,
      "outputs": [
        {
          "output_type": "stream",
          "name": "stdout",
          "text": [
            "Counter({'Mai': 5, 'Hung': 2, 'Ha': 1, 'Lan': 1, 'Hoang': 1, 'Thai': 1, 'Bao': 1})\n"
          ]
        }
      ]
    },
    {
      "cell_type": "code",
      "metadata": {
        "colab": {
          "base_uri": "https://localhost:8080/"
        },
        "id": "YXOZbTMdRAAj",
        "outputId": "8d4b25e9-2405-4d7c-ad6a-5bbd40ad9229"
      },
      "source": [
        "##2\n",
        "file = open(\"abc.txt\", \"rt\")\n",
        "data = file.read()\n",
        "num_words = data.split()\n",
        "print('Words in file :', num_words)\n",
        "print('Number of words in file :', len(num_words))"
      ],
      "execution_count": 18,
      "outputs": [
        {
          "output_type": "stream",
          "name": "stdout",
          "text": [
            "Words in file : ['abcdabcd', 'aaa', 'fjd', 'jjdbc', 'jjabj', 'nnhbc']\n",
            "Number of words in file : 6\n"
          ]
        }
      ]
    },
    {
      "cell_type": "code",
      "metadata": {
        "colab": {
          "base_uri": "https://localhost:8080/"
        },
        "id": "SKy5tvaQVF0e",
        "outputId": "07030434-0c57-4742-c9c7-3f0ed390a066"
      },
      "source": [
        "##3\n",
        "def symmetrical_char(a):\n",
        "  if (a[::-1]==a):\n",
        "    return 1\n",
        "  return 0\n",
        "\n",
        "b=\"abba\"\n",
        "flag=symmetrical_char(b)\n",
        "if (flag==1):\n",
        "  print(b + \" la chuoi doi xung\")\n",
        "else:\n",
        "  print(b + \"ko la chuoi doi xung\")"
      ],
      "execution_count": 14,
      "outputs": [
        {
          "output_type": "stream",
          "name": "stdout",
          "text": [
            "abba la chuoi doi xung\n"
          ]
        }
      ]
    },
    {
      "cell_type": "code",
      "metadata": {
        "colab": {
          "base_uri": "https://localhost:8080/"
        },
        "id": "oVeSNxB8VYac",
        "outputId": "7aeb87c2-f8b8-4c2e-909a-9c8b37e6284b"
      },
      "source": [
        "##4\n",
        "x = {'key1' : 1, 'key2' : '3', 'key3' : '2'}\n",
        "y={'key1' : 1, 'key2' : '2'}\n",
        "\n",
        "for key, val in x.items():\n",
        "  for key2, val2 in y.items():\n",
        "    if(key==key2 and val==val2):\n",
        "      print(key + \":\" + str(val))"
      ],
      "execution_count": 47,
      "outputs": [
        {
          "output_type": "stream",
          "name": "stdout",
          "text": [
            "key1:1\n"
          ]
        }
      ]
    },
    {
      "cell_type": "code",
      "metadata": {
        "colab": {
          "base_uri": "https://localhost:8080/"
        },
        "id": "p_KPjYTqaWwc",
        "outputId": "f078b775-4363-4df9-ad06-b170cdb06c7e"
      },
      "source": [
        "import json \n",
        "      \n",
        "dictionary ={ \n",
        "  \"MSSV\": \"518H0035\", \n",
        "  \"Name\": \"Le Hoang Long\", \n",
        "  \"Age\": \"21\",\n",
        "  \"Address\": \"Tay Ninh\"\n",
        "} \n",
        "      \n",
        "json_object = json.dumps(dictionary, indent = 4) \n",
        "print(json_object)\n",
        "\n",
        "with open(\"cau5.json\", \"w\") as outfile:\n",
        "    json.dump(dictionary, outfile)"
      ],
      "execution_count": 48,
      "outputs": [
        {
          "output_type": "stream",
          "name": "stdout",
          "text": [
            "{\n",
            "    \"MSSV\": \"518H0035\",\n",
            "    \"Name\": \"Le Hoang Long\",\n",
            "    \"Age\": \"21\",\n",
            "    \"Address\": \"Tay Ninh\"\n",
            "}\n"
          ]
        }
      ]
    }
  ]
}