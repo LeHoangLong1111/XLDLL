{
  "nbformat": 4,
  "nbformat_minor": 0,
  "metadata": {
    "colab": {
      "name": "Lê Hoàng Long - 518H0035.ipynb",
      "provenance": [],
      "collapsed_sections": []
    },
    "kernelspec": {
      "name": "python3",
      "display_name": "Python 3"
    },
    "language_info": {
      "name": "python"
    }
  },
  "cells": [
    {
      "cell_type": "code",
      "metadata": {
        "id": "KsyiqLq9tOj6"
      },
      "source": [
        "##1Ra biểu diễn vector của câu đó (có thể sử dụng word2vec đã được pretrained trước:FastText, PhoBER,… hoặc xây dựng dựa trên Glove, Embedding), lưu kết quả vào file."
      ],
      "execution_count": null,
      "outputs": []
    },
    {
      "cell_type": "code",
      "metadata": {
        "id": "HgqGXHv6rg6F"
      },
      "source": [
        "import numpy as np\n",
        "import matplotlib.pyplot as plt"
      ],
      "execution_count": 27,
      "outputs": []
    },
    {
      "cell_type": "code",
      "metadata": {
        "colab": {
          "base_uri": "https://localhost:8080/"
        },
        "id": "8O20z2barqMb",
        "outputId": "2a9088a8-7c60-47b5-e29b-5507db40f6e4"
      },
      "source": [
        "input = [\"Tôi yêu Việt Nam.\", \"Tôi trân trọng gia đình tôi\",\"Tôi thương em.\", \"Tôi yêu quý gia đình em\" ]\n",
        "\n",
        "words = []\n",
        "for sentences in input:\n",
        "    words.extend(sentences.split())\n",
        "words = list(set(words))\n",
        "words.sort()\n",
        "print(words)\n",
        "X = np.zeros([len(words), len(words)])\n",
        "print(X)"
      ],
      "execution_count": 34,
      "outputs": [
        {
          "output_type": "stream",
          "name": "stdout",
          "text": [
            "['Nam.', 'Tôi', 'Việt', 'em', 'em.', 'gia', 'quý', 'thương', 'trân', 'trọng', 'tôi', 'yêu', 'đình']\n",
            "[[0. 0. 0. 0. 0. 0. 0. 0. 0. 0. 0. 0. 0.]\n",
            " [0. 0. 0. 0. 0. 0. 0. 0. 0. 0. 0. 0. 0.]\n",
            " [0. 0. 0. 0. 0. 0. 0. 0. 0. 0. 0. 0. 0.]\n",
            " [0. 0. 0. 0. 0. 0. 0. 0. 0. 0. 0. 0. 0.]\n",
            " [0. 0. 0. 0. 0. 0. 0. 0. 0. 0. 0. 0. 0.]\n",
            " [0. 0. 0. 0. 0. 0. 0. 0. 0. 0. 0. 0. 0.]\n",
            " [0. 0. 0. 0. 0. 0. 0. 0. 0. 0. 0. 0. 0.]\n",
            " [0. 0. 0. 0. 0. 0. 0. 0. 0. 0. 0. 0. 0.]\n",
            " [0. 0. 0. 0. 0. 0. 0. 0. 0. 0. 0. 0. 0.]\n",
            " [0. 0. 0. 0. 0. 0. 0. 0. 0. 0. 0. 0. 0.]\n",
            " [0. 0. 0. 0. 0. 0. 0. 0. 0. 0. 0. 0. 0.]\n",
            " [0. 0. 0. 0. 0. 0. 0. 0. 0. 0. 0. 0. 0.]\n",
            " [0. 0. 0. 0. 0. 0. 0. 0. 0. 0. 0. 0. 0.]]\n"
          ]
        }
      ]
    },
    {
      "cell_type": "code",
      "metadata": {
        "colab": {
          "base_uri": "https://localhost:8080/"
        },
        "id": "cw902JOUwmsZ",
        "outputId": "6edce5fd-8f92-41a5-bafd-fd4e1abeb397"
      },
      "source": [
        "\n",
        "for sentences in input:\n",
        "    tokens = sentences.split()\n",
        "    for i, token in enumerate(tokens):\n",
        "        if(i == 0):\n",
        "            X[words.index(token), words.index(tokens[i + 1])] += 1\n",
        "        elif(i == len(tokens) - 1):\n",
        "            X[words.index(token), words.index(tokens[i - 1])] += 1\n",
        "        else:\n",
        "            X[words.index(token), words.index(tokens[i + 1])] += 1\n",
        "            X[words.index(token), words.index(tokens[i - 1])] += 1\n",
        "print(X)\n",
        "\n",
        "# save numpy array as csv file\n",
        "from numpy import asarray\n",
        "from numpy import savetxt\n",
        "# define data\n",
        "data = asarray(X)\n",
        "# save to csv file\n",
        "savetxt('cau1.csv', data, delimiter=',')"
      ],
      "execution_count": 35,
      "outputs": [
        {
          "output_type": "stream",
          "name": "stdout",
          "text": [
            "[[0. 0. 1. 0. 0. 0. 0. 0. 0. 0. 0. 0. 0.]\n",
            " [0. 0. 0. 0. 0. 0. 0. 1. 1. 0. 0. 2. 0.]\n",
            " [1. 0. 0. 0. 0. 0. 0. 0. 0. 0. 0. 1. 0.]\n",
            " [0. 0. 0. 0. 0. 0. 0. 0. 0. 0. 0. 0. 1.]\n",
            " [0. 0. 0. 0. 0. 0. 0. 1. 0. 0. 0. 0. 0.]\n",
            " [0. 0. 0. 0. 0. 0. 1. 0. 0. 1. 0. 0. 2.]\n",
            " [0. 0. 0. 0. 0. 1. 0. 0. 0. 0. 0. 1. 0.]\n",
            " [0. 1. 0. 0. 1. 0. 0. 0. 0. 0. 0. 0. 0.]\n",
            " [0. 1. 0. 0. 0. 0. 0. 0. 0. 1. 0. 0. 0.]\n",
            " [0. 0. 0. 0. 0. 1. 0. 0. 1. 0. 0. 0. 0.]\n",
            " [0. 0. 0. 0. 0. 0. 0. 0. 0. 0. 0. 0. 1.]\n",
            " [0. 2. 1. 0. 0. 0. 1. 0. 0. 0. 0. 0. 0.]\n",
            " [0. 0. 0. 1. 0. 2. 0. 0. 0. 0. 1. 0. 0.]]\n"
          ]
        }
      ]
    },
    {
      "cell_type": "code",
      "metadata": {
        "colab": {
          "base_uri": "https://localhost:8080/",
          "height": 269
        },
        "id": "IChjN5Q8sN_G",
        "outputId": "b211d903-53a7-45b6-fd63-a23f4763e2ed"
      },
      "source": [
        "la = np.linalg\n",
        "U, s, Vh = la.svd(X, full_matrices=False)\n",
        "plt.xlim(-1, 1)\n",
        "plt.ylim(-1, 1)\n",
        "for i in range(len(words)):\n",
        "    plt.text(U[i, 0], U[i, 1], words[i])\n",
        "\n",
        "plt.show()"
      ],
      "execution_count": 36,
      "outputs": [
        {
          "output_type": "display_data",
          "data": {
            "image/png": "[encoded data removed]",
            "text/plain": [
              "<Figure size 432x288 with 1 Axes>"
            ]
          },
          "metadata": {
            "needs_background": "light"
          }
        }
      ]
    },
    {
      "cell_type": "code",
      "metadata": {
        "id": "M_z8w7KorySY"
      },
      "source": [
        "##2 Vào một jpg Ra matrix của hình đó được chuyển đổi tự động nhờ thư viện, lưu kết quả vào file"
      ],
      "execution_count": null,
      "outputs": []
    },
    {
      "cell_type": "code",
      "metadata": {
        "colab": {
          "base_uri": "https://localhost:8080/"
        },
        "id": "EGm4d3HA5Siu",
        "outputId": "d1e8d59e-72e0-4950-bf3a-81806d6c3b45"
      },
      "source": [
        "pip install Pillow"
      ],
      "execution_count": 37,
      "outputs": [
        {
          "output_type": "stream",
          "name": "stdout",
          "text": [
            "Requirement already satisfied: Pillow in /usr/local/lib/python3.7/dist-packages (7.1.2)\n"
          ]
        }
      ]
    },
    {
      "cell_type": "code",
      "metadata": {
        "colab": {
          "base_uri": "https://localhost:8080/"
        },
        "id": "HQKpe_qk5YiV",
        "outputId": "f2e6bcf9-7ba3-47d5-b9e9-a4e7b5272d0c"
      },
      "source": [
        "from PIL import Image\n",
        "from numpy import asarray\n",
        "  \n",
        "  \n",
        "# load the image and convert into \n",
        "# numpy array\n",
        "img = Image.open('poro.jpg')\n",
        "cau2 = asarray(img)\n",
        "  \n",
        "# data\n",
        "print(cau2)\n",
        "data = asarray(cau2)\n",
        "# save to csv file\n",
        "savetxt('cau2.csv', data, delimiter=',')"
      ],
      "execution_count": 43,
      "outputs": [
        {
          "output_type": "stream",
          "name": "stdout",
          "text": [
            "[[255 255 255 ... 255 255 255]\n",
            " [255 255 255 ... 255 255 255]\n",
            " [255 255 255 ... 255 255 255]\n",
            " ...\n",
            " [255 255 255 ... 255 255 255]\n",
            " [255 255 255 ... 255 255 255]\n",
            " [255 255 255 ... 255 255 255]]\n"
          ]
        }
      ]
    },
    {
      "cell_type": "code",
      "metadata": {
        "id": "AM5Ab8k762et"
      },
      "source": [
        ""
      ],
      "execution_count": null,
      "outputs": []
    }
  ]
}